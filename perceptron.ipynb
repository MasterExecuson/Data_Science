{
 "cells": [
  {
   "cell_type": "code",
   "execution_count": 26,
   "metadata": {},
   "outputs": [],
   "source": [
    "import numpy as np\n",
    "from keras.datasets import mnist\n",
    "\n",
    "\n",
    "def unit_step_func(x):\n",
    "    return np.where(x > 0, 1, 0)\n",
    "\n",
    "def sigmoid(x):\n",
    "    return 1 / (1 + np.exp(-x))\n",
    "\n",
    "def sigmoid_derivative(x):\n",
    "    return x * (1  - x)\n",
    "\n",
    "\n",
    "class Perceptron:\n",
    "    def __init__(self, learning_rate=0.01, n_iters=1000):\n",
    "        self.lr = learning_rate\n",
    "        self.n_iters = n_iters\n",
    "        self.weights = None\n",
    "        self.bias = 0\n",
    "        #self.best_weights = None\n",
    "        #self.best_bias = None\n",
    "        #self.best_error = float('inf')\n",
    "\n",
    "\n",
    "\n",
    "    def fit(self, X, y):\n",
    "        n_samples, n_features = X.shape\n",
    "        # self.weights = np.random.uniform(size=(n_features))\n",
    "        self.weights = np.zeros(n_features)\n",
    "        #self.best_weights = self.weights.copy()\n",
    "        #self.best_bias = self.bias\n",
    "        for _ in range(self.n_iters):\n",
    "            for x_i, y_i in zip(X, y):\n",
    "                linear_output = np.dot(x_i, self.weights) + self.bias\n",
    "                y_predicted = sigmoid(linear_output)\n",
    "                \n",
    "                error =  y_i - y_predicted\n",
    "                \n",
    "                output_error = error * sigmoid_derivative(y_predicted)\n",
    "                \n",
    "                self.weights += x_i.T.dot(output_error) * self.lr\n",
    "                \n",
    "                \n",
    "                self.bias += np.sum(output_error, axis=0, keepdims=True) * self.lr\n",
    "\n",
    "            #current_error = np.mean(np.abs(y - self.predict(X)))\n",
    "            #if current_error < self.best_error:\n",
    "            #    self.best_weights = self.weights.copy()\n",
    "            #    self.best_bias = self.bias\n",
    "            #    self.best_error = current_error\n",
    "\n",
    "    def predict(self, X):\n",
    "        linear_output = np.dot(X, self.weights) + self.bias\n",
    "        y_predicted = sigmoid(linear_output)\n",
    "        return y_predicted"
   ]
  },
  {
   "cell_type": "code",
   "execution_count": 27,
   "metadata": {},
   "outputs": [],
   "source": [
    "(train_images, train_labels), (test_images, test_labels) = mnist.load_data()\n",
    "\n",
    "# Redimensionar as imagens para 5x7\n",
    "# new_shape = (5, 7)\n",
    "train_images_resized = np.zeros((train_images.shape[0], 784))\n",
    "test_images_resized = np.zeros((test_images.shape[0], 784))\n",
    "\n",
    "\n",
    "\n",
    "for i in range(train_images.shape[0]):\n",
    "    train_images_resized[i] = np.resize(train_images[i]/np.max(train_images[i]), 784).flatten()\n",
    "\n",
    "for i in range(test_images.shape[0]):\n",
    "    test_images_resized[i] = np.resize(test_images[i]/np.max(train_images[i]), 784).flatten()"
   ]
  },
  {
   "cell_type": "code",
   "execution_count": 28,
   "metadata": {},
   "outputs": [],
   "source": [
    "train_labels = [ 1 if label == 0 else 0 for label in train_labels]"
   ]
  },
  {
   "cell_type": "code",
   "execution_count": 29,
   "metadata": {},
   "outputs": [],
   "source": [
    "test_labels = [ 1 if label == 0 else 0 for label in test_labels]"
   ]
  },
  {
   "cell_type": "code",
   "execution_count": 30,
   "metadata": {},
   "outputs": [],
   "source": [
    "train_images_resized = train_images_resized[:10]\n",
    "train_labels = train_labels[:10]"
   ]
  },
  {
   "cell_type": "code",
   "execution_count": 31,
   "metadata": {},
   "outputs": [],
   "source": [
    "test_images_resized = test_images_resized[:10]\n",
    "test_labels = test_labels[:10]"
   ]
  },
  {
   "cell_type": "code",
   "execution_count": 32,
   "metadata": {},
   "outputs": [],
   "source": [
    "\n",
    "\n",
    "digits_to_recognize = [0]\n",
    "\n",
    "\n",
    "X, y = train_images_resized,train_labels\n",
    "# X, y = load_images_from_folder(\"data\", digit_to_recognize)\n",
    "p = Perceptron(learning_rate=0.05,n_iters=100000)\n",
    "p.fit(X, y)"
   ]
  },
  {
   "cell_type": "code",
   "execution_count": 33,
   "metadata": {},
   "outputs": [
    {
     "data": {
      "text/plain": [
       "array([0.02672039, 0.04857596, 0.0325426 , 0.54004362, 0.01357962,\n",
       "       0.0050383 , 0.00144283, 0.00152423, 0.00244313, 0.00185735])"
      ]
     },
     "execution_count": 33,
     "metadata": {},
     "output_type": "execute_result"
    }
   ],
   "source": [
    "p.predict(test_images_resized)"
   ]
  },
  {
   "cell_type": "code",
   "execution_count": 34,
   "metadata": {},
   "outputs": [
    {
     "data": {
      "text/plain": [
       "[0, 0, 0, 1, 0, 0, 0, 0, 0, 0]"
      ]
     },
     "execution_count": 34,
     "metadata": {},
     "output_type": "execute_result"
    }
   ],
   "source": [
    "test_labels"
   ]
  },
  {
   "cell_type": "code",
   "execution_count": null,
   "metadata": {},
   "outputs": [],
   "source": [
    "np.set_printoptions(precision=6, suppress=True)"
   ]
  },
  {
   "cell_type": "code",
   "execution_count": null,
   "metadata": {},
   "outputs": [
    {
     "data": {
      "text/plain": [
       "[0, 0, 0, 1, 0, 0, 1, 0, 1, 0]"
      ]
     },
     "execution_count": 70,
     "metadata": {},
     "output_type": "execute_result"
    }
   ],
   "source": [
    "train_labels"
   ]
  },
  {
   "cell_type": "code",
   "execution_count": null,
   "metadata": {},
   "outputs": [
    {
     "data": {
      "text/plain": [
       "array([0.     , 0.     , 0.     , 0.     , 0.     , 0.     , 0.     ,\n",
       "       0.     , 0.     , 0.     , 0.     , 0.     , 0.     , 0.     ,\n",
       "       0.     , 0.     , 0.     , 0.     , 0.     , 0.     , 0.     ,\n",
       "       0.     , 0.     , 0.     , 0.     , 0.     , 0.     , 0.     ,\n",
       "       0.     , 0.     , 0.     , 0.     , 0.     , 0.     , 0.     ,\n",
       "       0.     , 0.     , 0.     , 0.     , 0.     , 0.     , 0.     ,\n",
       "       0.     , 0.     , 0.     , 0.     , 0.     , 0.     , 0.     ,\n",
       "       0.     , 0.     , 0.     , 0.     , 0.     , 0.     , 0.     ,\n",
       "       0.     , 0.     , 0.     , 0.     , 0.     , 0.     , 0.     ,\n",
       "       0.     , 0.     , 0.     , 0.     , 0.     , 0.     , 0.     ,\n",
       "       0.     , 0.     , 0.     , 0.     , 0.     , 0.     , 0.     ,\n",
       "       0.     , 0.     , 0.     , 0.     , 0.     , 0.     , 0.     ,\n",
       "       0.     , 0.     , 0.     , 0.     , 0.     , 0.     , 0.     ,\n",
       "       0.     , 0.     , 0.     , 0.     , 0.     , 0.     , 0.     ,\n",
       "       0.     , 0.     , 0.     , 0.     , 0.     , 0.     , 0.     ,\n",
       "       0.     , 0.     , 0.     , 0.     , 0.     , 0.     , 0.     ,\n",
       "       0.     , 0.     , 0.     , 0.     , 0.     , 0.     , 0.     ,\n",
       "       0.     , 0.     , 0.     , 0.     , 0.     , 0.     , 0.     ,\n",
       "       0.     , 0.     , 0.     , 0.     , 0.     , 0.     , 0.     ,\n",
       "       0.     , 0.     , 0.     , 0.     , 0.     , 0.     , 0.     ,\n",
       "       0.     , 0.     , 0.     , 0.     , 0.     , 0.     , 0.     ,\n",
       "       0.     , 0.     , 0.     , 0.     , 0.     , 0.00375, 0.0225 ,\n",
       "       0.0225 , 0.0225 , 0.1575 , 0.17   , 0.21875, 0.0325 , 0.2075 ,\n",
       "       0.31875, 0.30875, 0.15875, 0.     , 0.     , 0.     , 0.     ,\n",
       "       0.     , 0.     , 0.     , 0.     , 0.     , 0.     , 0.     ,\n",
       "       0.     , 0.0375 , 0.045  , 0.1175 , 0.1925 , 0.2125 , 0.31625,\n",
       "       0.31625, 0.31625, 0.31625, 0.31625, 0.28125, 0.215  , 0.31625,\n",
       "       0.3025 , 0.24375, 0.08   , 0.     , 0.     , 0.     , 0.     ,\n",
       "       0.     , 0.     , 0.     , 0.     , 0.     , 0.     , 0.     ,\n",
       "       0.06125, 0.2975 , 0.31625, 0.31625, 0.31625, 0.31625, 0.31625,\n",
       "       0.31625, 0.31625, 0.31625, 0.31375, 0.11625, 0.1025 , 0.1025 ,\n",
       "       0.07   , 0.04875, 0.     , 0.     , 0.     , 0.     , 0.     ,\n",
       "       0.     , 0.     , 0.     , 0.     , 0.     , 0.     , 0.     ,\n",
       "       0.0225 , 0.27375, 0.31625, 0.31625, 0.31625, 0.31625, 0.31625,\n",
       "       0.2475 , 0.2275 , 0.30875, 0.30125, 0.     , 0.     , 0.     ,\n",
       "       0.     , 0.     , 0.     , 0.     , 0.     , 0.     , 0.     ,\n",
       "       0.     , 0.     , 0.     , 0.     , 0.     , 0.     , 0.     ,\n",
       "       0.     , 0.1    , 0.195  , 0.13375, 0.31625, 0.31625, 0.25625,\n",
       "       0.01375, 0.     , 0.05375, 0.1925 , 0.     , 0.     , 0.     ,\n",
       "       0.     , 0.     , 0.     , 0.     , 0.     , 0.     , 0.     ,\n",
       "       0.     , 0.     , 0.     , 0.     , 0.     , 0.     , 0.     ,\n",
       "       0.     , 0.     , 0.0175 , 0.00125, 0.1925 , 0.31625, 0.1125 ,\n",
       "       0.     , 0.     , 0.     , 0.     , 0.     , 0.     ])"
      ]
     },
     "execution_count": 142,
     "metadata": {},
     "output_type": "execute_result"
    }
   ],
   "source": [
    "p.weights"
   ]
  },
  {
   "cell_type": "code",
   "execution_count": null,
   "metadata": {},
   "outputs": [
    {
     "data": {
      "text/plain": [
       "array([  0.,   0.,   0.,   0.,   0.,   0.,   0.,   0.,   0.,   0.,   0.,\n",
       "         0.,   0.,   0.,   0.,   0.,   0.,   0.,   0.,   0.,   0.,   0.,\n",
       "         0.,   0.,   0.,   0.,   0.,   0.,   0.,   0.,   0.,   0.,   0.,\n",
       "         0.,   0.,   0.,   0.,   0.,   0.,   0.,   0.,   0.,   0.,   0.,\n",
       "         0.,   0.,   0.,   0.,   0.,   0.,   0.,   0.,   0.,   0.,   0.,\n",
       "         0.,   0.,   0.,   0.,   0.,   0.,   0.,   0.,   0.,   0.,   0.,\n",
       "         0.,   0.,   0.,   0.,   0.,   0.,   0.,   0.,   0.,   0.,   0.,\n",
       "         0.,   0.,   0.,   0.,   0.,   0.,   0.,   0.,   0.,   0.,   0.,\n",
       "         0.,   0.,   0.,   0.,   0.,   0.,   0.,   0.,   0.,   0.,   0.,\n",
       "         0.,   0.,   0.,   0.,   0.,   0.,   0.,   0.,   0.,   0.,   0.,\n",
       "         0.,   0.,   0.,   0.,   0.,   0.,   0.,   0.,   0.,   0.,   0.,\n",
       "         0.,   0.,   0.,   0.,   0.,   0.,   0.,   0.,   0.,   0.,   0.,\n",
       "         0.,   0.,   0.,   0.,   0.,   0.,   0.,   0.,   0.,   0.,   0.,\n",
       "         0.,   0.,   0.,   0.,   0.,   0.,   0.,   0.,   0.,   3.,  18.,\n",
       "        18.,  18., 126., 136., 175.,  26., 166., 255., 247., 127.,   0.,\n",
       "         0.,   0.,   0.,   0.,   0.,   0.,   0.,   0.,   0.,   0.,   0.,\n",
       "        30.,  36.,  94., 154., 170., 253., 253., 253., 253., 253., 225.,\n",
       "       172., 253., 242., 195.,  64.,   0.,   0.,   0.,   0.,   0.,   0.,\n",
       "         0.,   0.,   0.,   0.,   0.,  49., 238., 253., 253., 253., 253.,\n",
       "       253., 253., 253., 253., 251.,  93.,  82.,  82.,  56.,  39.,   0.,\n",
       "         0.,   0.,   0.,   0.,   0.,   0.,   0.,   0.,   0.,   0.,   0.,\n",
       "        18., 219., 253., 253., 253., 253., 253., 198., 182., 247., 241.,\n",
       "         0.,   0.,   0.,   0.,   0.,   0.,   0.,   0.,   0.,   0.,   0.,\n",
       "         0.,   0.,   0.,   0.,   0.,   0.,   0.,  80., 156., 107., 253.,\n",
       "       253., 205.,  11.,   0.,  43., 154.,   0.,   0.,   0.,   0.,   0.,\n",
       "         0.,   0.,   0.,   0.,   0.,   0.,   0.,   0.,   0.,   0.,   0.,\n",
       "         0.,   0.,   0.,  14.,   1., 154., 253.,  90.,   0.,   0.,   0.,\n",
       "         0.,   0.,   0.])"
      ]
     },
     "execution_count": 143,
     "metadata": {},
     "output_type": "execute_result"
    }
   ],
   "source": [
    "X[0]"
   ]
  },
  {
   "cell_type": "code",
   "execution_count": 45,
   "metadata": {},
   "outputs": [
    {
     "data": {
      "image/png": "[encoded data removed]",
      "text/plain": [
       "<Figure size 640x480 with 1 Axes>"
      ]
     },
     "metadata": {},
     "output_type": "display_data"
    },
    {
     "name": "stdout",
     "output_type": "stream",
     "text": [
      "Rótulo da imagem:  [[0 1 1 1 0]\n",
      " [1 1 0 1 1]\n",
      " [1 0 0 0 1]\n",
      " [1 0 0 0 1]\n",
      " [1 0 0 0 1]\n",
      " [1 1 0 1 1]\n",
      " [0 1 1 1 0]]\n"
     ]
    }
   ],
   "source": [
    "arr = [0,1,1,1,0,1,1,0,1,1,1,0,0,0,1,1,0,0,0,1,1,0,0,0,1,1,1,0,1,1,0,1,1,1,0]\n",
    "image = np.resize(arr, (7,5))\n",
    "import matplotlib.pyplot as plt\n",
    "fig = plt.figure\n",
    "plt.imshow(image, cmap='gray_r')\n",
    "plt.show()\n",
    "print(\"Rótulo da imagem: \", image)"
   ]
  },
  {
   "cell_type": "code",
   "execution_count": 47,
   "metadata": {},
   "outputs": [],
   "source": [
    "arr = [0,0,0,0,1,1,1,1,0,0,1,1,1,1,0,1,1,0,0,0,1,0,0,1,1,0,0,1,1,1,0,0,0,0,0]"
   ]
  },
  {
   "cell_type": "code",
   "execution_count": 48,
   "metadata": {},
   "outputs": [
    {
     "data": {
      "image/png": "[encoded data removed]",
      "text/plain": [
       "<Figure size 640x480 with 1 Axes>"
      ]
     },
     "metadata": {},
     "output_type": "display_data"
    },
    {
     "name": "stdout",
     "output_type": "stream",
     "text": [
      "Rótulo da imagem:  [[0 0 0 0 1]\n",
      " [1 1 1 0 0]\n",
      " [1 1 1 1 0]\n",
      " [1 1 0 0 0]\n",
      " [1 0 0 1 1]\n",
      " [0 0 1 1 1]\n",
      " [0 0 0 0 0]]\n"
     ]
    }
   ],
   "source": [
    "image = np.resize(arr, (7,5))\n",
    "fig = plt.figure\n",
    "plt.imshow(image, cmap='gray_r')\n",
    "plt.show()\n",
    "print(\"Rótulo da imagem: \", image)"
   ]
  },
  {
   "cell_type": "code",
   "execution_count": 41,
   "metadata": {},
   "outputs": [],
   "source": [
    "image = np.resize(arr, (5,7))"
   ]
  },
  {
   "cell_type": "code",
   "execution_count": 42,
   "metadata": {},
   "outputs": [],
   "source": [
    "import matplotlib.pyplot as plt"
   ]
  },
  {
   "cell_type": "code",
   "execution_count": 49,
   "metadata": {},
   "outputs": [
    {
     "ename": "NameError",
     "evalue": "name 'numbers' is not defined",
     "output_type": "error",
     "traceback": [
      "\u001b[1;31m---------------------------------------------------------------------------\u001b[0m",
      "\u001b[1;31mNameError\u001b[0m                                 Traceback (most recent call last)",
      "\u001b[1;32md:\\Users\\User\\Downloads\\TCC Pós Graduação\\src\\test.ipynb Célula 19\u001b[0m line \u001b[0;36m4\n\u001b[0;32m      <a href='vscode-notebook-cell:/d%3A/Users/User/Downloads/TCC%20P%C3%B3s%20Gradua%C3%A7%C3%A3o/src/test.ipynb#X23sZmlsZQ%3D%3D?line=0'>1</a>\u001b[0m this_dict \u001b[39m=\u001b[39m [{\u001b[39m\"\u001b[39m\u001b[39mplayer_1\u001b[39m\u001b[39m\"\u001b[39m:\u001b[39m\"\u001b[39m\u001b[39mPlayer 1\u001b[39m\u001b[39m\"\u001b[39m, \u001b[39m\"\u001b[39m\u001b[39mnumbers\u001b[39m\u001b[39m\"\u001b[39m:{\u001b[39m2\u001b[39m,\u001b[39m5\u001b[39m,\u001b[39m4\u001b[39m,\u001b[39m43\u001b[39m,\u001b[39m12\u001b[39m,\u001b[39m24\u001b[39m}}, {\u001b[39m\"\u001b[39m\u001b[39mplayer_2\u001b[39m\u001b[39m\"\u001b[39m:\u001b[39m\"\u001b[39m\u001b[39mPlayer 2\u001b[39m\u001b[39m\"\u001b[39m, \u001b[39m\"\u001b[39m\u001b[39mnumbers\u001b[39m\u001b[39m\"\u001b[39m:{\u001b[39m12\u001b[39m,\u001b[39m14\u001b[39m,\u001b[39m23\u001b[39m,\u001b[39m35\u001b[39m,\u001b[39m15\u001b[39m,\u001b[39m6\u001b[39m}}, {\u001b[39m\"\u001b[39m\u001b[39mplayer_3\u001b[39m\u001b[39m\"\u001b[39m:\u001b[39m\"\u001b[39m\u001b[39mPlayer 3\u001b[39m\u001b[39m\"\u001b[39m, \u001b[39m\"\u001b[39m\u001b[39mnumbers\u001b[39m\u001b[39m\"\u001b[39m:{\u001b[39m32\u001b[39m,\u001b[39m2\u001b[39m,\u001b[39m65\u001b[39m,\u001b[39m35\u001b[39m,\u001b[39m32\u001b[39m}}, {\u001b[39m\"\u001b[39m\u001b[39mplayer_4\u001b[39m\u001b[39m\"\u001b[39m:\u001b[39m\"\u001b[39m\u001b[39mPlayer 4\u001b[39m\u001b[39m\"\u001b[39m, \u001b[39m\"\u001b[39m\u001b[39mnumbers\u001b[39m\u001b[39m\"\u001b[39m:{\u001b[39m24\u001b[39m,\u001b[39m23\u001b[39m,\u001b[39m26\u001b[39m,\u001b[39m58\u001b[39m,\u001b[39m27\u001b[39m}}]\n\u001b[0;32m      <a href='vscode-notebook-cell:/d%3A/Users/User/Downloads/TCC%20P%C3%B3s%20Gradua%C3%A7%C3%A3o/src/test.ipynb#X23sZmlsZQ%3D%3D?line=2'>3</a>\u001b[0m \u001b[39mfor\u001b[39;00m playername \u001b[39min\u001b[39;00m this_dict:\n\u001b[1;32m----> <a href='vscode-notebook-cell:/d%3A/Users/User/Downloads/TCC%20P%C3%B3s%20Gradua%C3%A7%C3%A3o/src/test.ipynb#X23sZmlsZQ%3D%3D?line=3'>4</a>\u001b[0m     inter_var \u001b[39m=\u001b[39m \u001b[39mlen\u001b[39m(this_dict[numbers]\u001b[39m.\u001b[39mintersection(playername))\n\u001b[0;32m      <a href='vscode-notebook-cell:/d%3A/Users/User/Downloads/TCC%20P%C3%B3s%20Gradua%C3%A7%C3%A3o/src/test.ipynb#X23sZmlsZQ%3D%3D?line=4'>5</a>\u001b[0m     top_player \u001b[39m=\u001b[39m playername\n\u001b[0;32m      <a href='vscode-notebook-cell:/d%3A/Users/User/Downloads/TCC%20P%C3%B3s%20Gradua%C3%A7%C3%A3o/src/test.ipynb#X23sZmlsZQ%3D%3D?line=6'>7</a>\u001b[0m     \u001b[39mif\u001b[39;00m inter_var \u001b[39m>\u001b[39m \u001b[39mlen\u001b[39m(top_player[numbers]\u001b[39m.\u001b[39mintersection(lottery_numbers)):\n",
      "\u001b[1;31mNameError\u001b[0m: name 'numbers' is not defined"
     ]
    }
   ],
   "source": [
    "this_dict = [{\"player_1\":\"Player 1\", \"numbers\":{2,5,4,43,12,24}}, {\"player_2\":\"Player 2\", \"numbers\":{12,14,23,35,15,6}}, {\"player_3\":\"Player 3\", \"numbers\":{32,2,65,35,32}}, {\"player_4\":\"Player 4\", \"numbers\":{24,23,26,58,27}}]\n",
    "\n",
    "for playername in this_dict:\n",
    "    inter_var = len(this_dict[numbers].intersection(playername))\n",
    "    top_player = playername\n",
    " \n",
    "    if inter_var > len(top_player[numbers].intersection(lottery_numbers)):\n",
    "        print(f\"{top_player} won {winnings}\")"
   ]
  },
  {
   "cell_type": "code",
   "execution_count": null,
   "metadata": {},
   "outputs": [],
   "source": []
  }
 ],
 "metadata": {
  "kernelspec": {
   "display_name": "base",
   "language": "python",
   "name": "python3"
  },
  "language_info": {
   "codemirror_mode": {
    "name": "ipython",
    "version": 3
   },
   "file_extension": ".py",
   "mimetype": "text/x-python",
   "name": "python",
   "nbconvert_exporter": "python",
   "pygments_lexer": "ipython3",
   "version": "3.10.9"
  }
 },
 "nbformat": 4,
 "nbformat_minor": 2
}
