{
 "cells": [
  {
   "cell_type": "code",
   "execution_count": 1,
   "metadata": {},
   "outputs": [],
   "source": [
    "import pandas as pd\n",
    "import numpy as np\n",
    "import mne\n",
    "import matplotlib.pyplot as plt\n",
    "\n",
    "from sklearn.metrics import accuracy_score, precision_score, recall_score, f1_score, confusion_matrix,make_scorer,classification_report\n",
    "from keras.models import Sequential\n",
    "from keras.layers import Dense\n",
    "from sklearn.model_selection import StratifiedKFold\n",
    "from sklearn.metrics import classification_report\n",
    "import numpy as np\n",
    "from keras.optimizers import SGD\n",
    "from sklearn.model_selection import train_test_split\n",
    "from sklearn.preprocessing import OneHotEncoder\n",
    "\n",
    "from sklearn.neural_network import MLPClassifier\n",
    "from sklearn.model_selection import train_test_split\n",
    "from sklearn.preprocessing import StandardScaler\n",
    "from sklearn.model_selection import ShuffleSplit, cross_validate,GridSearchCV,RandomizedSearchCV,train_test_split\n",
    "from sklearn.decomposition import PCA\n",
    "from umap import UMAP\n",
    "from sklearn.preprocessing import LabelEncoder\n",
    "from mne.preprocessing import EOGRegression\n",
    "import seaborn as sns\n",
    "sns.set_style(\"whitegrid\")\n",
    "plt.rcParams['figure.figsize'] = (10, 6)"
   ]
  },
  {
   "cell_type": "code",
   "execution_count": 2,
   "metadata": {},
   "outputs": [],
   "source": [
    "# !pip install umap-learn"
   ]
  },
  {
   "cell_type": "code",
   "execution_count": 3,
   "metadata": {},
   "outputs": [],
   "source": [
    "np.set_printoptions(precision=6, suppress=True)"
   ]
  },
  {
   "cell_type": "code",
   "execution_count": 28,
   "metadata": {},
   "outputs": [],
   "source": [
    "\n",
    "class FFT:\n",
    "    def __init__(self,timeSeries,fs=160):\n",
    "        self.getFFT(timeSeries,fs)\n",
    "\n",
    "    def getFFT(self, timeSeries,fs=160):\n",
    "        self.N = len(timeSeries)\n",
    "        self.T = 1/fs\n",
    "        self.t = np.arange(0,self.N/fs,self.T)\n",
    "        f = np.fft.fftfreq(self.N,self.T)\n",
    "        # self.data,self.f = np.abs(np.fft.fft(timeSeries))[f>0],f[f>0]\n",
    "        self.data,self.f = np.real(np.fft.fft(timeSeries))[f>0],f[f>0]\n",
    "\n",
    "    def plotFFT(self):\n",
    "        plt.figure()\n",
    "        plt.plot(self.f,(self.data)*(1/self.N))\n",
    "        plt.show()\n",
    "        return\n",
    "\n",
    "    # filtragem da rede (intervalo indicado é de 0.5 até 42.0 hz)\n",
    "    def bandPassFilter(self,min,max):\n",
    "        self.data = self.data[(self.f>min) & (self.f<max)]\n",
    "        self.f = self.f[(self.f>min) & (self.f<max)]\n",
    "        return self\n",
    "    \n",
    "    def getDF(self):\n",
    "        return pd.DataFrame(columns= self.f , data = self.data.reshape(1,len(self.f)))\n",
    "\n",
    "    \n",
    "def display_results(labels_test,rfc_pred):\n",
    "    acc = accuracy_score(labels_test, rfc_pred)\n",
    "    f1 = f1_score(labels_test, rfc_pred, average='macro')\n",
    "    print(classification_report(labels_test,rfc_pred, digits=4))\n",
    "\n",
    "    aux_df = labels_test.drop_duplicates().sort_values()\n",
    "    conf_matrix = confusion_matrix(labels_test, rfc_pred)\n",
    "    plt.figure(figsize=(12.8,6))\n",
    "    sns.heatmap(conf_matrix, \n",
    "                annot=True,\n",
    "                xticklabels=aux_df.values, \n",
    "                yticklabels=aux_df.values,\n",
    "                cmap=\"Blues\")\n",
    "    plt.ylabel('Actual')\n",
    "    plt.xlabel('Predicted')\n",
    "    plt.title('Confusion matrix')\n",
    "    plt.show()\n",
    "    return f1,acc"
   ]
  },
  {
   "cell_type": "code",
   "execution_count": null,
   "metadata": {},
   "outputs": [],
   "source": [
    "\n",
    "metrics = []\n",
    "\n",
    "\n",
    "subjects_range = range(1, 10)\n",
    "for subject in subjects_range:\n",
    "    fileName = f'../../datasources/BCICIV_2a_gdf/A{subject:02d}T.gdf'\n",
    "    \n",
    "    raw = mne.io.read_raw_gdf(fileName,preload=True, eog=['EOG-left', 'EOG-central', 'EOG-right'], verbose=0)\n",
    "\n",
    "\n",
    "    raw.load_data()\n",
    "    raw.set_eeg_reference(\"average\")\n",
    "    raw.filter(0, 120)\n",
    "\n",
    "    eog_epochs = mne.preprocessing.create_eog_epochs(raw, l_freq=0, h_freq=120)\n",
    "    # We need to explicitly specify that we want to average the EOG channel too.\n",
    "    eog_evoked = eog_epochs.average(\"all\")\n",
    "\n",
    "    # apply the regression coefficients to the original epochs\n",
    "    model_evoked = EOGRegression(picks=\"eeg\", picks_artifact=\"eog\").fit(eog_evoked)\n",
    "    raw_clean = model_evoked.apply(raw)\n",
    "    raw_clean.drop_channels(['EOG-left', 'EOG-central', 'EOG-right'])\n",
    "    annotations = raw.annotations\n",
    "    codes = annotations.description  \n",
    "    codeArray = []     \n",
    "    counter = 0\n",
    "\n",
    "    df = pd.DataFrame(raw_clean.get_data().T, columns=[channel.replace(\".\",\"\") for channel in raw_clean.ch_names])\n",
    "    df = df[~(df == 0).all(axis=1)]\n",
    "    # df = df[160:min(len(df),19680)] # Filter first and last values\n",
    "    timeArray = np.array([round(x,5) for x in np.arange(0,len(df)/250,.004)])\n",
    "    # timeArray = np.array([round(x,5) for x in np.arange(0,124.5,.00625)])\n",
    "\n",
    "    for timeVal in timeArray:\n",
    "        if timeVal in annotations.onset:\n",
    "            counter += 1\n",
    "        codeArray.append(codes[counter-1])\n",
    "\n",
    "    df[\"target\"] = np.array(codeArray[:len(df)]).T\n",
    "    \n",
    "\n",
    "    df.to_csv(f\"../../treated_files/F_A{subject:02d}T.csv\")\n"
   ]
  },
  {
   "cell_type": "code",
   "execution_count": 37,
   "metadata": {},
   "outputs": [],
   "source": [
    "\n",
    "metrics = []\n",
    "\n",
    "\n",
    "subjects_range = range(1, 10)\n",
    "for subject in subjects_range:\n",
    "    df = pd.read_csv(f\"../../treated_files/F_A{subject:02d}T.csv\",index_col= 0)\n",
    "\n",
    "    # Iterate over unique target values\n",
    "    window_size = 250\n",
    "    shift_size = 125\n",
    "    # for target_value in df['target'].unique():\n",
    "        # Create a DataFrame for each target value\n",
    "        # target_df = df[df['target'] == target_value]\n",
    "        # target_df.reset_index(drop=True, inplace=True)\n",
    "        # Create a list to store the windowed dataframes\n",
    "    target_df = df\n",
    "    # Iterate through the dataframe with the specified window and shift size\n",
    "    for i in range(0, len(target_df) - window_size + 1, shift_size):\n",
    "        \n",
    "            # Extract the window of dat'a\n",
    "            window_data = target_df.iloc[i:i + window_size]\n",
    "            if len(window_data) == 250:\n",
    "                if (window_data['target'][i] != np.max(window_data['target'][-1:]) ):\n",
    "                    continue\n",
    "\n",
    "                target = window_data['target'][i]\n",
    "                # fft = FFT(window_data['EEG-Cz'],250)\n",
    "                ffts = window_data.drop('target', axis=1).apply(lambda col: FFT(col, 250), axis=0)\n",
    "                dfs = []\n",
    "                for fft in ffts:\n",
    "                    fft.bandPassFilter(0.5,42)\n",
    "                    dfs.append( fft.getDF())\n",
    "                merged_df = pd.concat(dfs, axis=1)\n",
    "                # data = {\n",
    "                #     'mean': [np.mean(fft.data)],\n",
    "                #     'max': [np.max(fft.data)],\n",
    "                #     'min': [np.min(fft.data)],\n",
    "                #     'fmax': [fft.f[np.argmax(fft.data)]],\n",
    "                #     'energy': [sum(np.abs(fft.data)*np.abs(fft.data))/len(fft.data)],\n",
    "                #     'target': target\n",
    "                # }\n",
    "                \n",
    "                merged_df['target'] = target\n",
    "                metrics.append(merged_df)\n",
    "\n",
    "\n",
    "\n",
    "    # df = df[df['target']!= \"T0\"]\n",
    "\n",
    "    #         # Iterate over unique target values\n",
    "    # window_size = 160\n",
    "    # shift_size = 80\n",
    "    # for target_value in df['target'].unique():\n",
    "    #     target_df = df[df['target'] == target_value]\n",
    "    #     target_df.reset_index(drop=True, inplace=True)\n",
    "    # # target_df = df\n",
    "    # # Iterate through the dataframe with the specified window and shift size\n",
    "    #     for i in range(0, len(target_df) - window_size + 1, shift_size):\n",
    "            \n",
    "    #             # Extract the window of dat'a\n",
    "    #             window_data = target_df[['Fp1','target']].iloc[i:i + window_size]\n",
    "    #             if len(window_data) == 160:\n",
    "    #                 fft = FFT(window_data['Fp1'])\n",
    "    #                 fft.bandPassFilter(0.5,42)\n",
    "    #                 data = {\n",
    "    #                     'mean': [np.mean(fft.data)],\n",
    "    #                     'max': [np.max(fft.data)],\n",
    "    #                     'min': [np.min(fft.data)],\n",
    "    #                     'fmax': [fft.f[np.argmax(fft.data)]],\n",
    "    #                     'energy': [sum(np.abs(fft.data)*np.abs(fft.data))/len(fft.data)],\n",
    "    #                     'target': window_data['target'][i]\n",
    "    #                 }\n",
    "    #                 metrics.append(pd.DataFrame(data))\n",
    "                    \n",
    "metrics = pd.concat(metrics, ignore_index=True)\n",
    "metrics.to_csv(\"../dataframe/F_b2a-1-2-3-4-fft.csv\")"
   ]
  },
  {
   "cell_type": "code",
   "execution_count": null,
   "metadata": {},
   "outputs": [],
   "source": [
    "window_data.drop('target', axis=1).apply(lambda col: FFT(col, 250), axis=0)"
   ]
  },
  {
   "cell_type": "code",
   "execution_count": 38,
   "metadata": {},
   "outputs": [
    {
     "data": {
      "text/html": [
       "<div>\n",
       "<style scoped>\n",
       "    .dataframe tbody tr th:only-of-type {\n",
       "        vertical-align: middle;\n",
       "    }\n",
       "\n",
       "    .dataframe tbody tr th {\n",
       "        vertical-align: top;\n",
       "    }\n",
       "\n",
       "    .dataframe thead th {\n",
       "        text-align: right;\n",
       "    }\n",
       "</style>\n",
       "<table border=\"1\" class=\"dataframe\">\n",
       "  <thead>\n",
       "    <tr style=\"text-align: right;\">\n",
       "      <th></th>\n",
       "      <th>1.0</th>\n",
       "      <th>2.0</th>\n",
       "      <th>3.0</th>\n",
       "      <th>4.0</th>\n",
       "      <th>5.0</th>\n",
       "      <th>6.0</th>\n",
       "      <th>7.0</th>\n",
       "      <th>8.0</th>\n",
       "      <th>9.0</th>\n",
       "      <th>10.0</th>\n",
       "      <th>...</th>\n",
       "      <th>33.0</th>\n",
       "      <th>34.0</th>\n",
       "      <th>35.0</th>\n",
       "      <th>36.0</th>\n",
       "      <th>37.0</th>\n",
       "      <th>38.0</th>\n",
       "      <th>39.0</th>\n",
       "      <th>40.0</th>\n",
       "      <th>41.0</th>\n",
       "      <th>target</th>\n",
       "    </tr>\n",
       "  </thead>\n",
       "  <tbody>\n",
       "    <tr>\n",
       "      <th>0</th>\n",
       "      <td>-0.000179</td>\n",
       "      <td>0.000264</td>\n",
       "      <td>2.577392e-04</td>\n",
       "      <td>-0.001176</td>\n",
       "      <td>-0.000268</td>\n",
       "      <td>-0.000065</td>\n",
       "      <td>-0.000274</td>\n",
       "      <td>-0.000269</td>\n",
       "      <td>-0.000024</td>\n",
       "      <td>-0.000186</td>\n",
       "      <td>...</td>\n",
       "      <td>4.038137e-05</td>\n",
       "      <td>1.806271e-05</td>\n",
       "      <td>-0.000039</td>\n",
       "      <td>-0.000069</td>\n",
       "      <td>0.000056</td>\n",
       "      <td>-0.000090</td>\n",
       "      <td>-0.000030</td>\n",
       "      <td>-0.000006</td>\n",
       "      <td>-0.000027</td>\n",
       "      <td>32766</td>\n",
       "    </tr>\n",
       "    <tr>\n",
       "      <th>1</th>\n",
       "      <td>0.000378</td>\n",
       "      <td>-0.000710</td>\n",
       "      <td>9.684318e-07</td>\n",
       "      <td>-0.001466</td>\n",
       "      <td>0.000866</td>\n",
       "      <td>-0.000540</td>\n",
       "      <td>0.000786</td>\n",
       "      <td>-0.000407</td>\n",
       "      <td>0.000109</td>\n",
       "      <td>0.000012</td>\n",
       "      <td>...</td>\n",
       "      <td>-3.448160e-05</td>\n",
       "      <td>2.002098e-05</td>\n",
       "      <td>-0.000007</td>\n",
       "      <td>0.000046</td>\n",
       "      <td>-0.000042</td>\n",
       "      <td>0.000009</td>\n",
       "      <td>-0.000012</td>\n",
       "      <td>0.000006</td>\n",
       "      <td>0.000027</td>\n",
       "      <td>32766</td>\n",
       "    </tr>\n",
       "    <tr>\n",
       "      <th>2</th>\n",
       "      <td>-0.000191</td>\n",
       "      <td>-0.001413</td>\n",
       "      <td>-1.662425e-05</td>\n",
       "      <td>-0.000739</td>\n",
       "      <td>-0.000482</td>\n",
       "      <td>-0.000584</td>\n",
       "      <td>-0.000448</td>\n",
       "      <td>-0.000122</td>\n",
       "      <td>0.000121</td>\n",
       "      <td>0.000222</td>\n",
       "      <td>...</td>\n",
       "      <td>-4.647609e-07</td>\n",
       "      <td>-2.789307e-05</td>\n",
       "      <td>-0.000061</td>\n",
       "      <td>0.000105</td>\n",
       "      <td>-0.000079</td>\n",
       "      <td>-0.000023</td>\n",
       "      <td>0.000006</td>\n",
       "      <td>0.000078</td>\n",
       "      <td>0.000012</td>\n",
       "      <td>32766</td>\n",
       "    </tr>\n",
       "    <tr>\n",
       "      <th>3</th>\n",
       "      <td>0.000203</td>\n",
       "      <td>-0.000519</td>\n",
       "      <td>-3.010951e-04</td>\n",
       "      <td>-0.000132</td>\n",
       "      <td>0.000003</td>\n",
       "      <td>-0.000076</td>\n",
       "      <td>0.000076</td>\n",
       "      <td>-0.000050</td>\n",
       "      <td>0.000016</td>\n",
       "      <td>-0.000072</td>\n",
       "      <td>...</td>\n",
       "      <td>-6.538204e-05</td>\n",
       "      <td>-4.452152e-05</td>\n",
       "      <td>0.000024</td>\n",
       "      <td>0.000098</td>\n",
       "      <td>0.000065</td>\n",
       "      <td>-0.000028</td>\n",
       "      <td>0.000055</td>\n",
       "      <td>0.000024</td>\n",
       "      <td>0.000030</td>\n",
       "      <td>32766</td>\n",
       "    </tr>\n",
       "    <tr>\n",
       "      <th>4</th>\n",
       "      <td>-0.000097</td>\n",
       "      <td>0.000243</td>\n",
       "      <td>7.494235e-05</td>\n",
       "      <td>0.000220</td>\n",
       "      <td>-0.000094</td>\n",
       "      <td>-0.000281</td>\n",
       "      <td>0.000027</td>\n",
       "      <td>-0.000080</td>\n",
       "      <td>-0.000110</td>\n",
       "      <td>-0.000126</td>\n",
       "      <td>...</td>\n",
       "      <td>8.812726e-05</td>\n",
       "      <td>-1.924981e-08</td>\n",
       "      <td>0.000084</td>\n",
       "      <td>0.000051</td>\n",
       "      <td>-0.000016</td>\n",
       "      <td>-0.000060</td>\n",
       "      <td>0.000003</td>\n",
       "      <td>-0.000070</td>\n",
       "      <td>-0.000035</td>\n",
       "      <td>32766</td>\n",
       "    </tr>\n",
       "    <tr>\n",
       "      <th>...</th>\n",
       "      <td>...</td>\n",
       "      <td>...</td>\n",
       "      <td>...</td>\n",
       "      <td>...</td>\n",
       "      <td>...</td>\n",
       "      <td>...</td>\n",
       "      <td>...</td>\n",
       "      <td>...</td>\n",
       "      <td>...</td>\n",
       "      <td>...</td>\n",
       "      <td>...</td>\n",
       "      <td>...</td>\n",
       "      <td>...</td>\n",
       "      <td>...</td>\n",
       "      <td>...</td>\n",
       "      <td>...</td>\n",
       "      <td>...</td>\n",
       "      <td>...</td>\n",
       "      <td>...</td>\n",
       "      <td>...</td>\n",
       "      <td>...</td>\n",
       "    </tr>\n",
       "    <tr>\n",
       "      <th>37571</th>\n",
       "      <td>-0.000289</td>\n",
       "      <td>0.000733</td>\n",
       "      <td>1.715515e-04</td>\n",
       "      <td>0.000104</td>\n",
       "      <td>-0.000199</td>\n",
       "      <td>0.000013</td>\n",
       "      <td>-0.000444</td>\n",
       "      <td>0.000073</td>\n",
       "      <td>0.000462</td>\n",
       "      <td>0.000005</td>\n",
       "      <td>...</td>\n",
       "      <td>-4.133824e-05</td>\n",
       "      <td>-7.799819e-05</td>\n",
       "      <td>-0.000041</td>\n",
       "      <td>0.000028</td>\n",
       "      <td>0.000014</td>\n",
       "      <td>0.000006</td>\n",
       "      <td>0.000007</td>\n",
       "      <td>0.000009</td>\n",
       "      <td>-0.000012</td>\n",
       "      <td>768</td>\n",
       "    </tr>\n",
       "    <tr>\n",
       "      <th>37572</th>\n",
       "      <td>0.000046</td>\n",
       "      <td>0.000348</td>\n",
       "      <td>-6.607931e-04</td>\n",
       "      <td>-0.000077</td>\n",
       "      <td>0.000198</td>\n",
       "      <td>-0.000175</td>\n",
       "      <td>0.000303</td>\n",
       "      <td>-0.000053</td>\n",
       "      <td>-0.000053</td>\n",
       "      <td>-0.000006</td>\n",
       "      <td>...</td>\n",
       "      <td>6.571384e-06</td>\n",
       "      <td>-3.751559e-05</td>\n",
       "      <td>0.000026</td>\n",
       "      <td>0.000024</td>\n",
       "      <td>-0.000040</td>\n",
       "      <td>-0.000024</td>\n",
       "      <td>-0.000005</td>\n",
       "      <td>0.000018</td>\n",
       "      <td>-0.000024</td>\n",
       "      <td>768</td>\n",
       "    </tr>\n",
       "    <tr>\n",
       "      <th>37573</th>\n",
       "      <td>0.000218</td>\n",
       "      <td>-0.000180</td>\n",
       "      <td>8.590331e-06</td>\n",
       "      <td>-0.000395</td>\n",
       "      <td>0.000313</td>\n",
       "      <td>-0.000129</td>\n",
       "      <td>0.000029</td>\n",
       "      <td>-0.000231</td>\n",
       "      <td>-0.000211</td>\n",
       "      <td>0.000098</td>\n",
       "      <td>...</td>\n",
       "      <td>-4.335882e-06</td>\n",
       "      <td>1.005679e-05</td>\n",
       "      <td>-0.000001</td>\n",
       "      <td>-0.000039</td>\n",
       "      <td>-0.000019</td>\n",
       "      <td>-0.000046</td>\n",
       "      <td>0.000012</td>\n",
       "      <td>0.000020</td>\n",
       "      <td>0.000024</td>\n",
       "      <td>768</td>\n",
       "    </tr>\n",
       "    <tr>\n",
       "      <th>37574</th>\n",
       "      <td>0.000407</td>\n",
       "      <td>0.000158</td>\n",
       "      <td>4.577572e-05</td>\n",
       "      <td>-0.000169</td>\n",
       "      <td>-0.000079</td>\n",
       "      <td>0.000067</td>\n",
       "      <td>0.000125</td>\n",
       "      <td>0.000220</td>\n",
       "      <td>0.000099</td>\n",
       "      <td>-0.000005</td>\n",
       "      <td>...</td>\n",
       "      <td>4.144686e-05</td>\n",
       "      <td>2.127658e-05</td>\n",
       "      <td>-0.000022</td>\n",
       "      <td>-0.000005</td>\n",
       "      <td>0.000028</td>\n",
       "      <td>-0.000034</td>\n",
       "      <td>-0.000019</td>\n",
       "      <td>0.000023</td>\n",
       "      <td>-0.000006</td>\n",
       "      <td>768</td>\n",
       "    </tr>\n",
       "    <tr>\n",
       "      <th>37575</th>\n",
       "      <td>-0.000544</td>\n",
       "      <td>0.000391</td>\n",
       "      <td>-1.968591e-04</td>\n",
       "      <td>-0.000035</td>\n",
       "      <td>-0.000082</td>\n",
       "      <td>0.000159</td>\n",
       "      <td>-0.000282</td>\n",
       "      <td>0.000309</td>\n",
       "      <td>-0.000323</td>\n",
       "      <td>0.000723</td>\n",
       "      <td>...</td>\n",
       "      <td>-2.148785e-06</td>\n",
       "      <td>4.683515e-06</td>\n",
       "      <td>0.000017</td>\n",
       "      <td>0.000016</td>\n",
       "      <td>0.000028</td>\n",
       "      <td>0.000006</td>\n",
       "      <td>0.000006</td>\n",
       "      <td>0.000023</td>\n",
       "      <td>0.000029</td>\n",
       "      <td>768</td>\n",
       "    </tr>\n",
       "  </tbody>\n",
       "</table>\n",
       "<p>37576 rows × 903 columns</p>\n",
       "</div>"
      ],
      "text/plain": [
       "            1.0       2.0           3.0       4.0       5.0       6.0  \\\n",
       "0     -0.000179  0.000264  2.577392e-04 -0.001176 -0.000268 -0.000065   \n",
       "1      0.000378 -0.000710  9.684318e-07 -0.001466  0.000866 -0.000540   \n",
       "2     -0.000191 -0.001413 -1.662425e-05 -0.000739 -0.000482 -0.000584   \n",
       "3      0.000203 -0.000519 -3.010951e-04 -0.000132  0.000003 -0.000076   \n",
       "4     -0.000097  0.000243  7.494235e-05  0.000220 -0.000094 -0.000281   \n",
       "...         ...       ...           ...       ...       ...       ...   \n",
       "37571 -0.000289  0.000733  1.715515e-04  0.000104 -0.000199  0.000013   \n",
       "37572  0.000046  0.000348 -6.607931e-04 -0.000077  0.000198 -0.000175   \n",
       "37573  0.000218 -0.000180  8.590331e-06 -0.000395  0.000313 -0.000129   \n",
       "37574  0.000407  0.000158  4.577572e-05 -0.000169 -0.000079  0.000067   \n",
       "37575 -0.000544  0.000391 -1.968591e-04 -0.000035 -0.000082  0.000159   \n",
       "\n",
       "            7.0       8.0       9.0      10.0  ...          33.0  \\\n",
       "0     -0.000274 -0.000269 -0.000024 -0.000186  ...  4.038137e-05   \n",
       "1      0.000786 -0.000407  0.000109  0.000012  ... -3.448160e-05   \n",
       "2     -0.000448 -0.000122  0.000121  0.000222  ... -4.647609e-07   \n",
       "3      0.000076 -0.000050  0.000016 -0.000072  ... -6.538204e-05   \n",
       "4      0.000027 -0.000080 -0.000110 -0.000126  ...  8.812726e-05   \n",
       "...         ...       ...       ...       ...  ...           ...   \n",
       "37571 -0.000444  0.000073  0.000462  0.000005  ... -4.133824e-05   \n",
       "37572  0.000303 -0.000053 -0.000053 -0.000006  ...  6.571384e-06   \n",
       "37573  0.000029 -0.000231 -0.000211  0.000098  ... -4.335882e-06   \n",
       "37574  0.000125  0.000220  0.000099 -0.000005  ...  4.144686e-05   \n",
       "37575 -0.000282  0.000309 -0.000323  0.000723  ... -2.148785e-06   \n",
       "\n",
       "               34.0      35.0      36.0      37.0      38.0      39.0  \\\n",
       "0      1.806271e-05 -0.000039 -0.000069  0.000056 -0.000090 -0.000030   \n",
       "1      2.002098e-05 -0.000007  0.000046 -0.000042  0.000009 -0.000012   \n",
       "2     -2.789307e-05 -0.000061  0.000105 -0.000079 -0.000023  0.000006   \n",
       "3     -4.452152e-05  0.000024  0.000098  0.000065 -0.000028  0.000055   \n",
       "4     -1.924981e-08  0.000084  0.000051 -0.000016 -0.000060  0.000003   \n",
       "...             ...       ...       ...       ...       ...       ...   \n",
       "37571 -7.799819e-05 -0.000041  0.000028  0.000014  0.000006  0.000007   \n",
       "37572 -3.751559e-05  0.000026  0.000024 -0.000040 -0.000024 -0.000005   \n",
       "37573  1.005679e-05 -0.000001 -0.000039 -0.000019 -0.000046  0.000012   \n",
       "37574  2.127658e-05 -0.000022 -0.000005  0.000028 -0.000034 -0.000019   \n",
       "37575  4.683515e-06  0.000017  0.000016  0.000028  0.000006  0.000006   \n",
       "\n",
       "           40.0      41.0  target  \n",
       "0     -0.000006 -0.000027   32766  \n",
       "1      0.000006  0.000027   32766  \n",
       "2      0.000078  0.000012   32766  \n",
       "3      0.000024  0.000030   32766  \n",
       "4     -0.000070 -0.000035   32766  \n",
       "...         ...       ...     ...  \n",
       "37571  0.000009 -0.000012     768  \n",
       "37572  0.000018 -0.000024     768  \n",
       "37573  0.000020  0.000024     768  \n",
       "37574  0.000023 -0.000006     768  \n",
       "37575  0.000023  0.000029     768  \n",
       "\n",
       "[37576 rows x 903 columns]"
      ]
     },
     "execution_count": 38,
     "metadata": {},
     "output_type": "execute_result"
    }
   ],
   "source": [
    "metrics"
   ]
  },
  {
   "cell_type": "code",
   "execution_count": null,
   "metadata": {},
   "outputs": [],
   "source": [
    "metrics = pd.read_csv(\"../dataframe/F_b2a-1-2-3-4-fft.csv\",index_col=0)"
   ]
  },
  {
   "cell_type": "code",
   "execution_count": null,
   "metadata": {},
   "outputs": [],
   "source": [
    "pca = PCA()\n",
    "pca.fit(metrics.drop(columns='target'))\n",
    "\n",
    "variancia_explicada_acumulada = np.cumsum(pca.explained_variance_ratio_)\n",
    "\n",
    "\n",
    "fig, ax = plt.subplots(figsize=(10, 6))\n",
    "eixo_x = list(range(1, len(variancia_explicada_acumulada)+1))\n",
    "ax.plot(eixo_x, variancia_explicada_acumulada, marker=\"o\")\n",
    "ax.set_xlabel(\"Número de componentes principais\")\n",
    "ax.set_ylabel(\"Perceuntual de variância explicada acumulada\")\n",
    "ax.set_xticks(eixo_x)\n",
    "plt.show()"
   ]
  },
  {
   "cell_type": "code",
   "execution_count": null,
   "metadata": {},
   "outputs": [],
   "source": [
    "pd.DataFrame(variancia_explicada_acumulada)"
   ]
  },
  {
   "cell_type": "code",
   "execution_count": null,
   "metadata": {},
   "outputs": [],
   "source": [
    "embeddings = pca.transform(metrics.drop(columns='target'))"
   ]
  },
  {
   "cell_type": "code",
   "execution_count": null,
   "metadata": {},
   "outputs": [],
   "source": [
    "fig, ax = plt.subplots()\n",
    "sns.scatterplot(ax = ax, x = pd.DataFrame(embeddings)[0],y=  pd.DataFrame(embeddings)[1], hue =  metrics['target'],palette=\"tab10\")\n",
    "ax.set_ylabel(\"Segunda componente Principal\")\n",
    "ax.set_xlabel(\"Primeira Componente Principal\")\n",
    "ax.legend([\"Classe\",\"T0\",\"T1\",\"T2\"])\n",
    "plt.show()"
   ]
  },
  {
   "cell_type": "markdown",
   "metadata": {},
   "source": [
    "## umap = UMAP(random_state=42,n_neighbors=30,min_dist=0.05)"
   ]
  },
  {
   "cell_type": "code",
   "execution_count": null,
   "metadata": {},
   "outputs": [],
   "source": [
    "umap = UMAP(random_state=42,n_neighbors=30,min_dist=0.05)\n"
   ]
  },
  {
   "cell_type": "code",
   "execution_count": null,
   "metadata": {},
   "outputs": [],
   "source": [
    "\n",
    "label_encoder = LabelEncoder()\n",
    "X_train_full, X_val, y_train_full, y_val = train_test_split(metrics.drop(columns='target'), label_encoder.fit_transform(metrics['target']), test_size=0.3, random_state=42)\n",
    "umap.fit(X_train_full,y_train_full)\n"
   ]
  },
  {
   "cell_type": "code",
   "execution_count": null,
   "metadata": {},
   "outputs": [],
   "source": [
    "\n",
    "umap_embeddings = umap.transform(X_train_full)\n",
    "umap_embeddings_val = umap.transform(X_val)\n",
    "umap_embeddings_all = umap.transform(metrics.drop(columns='target'))\n",
    "umap_embeddings_test = umap.transform(pd.concat([X_train_full,X_val[:100]], ignore_index=True))\n",
    "\n"
   ]
  },
  {
   "cell_type": "code",
   "execution_count": null,
   "metadata": {},
   "outputs": [],
   "source": [
    "\n",
    "fig, ax = plt.subplots()\n",
    "sns.scatterplot(ax = ax, x = pd.DataFrame(umap_embeddings_val)[0],y=  pd.DataFrame(umap_embeddings_val)[1], hue =  y_val,palette=\"tab10\")\n",
    "ax.set_ylabel(\"Segunda componente\")\n",
    "ax.set_xlabel(\"Primeira Componente\")\n",
    "ax.legend([\"Classe\",\"T0\",\"T1\",\"T2\"])\n",
    "ax.set_xticks(list(range(-11, 11+1))) \n",
    "ax.set_yticks(list(range(-3, 13+1)))\n",
    "plt.show()"
   ]
  },
  {
   "cell_type": "code",
   "execution_count": null,
   "metadata": {},
   "outputs": [],
   "source": [
    "fig, ax = plt.subplots()\n",
    "sns.scatterplot(ax = ax, x = pd.DataFrame(umap_embeddings)[0],y=  pd.DataFrame(umap_embeddings)[1], hue =  y_train_full,palette=\"tab10\")\n",
    "ax.set_ylabel(\"Segunda componente\")\n",
    "ax.set_xlabel(\"Primeira Componente\")\n",
    "ax.legend([\"Classe\",\"T0\",\"T1\",\"T2\"])\n",
    "ax.set_xticks(list(range(-11, 11+1))) \n",
    "ax.set_yticks(list(range(-3, 13+1)))\n",
    "\n",
    "plt.show()"
   ]
  },
  {
   "cell_type": "code",
   "execution_count": null,
   "metadata": {},
   "outputs": [],
   "source": [
    "fig, ax = plt.subplots()\n",
    "sns.scatterplot(ax = ax, x = pd.DataFrame(umap_embeddings_test)[0],y=  pd.DataFrame(umap_embeddings_test)[1], hue =  pd.concat([pd.DataFrame(y_train_full),pd.DataFrame(y_val)[:100]], ignore_index=True)[0],palette=\"tab10\")\n",
    "ax.set_ylabel(\"Segunda componente\")\n",
    "ax.set_xlabel(\"Primeira Componente\")\n",
    "ax.legend([\"Classe\",\"T0\",\"T1\",\"T2\"])\n",
    "ax.set_xticks(list(range(-11, 11+1))) \n",
    "ax.set_yticks(list(range(-3, 13+1)))\n",
    "plt.show()"
   ]
  },
  {
   "cell_type": "code",
   "execution_count": null,
   "metadata": {},
   "outputs": [],
   "source": [
    "fig, ax = plt.subplots()\n",
    "sns.scatterplot(ax = ax, x = pd.DataFrame(umap_embeddings_val)[:100][0],y=  pd.DataFrame(umap_embeddings_val)[:100][1], hue =  y_val[:100],palette=\"tab10\")\n",
    "ax.set_ylabel(\"Segunda componente\")\n",
    "ax.set_xlabel(\"Primeira Componente\")\n",
    "ax.legend([\"Classe\",\"T0\",\"T1\",\"T2\"])\n",
    "ax.set_xticks(list(range(-11, 11+1))) \n",
    "ax.set_yticks(list(range(-3, 13+1)))\n",
    "plt.show()\n",
    "\n",
    "fig, ax = plt.subplots()\n",
    "sns.scatterplot(ax = ax, x = pd.DataFrame(umap_embeddings_test)[-100:][0],y=  pd.DataFrame(umap_embeddings_test)[-100:][1], hue =  pd.concat([pd.DataFrame(y_train_full),pd.DataFrame(y_val)[:100]], ignore_index=True)[-100:][0],palette=\"tab10\")\n",
    "ax.set_ylabel(\"Segunda componente\")\n",
    "ax.set_xlabel(\"Primeira Componente\")\n",
    "ax.legend([\"Classe\",\"T0\",\"T1\",\"T2\"])\n",
    "ax.set_xticks(list(range(-11, 11+1))) \n",
    "ax.set_yticks(list(range(-3, 13+1)))  \n",
    "plt.show()"
   ]
  },
  {
   "cell_type": "code",
   "execution_count": null,
   "metadata": {},
   "outputs": [],
   "source": [
    "fig, ax = plt.subplots()\n",
    "sns.scatterplot(ax = ax, x = pd.DataFrame(umap_embeddings_all)[0],y=  pd.DataFrame(umap_embeddings_all)[1], hue =   label_encoder.transform(metrics['target']),palette=\"tab10\")\n",
    "ax.set_ylabel(\"Segunda componente\")\n",
    "ax.set_xlabel(\"Primeira Componente\")\n",
    "ax.legend([\"Classe\",\"T0\",\"T1\",\"T2\"])\n",
    "ax.set_xticks(list(range(-11, 11+1))) \n",
    "ax.set_yticks(list(range(-3, 13+1)))         \n",
    "plt.show()\n",
    "fig, ax = plt.subplots()\n",
    "sns.scatterplot(ax = ax, x = pd.concat([pd.DataFrame(umap_embeddings),pd.DataFrame(umap_embeddings_val)], ignore_index=True)[0],y=  pd.concat([pd.DataFrame(umap_embeddings),pd.DataFrame(umap_embeddings_val)], ignore_index=True)[1], hue =   pd.concat([pd.DataFrame(y_train_full),pd.DataFrame(y_val)], ignore_index=True)[0],palette=\"tab10\")\n",
    "ax.set_ylabel(\"Segunda componente\")\n",
    "ax.set_xlabel(\"Primeira Componente\")\n",
    "ax.legend([\"Classe\",\"T0\",\"T1\",\"T2\"])\n",
    "ax.set_xticks(list(range(-11, 11+1))) \n",
    "ax.set_yticks(list(range(-3, 13+1)))\n",
    "plt.show()"
   ]
  },
  {
   "cell_type": "markdown",
   "metadata": {},
   "source": [
    "## UMAP(random_state=42,n_neighbors=20,min_dist=0.05)"
   ]
  },
  {
   "cell_type": "code",
   "execution_count": null,
   "metadata": {},
   "outputs": [],
   "source": [
    "umap = UMAP(random_state=42,n_neighbors=20,min_dist=0.05)"
   ]
  },
  {
   "cell_type": "code",
   "execution_count": null,
   "metadata": {},
   "outputs": [],
   "source": [
    "label_encoder = LabelEncoder()\n",
    "X_train_full, X_val, y_train_full, y_val = train_test_split(metrics.drop(columns='target'), label_encoder.fit_transform(metrics['target']), test_size=0.3, random_state=42)\n",
    "umap.fit(X_train_full,y_train_full)\n"
   ]
  },
  {
   "cell_type": "code",
   "execution_count": null,
   "metadata": {},
   "outputs": [],
   "source": [
    "\n",
    "umap_embeddings = umap.transform(X_train_full)\n",
    "umap_embeddings_val = umap.transform(X_val)\n",
    "umap_embeddings_all = umap.transform(metrics.drop(columns='target'))\n",
    "umap_embeddings_test = umap.transform(pd.concat([X_train_full,X_val[:100]], ignore_index=True))\n",
    "\n"
   ]
  },
  {
   "cell_type": "code",
   "execution_count": null,
   "metadata": {},
   "outputs": [],
   "source": [
    "\n",
    "fig, ax = plt.subplots()\n",
    "sns.scatterplot(ax = ax, x = pd.DataFrame(umap_embeddings_val)[0],y=  pd.DataFrame(umap_embeddings_val)[1], hue =  y_val,palette=\"tab10\")\n",
    "ax.set_ylabel(\"Segunda componente\")\n",
    "ax.set_xlabel(\"Primeira Componente\")\n",
    "ax.legend([\"Classe\",\"T0\",\"T1\",\"T2\"])\n",
    "ax.set_xticks(list(range(-11, 11+1))) \n",
    "ax.set_yticks(list(range(-3, 13+1)))\n",
    "plt.show()"
   ]
  },
  {
   "cell_type": "code",
   "execution_count": null,
   "metadata": {},
   "outputs": [],
   "source": [
    "fig, ax = plt.subplots()\n",
    "sns.scatterplot(ax = ax, x = pd.DataFrame(umap_embeddings)[0],y=  pd.DataFrame(umap_embeddings)[1], hue =  y_train_full,palette=\"tab10\")\n",
    "ax.set_ylabel(\"Segunda componente\")\n",
    "ax.set_xlabel(\"Primeira Componente\")\n",
    "ax.legend([\"Classe\",\"T0\",\"T1\",\"T2\"])\n",
    "ax.set_xticks(list(range(-11, 11+1))) \n",
    "ax.set_yticks(list(range(-3, 13+1)))\n",
    "\n",
    "plt.show()"
   ]
  },
  {
   "cell_type": "code",
   "execution_count": null,
   "metadata": {},
   "outputs": [],
   "source": [
    "fig, ax = plt.subplots()\n",
    "sns.scatterplot(ax = ax, x = pd.DataFrame(umap_embeddings_test)[0],y=  pd.DataFrame(umap_embeddings_test)[1], hue =  pd.concat([pd.DataFrame(y_train_full),pd.DataFrame(y_val)[:100]], ignore_index=True)[0],palette=\"tab10\")\n",
    "ax.set_ylabel(\"Segunda componente\")\n",
    "ax.set_xlabel(\"Primeira Componente\")\n",
    "ax.legend([\"Classe\",\"T0\",\"T1\",\"T2\"])\n",
    "ax.set_xticks(list(range(-11, 11+1))) \n",
    "ax.set_yticks(list(range(-3, 13+1)))\n",
    "plt.show()"
   ]
  },
  {
   "cell_type": "code",
   "execution_count": null,
   "metadata": {},
   "outputs": [],
   "source": [
    "fig, ax = plt.subplots()\n",
    "sns.scatterplot(ax = ax, x = pd.DataFrame(umap_embeddings_val)[:100][0],y=  pd.DataFrame(umap_embeddings_val)[:100][1], hue =  y_val[:100],palette=\"tab10\")\n",
    "ax.set_ylabel(\"Segunda componente\")\n",
    "ax.set_xlabel(\"Primeira Componente\")\n",
    "ax.legend([\"Classe\",\"T0\",\"T1\",\"T2\"])\n",
    "ax.set_xticks(list(range(-11, 11+1))) \n",
    "ax.set_yticks(list(range(-3, 13+1)))\n",
    "plt.show()\n",
    "\n",
    "fig, ax = plt.subplots()\n",
    "sns.scatterplot(ax = ax, x = pd.DataFrame(umap_embeddings_test)[-100:][0],y=  pd.DataFrame(umap_embeddings_test)[-100:][1], hue =  pd.concat([pd.DataFrame(y_train_full),pd.DataFrame(y_val)[:100]], ignore_index=True)[-100:][0],palette=\"tab10\")\n",
    "ax.set_ylabel(\"Segunda componente\")\n",
    "ax.set_xlabel(\"Primeira Componente\")\n",
    "ax.legend([\"Classe\",\"T0\",\"T1\",\"T2\"])\n",
    "ax.set_xticks(list(range(-11, 11+1))) \n",
    "ax.set_yticks(list(range(-3, 13+1)))  \n",
    "plt.show()"
   ]
  },
  {
   "cell_type": "code",
   "execution_count": null,
   "metadata": {},
   "outputs": [],
   "source": [
    "fig, ax = plt.subplots()\n",
    "sns.scatterplot(ax = ax, x = pd.DataFrame(umap_embeddings_all)[0],y=  pd.DataFrame(umap_embeddings_all)[1], hue =   label_encoder.transform(metrics['target']),palette=\"tab10\")\n",
    "ax.set_ylabel(\"Segunda componente\")\n",
    "ax.set_xlabel(\"Primeira Componente\")\n",
    "ax.legend([\"Classe\",\"T0\",\"T1\",\"T2\"])\n",
    "ax.set_xticks(list(range(-11, 11+1))) \n",
    "ax.set_yticks(list(range(-3, 13+1)))         \n",
    "plt.show()\n",
    "fig, ax = plt.subplots()\n",
    "sns.scatterplot(ax = ax, x = pd.concat([pd.DataFrame(umap_embeddings),pd.DataFrame(umap_embeddings_val)], ignore_index=True)[0],y=  pd.concat([pd.DataFrame(umap_embeddings),pd.DataFrame(umap_embeddings_val)], ignore_index=True)[1], hue =   pd.concat([pd.DataFrame(y_train_full),pd.DataFrame(y_val)], ignore_index=True)[0],palette=\"tab10\")\n",
    "ax.set_ylabel(\"Segunda componente\")\n",
    "ax.set_xlabel(\"Primeira Componente\")\n",
    "ax.legend([\"Classe\",\"T0\",\"T1\",\"T2\"])\n",
    "ax.set_xticks(list(range(-11, 11+1))) \n",
    "ax.set_yticks(list(range(-3, 13+1)))\n",
    "plt.show()"
   ]
  },
  {
   "cell_type": "markdown",
   "metadata": {},
   "source": [
    "## Conclusão do UMAP"
   ]
  },
  {
   "cell_type": "markdown",
   "metadata": {},
   "source": [
    "É interessante que o transforme de todos os dados juntos é diferente da união das transformadas do treino e teste. Isso indica que o processo de transform do UMAP leva em consideração todos os pontos, ao invés de apenas classificar um a um. \n",
    "\n",
    "Apesar de estranho, não da pra afirmar que há uma melhora real em qualquer um dos dois processos descritos acima, como podemos ver no exemplo de teste, em que claramente os novos pontos se distribuiram de forma pouco relevante quando comparados aos dados de treino anteriormente vistos pelo modelo. Isso pode indicar que o prórpio modelo está em overfit, já que os dados de treino tem uma classificação melhor que os dados não vistos anteriormente pelo modelo. \n",
    "\n",
    "A princípio, comparando lado a lado os dois experimentos acima, o conjunto de validação que foi mostrado junto com o conjunto de treino possui uma distribuição mais agrupada. Apesar disso, como normalmente essa amostragem deve ser feita de forma separada, iremos seguir o procedimento tradicional.\n",
    "\n",
    "Essa visualização preliminar é apenas para demonstrar as capacidades do UMAP. No modelo final iremos utilizar o mesmo número de componentes que o PCA."
   ]
  },
  {
   "cell_type": "code",
   "execution_count": 39,
   "metadata": {},
   "outputs": [],
   "source": [
    "metrics_filtered = metrics[metrics['target'].isin([\n",
    "    # 768,\n",
    "    769,\n",
    "    770,\n",
    "    # 771,  772\n",
    "    ])]\n"
   ]
  },
  {
   "cell_type": "code",
   "execution_count": 40,
   "metadata": {},
   "outputs": [],
   "source": [
    "metricsT2 = metrics_filtered.copy()\n",
    "metricsT1 = metrics_filtered.copy()\n",
    "# metricsT2 = metrics[metrics['target']!= \"T0\"].copy()\n",
    "# metricsT1 = metrics[metrics['target']!= \"T0\"].copy()"
   ]
  },
  {
   "cell_type": "code",
   "execution_count": 41,
   "metadata": {},
   "outputs": [],
   "source": [
    "metricsT2.loc[metricsT2['target'] != 769, 'target'] = 0\n",
    "metricsT2.loc[metricsT2['target'] == 769, 'target'] = 1\n",
    "\n",
    "metricsT1.loc[metricsT1['target'] != 770, 'target'] = 0\n",
    "metricsT1.loc[metricsT1['target'] == 770, 'target'] = 1\n"
   ]
  },
  {
   "cell_type": "code",
   "execution_count": 42,
   "metadata": {},
   "outputs": [],
   "source": [
    "df = metricsT1.copy()"
   ]
  },
  {
   "cell_type": "code",
   "execution_count": 43,
   "metadata": {},
   "outputs": [
    {
     "data": {
      "text/plain": [
       "37576"
      ]
     },
     "execution_count": 43,
     "metadata": {},
     "output_type": "execute_result"
    }
   ],
   "source": [
    "len(metrics)"
   ]
  },
  {
   "cell_type": "code",
   "execution_count": 44,
   "metadata": {},
   "outputs": [
    {
     "data": {
      "text/plain": [
       "7148"
      ]
     },
     "execution_count": 44,
     "metadata": {},
     "output_type": "execute_result"
    }
   ],
   "source": [
    "len(metricsT2)"
   ]
  },
  {
   "cell_type": "code",
   "execution_count": 45,
   "metadata": {},
   "outputs": [
    {
     "data": {
      "text/plain": [
       "7148"
      ]
     },
     "execution_count": 45,
     "metadata": {},
     "output_type": "execute_result"
    }
   ],
   "source": [
    "len(metricsT1)"
   ]
  },
  {
   "cell_type": "code",
   "execution_count": 46,
   "metadata": {},
   "outputs": [],
   "source": [
    "\n",
    "# Supondo que você tenha os dados X e y para treinamento\n",
    "label_encoder = LabelEncoder()\n",
    "X_train, X_val, y_train, y_val = train_test_split(df.drop(columns='target'), label_encoder.fit_transform(df['target']), test_size=0.3, random_state=42)\n",
    "\n",
    "\n"
   ]
  },
  {
   "cell_type": "code",
   "execution_count": 47,
   "metadata": {},
   "outputs": [
    {
     "data": {
      "text/plain": [
       "2145"
      ]
     },
     "execution_count": 47,
     "metadata": {},
     "output_type": "execute_result"
    }
   ],
   "source": [
    "len(X_val)"
   ]
  },
  {
   "cell_type": "code",
   "execution_count": 48,
   "metadata": {},
   "outputs": [],
   "source": [
    "\n",
    "# Definir o número de folds para a validação cruzada\n",
    "\n",
    "\n",
    "model = MLPClassifier(learning_rate_init= 0.3,max_iter= 500,momentum= 0.2,hidden_layer_sizes= (6, 3))\n",
    "\n",
    "random_grid = {\n",
    "               'activation': ['logistic'],\n",
    "               'solver': ['sgd'],\n",
    "               \n",
    "               \n",
    "               }\n",
    "\n",
    "\n",
    "random_search = RandomizedSearchCV(estimator= model,param_distributions=random_grid,refit='Accuracy',scoring={'F1': 'f1_macro', 'Accuracy': make_scorer(accuracy_score)})\n",
    "# Criar o modelo da rede neural\n"
   ]
  },
  {
   "cell_type": "code",
   "execution_count": 49,
   "metadata": {},
   "outputs": [],
   "source": [
    "pca = PCA(n_components=6)\n",
    "X_train_pca = pca.fit_transform(X_train)\n",
    "X_val_pca = pca.transform(X_val)"
   ]
  },
  {
   "cell_type": "code",
   "execution_count": 50,
   "metadata": {},
   "outputs": [
    {
     "name": "stderr",
     "output_type": "stream",
     "text": [
      "c:\\Users\\Vinícius\\anaconda3\\lib\\site-packages\\sklearn\\model_selection\\_search.py:307: UserWarning: The total space of parameters 1 is smaller than n_iter=10. Running 1 iterations. For exhaustive searches, use GridSearchCV.\n",
      "  warnings.warn(\n"
     ]
    },
    {
     "data": {
      "text/html": [
       "<style>#sk-container-id-1 {color: black;}#sk-container-id-1 pre{padding: 0;}#sk-container-id-1 div.sk-toggleable {background-color: white;}#sk-container-id-1 label.sk-toggleable__label {cursor: pointer;display: block;width: 100%;margin-bottom: 0;padding: 0.3em;box-sizing: border-box;text-align: center;}#sk-container-id-1 label.sk-toggleable__label-arrow:before {content: \"▸\";float: left;margin-right: 0.25em;color: #696969;}#sk-container-id-1 label.sk-toggleable__label-arrow:hover:before {color: black;}#sk-container-id-1 div.sk-estimator:hover label.sk-toggleable__label-arrow:before {color: black;}#sk-container-id-1 div.sk-toggleable__content {max-height: 0;max-width: 0;overflow: hidden;text-align: left;background-color: #f0f8ff;}#sk-container-id-1 div.sk-toggleable__content pre {margin: 0.2em;color: black;border-radius: 0.25em;background-color: #f0f8ff;}#sk-container-id-1 input.sk-toggleable__control:checked~div.sk-toggleable__content {max-height: 200px;max-width: 100%;overflow: auto;}#sk-container-id-1 input.sk-toggleable__control:checked~label.sk-toggleable__label-arrow:before {content: \"▾\";}#sk-container-id-1 div.sk-estimator input.sk-toggleable__control:checked~label.sk-toggleable__label {background-color: #d4ebff;}#sk-container-id-1 div.sk-label input.sk-toggleable__control:checked~label.sk-toggleable__label {background-color: #d4ebff;}#sk-container-id-1 input.sk-hidden--visually {border: 0;clip: rect(1px 1px 1px 1px);clip: rect(1px, 1px, 1px, 1px);height: 1px;margin: -1px;overflow: hidden;padding: 0;position: absolute;width: 1px;}#sk-container-id-1 div.sk-estimator {font-family: monospace;background-color: #f0f8ff;border: 1px dotted black;border-radius: 0.25em;box-sizing: border-box;margin-bottom: 0.5em;}#sk-container-id-1 div.sk-estimator:hover {background-color: #d4ebff;}#sk-container-id-1 div.sk-parallel-item::after {content: \"\";width: 100%;border-bottom: 1px solid gray;flex-grow: 1;}#sk-container-id-1 div.sk-label:hover label.sk-toggleable__label {background-color: #d4ebff;}#sk-container-id-1 div.sk-serial::before {content: \"\";position: absolute;border-left: 1px solid gray;box-sizing: border-box;top: 0;bottom: 0;left: 50%;z-index: 0;}#sk-container-id-1 div.sk-serial {display: flex;flex-direction: column;align-items: center;background-color: white;padding-right: 0.2em;padding-left: 0.2em;position: relative;}#sk-container-id-1 div.sk-item {position: relative;z-index: 1;}#sk-container-id-1 div.sk-parallel {display: flex;align-items: stretch;justify-content: center;background-color: white;position: relative;}#sk-container-id-1 div.sk-item::before, #sk-container-id-1 div.sk-parallel-item::before {content: \"\";position: absolute;border-left: 1px solid gray;box-sizing: border-box;top: 0;bottom: 0;left: 50%;z-index: -1;}#sk-container-id-1 div.sk-parallel-item {display: flex;flex-direction: column;z-index: 1;position: relative;background-color: white;}#sk-container-id-1 div.sk-parallel-item:first-child::after {align-self: flex-end;width: 50%;}#sk-container-id-1 div.sk-parallel-item:last-child::after {align-self: flex-start;width: 50%;}#sk-container-id-1 div.sk-parallel-item:only-child::after {width: 0;}#sk-container-id-1 div.sk-dashed-wrapped {border: 1px dashed gray;margin: 0 0.4em 0.5em 0.4em;box-sizing: border-box;padding-bottom: 0.4em;background-color: white;}#sk-container-id-1 div.sk-label label {font-family: monospace;font-weight: bold;display: inline-block;line-height: 1.2em;}#sk-container-id-1 div.sk-label-container {text-align: center;}#sk-container-id-1 div.sk-container {/* jupyter's `normalize.less` sets `[hidden] { display: none; }` but bootstrap.min.css set `[hidden] { display: none !important; }` so we also need the `!important` here to be able to override the default hidden behavior on the sphinx rendered scikit-learn.org. See: https://github.com/scikit-learn/scikit-learn/issues/21755 */display: inline-block !important;position: relative;}#sk-container-id-1 div.sk-text-repr-fallback {display: none;}</style><div id=\"sk-container-id-1\" class=\"sk-top-container\"><div class=\"sk-text-repr-fallback\"><pre>RandomizedSearchCV(estimator=MLPClassifier(hidden_layer_sizes=(6, 3),\n",
       "                                           learning_rate_init=0.3, max_iter=500,\n",
       "                                           momentum=0.2),\n",
       "                   param_distributions={&#x27;activation&#x27;: [&#x27;logistic&#x27;],\n",
       "                                        &#x27;solver&#x27;: [&#x27;sgd&#x27;]},\n",
       "                   refit=&#x27;Accuracy&#x27;,\n",
       "                   scoring={&#x27;Accuracy&#x27;: make_scorer(accuracy_score),\n",
       "                            &#x27;F1&#x27;: &#x27;f1_macro&#x27;})</pre><b>In a Jupyter environment, please rerun this cell to show the HTML representation or trust the notebook. <br />On GitHub, the HTML representation is unable to render, please try loading this page with nbviewer.org.</b></div><div class=\"sk-container\" hidden><div class=\"sk-item sk-dashed-wrapped\"><div class=\"sk-label-container\"><div class=\"sk-label sk-toggleable\"><input class=\"sk-toggleable__control sk-hidden--visually\" id=\"sk-estimator-id-1\" type=\"checkbox\" ><label for=\"sk-estimator-id-1\" class=\"sk-toggleable__label sk-toggleable__label-arrow\">RandomizedSearchCV</label><div class=\"sk-toggleable__content\"><pre>RandomizedSearchCV(estimator=MLPClassifier(hidden_layer_sizes=(6, 3),\n",
       "                                           learning_rate_init=0.3, max_iter=500,\n",
       "                                           momentum=0.2),\n",
       "                   param_distributions={&#x27;activation&#x27;: [&#x27;logistic&#x27;],\n",
       "                                        &#x27;solver&#x27;: [&#x27;sgd&#x27;]},\n",
       "                   refit=&#x27;Accuracy&#x27;,\n",
       "                   scoring={&#x27;Accuracy&#x27;: make_scorer(accuracy_score),\n",
       "                            &#x27;F1&#x27;: &#x27;f1_macro&#x27;})</pre></div></div></div><div class=\"sk-parallel\"><div class=\"sk-parallel-item\"><div class=\"sk-item\"><div class=\"sk-label-container\"><div class=\"sk-label sk-toggleable\"><input class=\"sk-toggleable__control sk-hidden--visually\" id=\"sk-estimator-id-2\" type=\"checkbox\" ><label for=\"sk-estimator-id-2\" class=\"sk-toggleable__label sk-toggleable__label-arrow\">estimator: MLPClassifier</label><div class=\"sk-toggleable__content\"><pre>MLPClassifier(hidden_layer_sizes=(6, 3), learning_rate_init=0.3, max_iter=500,\n",
       "              momentum=0.2)</pre></div></div></div><div class=\"sk-serial\"><div class=\"sk-item\"><div class=\"sk-estimator sk-toggleable\"><input class=\"sk-toggleable__control sk-hidden--visually\" id=\"sk-estimator-id-3\" type=\"checkbox\" ><label for=\"sk-estimator-id-3\" class=\"sk-toggleable__label sk-toggleable__label-arrow\">MLPClassifier</label><div class=\"sk-toggleable__content\"><pre>MLPClassifier(hidden_layer_sizes=(6, 3), learning_rate_init=0.3, max_iter=500,\n",
       "              momentum=0.2)</pre></div></div></div></div></div></div></div></div></div></div>"
      ],
      "text/plain": [
       "RandomizedSearchCV(estimator=MLPClassifier(hidden_layer_sizes=(6, 3),\n",
       "                                           learning_rate_init=0.3, max_iter=500,\n",
       "                                           momentum=0.2),\n",
       "                   param_distributions={'activation': ['logistic'],\n",
       "                                        'solver': ['sgd']},\n",
       "                   refit='Accuracy',\n",
       "                   scoring={'Accuracy': make_scorer(accuracy_score),\n",
       "                            'F1': 'f1_macro'})"
      ]
     },
     "execution_count": 50,
     "metadata": {},
     "output_type": "execute_result"
    }
   ],
   "source": [
    "# skf = StratifiedKFold(n_splits=n_folds, shuffle=False, random_state=42)\n",
    "# Iterar sobre os folds\n",
    "# for train_index, test_index in skf.split(X_train_full, y_train_full):\n",
    "\n",
    "random_search.fit(X_train_pca, y_train)\n",
    "\n"
   ]
  },
  {
   "cell_type": "code",
   "execution_count": 51,
   "metadata": {},
   "outputs": [
    {
     "data": {
      "text/plain": [
       "0"
      ]
     },
     "execution_count": 51,
     "metadata": {},
     "output_type": "execute_result"
    }
   ],
   "source": [
    "results = random_search.cv_results_\n",
    "\n",
    "best_svm = random_search.best_estimator_ \n",
    "best_scorer_index = np.nonzero(results['rank_test_Accuracy'] == 1)[0][0]\n",
    "best_scorer_index\n"
   ]
  },
  {
   "cell_type": "code",
   "execution_count": 52,
   "metadata": {},
   "outputs": [
    {
     "name": "stderr",
     "output_type": "stream",
     "text": [
      "c:\\Users\\Vinícius\\anaconda3\\lib\\site-packages\\sklearn\\metrics\\_classification.py:1469: UndefinedMetricWarning: Precision and F-score are ill-defined and being set to 0.0 in labels with no predicted samples. Use `zero_division` parameter to control this behavior.\n",
      "  _warn_prf(average, modifier, msg_start, len(result))\n",
      "c:\\Users\\Vinícius\\anaconda3\\lib\\site-packages\\sklearn\\metrics\\_classification.py:1469: UndefinedMetricWarning: Precision and F-score are ill-defined and being set to 0.0 in labels with no predicted samples. Use `zero_division` parameter to control this behavior.\n",
      "  _warn_prf(average, modifier, msg_start, len(result))\n",
      "c:\\Users\\Vinícius\\anaconda3\\lib\\site-packages\\sklearn\\metrics\\_classification.py:1469: UndefinedMetricWarning: Precision and F-score are ill-defined and being set to 0.0 in labels with no predicted samples. Use `zero_division` parameter to control this behavior.\n",
      "  _warn_prf(average, modifier, msg_start, len(result))\n"
     ]
    },
    {
     "name": "stdout",
     "output_type": "stream",
     "text": [
      "              precision    recall  f1-score   support\n",
      "\n",
      "           0     0.0000    0.0000    0.0000      1071\n",
      "           1     0.5007    1.0000    0.6673      1074\n",
      "\n",
      "    accuracy                         0.5007      2145\n",
      "   macro avg     0.2503    0.5000    0.3336      2145\n",
      "weighted avg     0.2507    0.5007    0.3341      2145\n",
      "\n"
     ]
    },
    {
     "data": {
      "image/png": "[encoded data removed]",
      "text/plain": [
       "<Figure size 1280x600 with 2 Axes>"
      ]
     },
     "metadata": {},
     "output_type": "display_data"
    }
   ],
   "source": [
    "\n",
    "best_svm.fit(X_train_pca, y_train)\n",
    "svm_pred = best_svm.predict(X_val_pca)\n",
    "\n",
    "f1,acc = display_results(pd.DataFrame(y_val)[0],pd.DataFrame(svm_pred)[0])"
   ]
  },
  {
   "cell_type": "code",
   "execution_count": 53,
   "metadata": {},
   "outputs": [],
   "source": [
    "model = Sequential()\n",
    "model.add(Dense(15, input_dim=15, activation='relu'))\n",
    "model.add(Dense(6, activation='relu'))\n",
    "model.add(Dense(1, activation='softmax'))\n",
    "optimizer = SGD(learning_rate=0.3, momentum=0.2)\n",
    "model.compile(loss='binary_crossentropy', optimizer=optimizer, metrics=['accuracy'])\n",
    "\n"
   ]
  },
  {
   "cell_type": "code",
   "execution_count": 54,
   "metadata": {},
   "outputs": [],
   "source": [
    "model = Sequential()\n",
    "model.add(Dense(6, input_dim=6, activation='relu'))\n",
    "model.add(Dense(15, activation='relu'))\n",
    "model.add(Dense(30, activation='relu'))\n",
    "# model.add(Dense(5, activation='relu'))\n",
    "model.add(Dense(3, activation='relu'))\n",
    "# model.add(Dense(2, activation='softmax'))\n",
    "model.add(Dense(1, activation='softmax'))\n",
    "optimizer = SGD(\n",
    "    learning_rate=0.01\n",
    "                # , momentum=0.2\n",
    "                )\n",
    "model.compile(loss='binary_crossentropy', optimizer=optimizer, metrics=['accuracy'])\n",
    "\n"
   ]
  },
  {
   "cell_type": "code",
   "execution_count": 55,
   "metadata": {},
   "outputs": [
    {
     "name": "stdout",
     "output_type": "stream",
     "text": [
      "Epoch 1/100\n",
      "157/157 [==============================] - 1s 3ms/step - loss: 0.6932 - accuracy: 0.4973 - val_loss: 0.6932 - val_accuracy: 0.5007\n",
      "Epoch 2/100\n",
      "157/157 [==============================] - 0s 2ms/step - loss: 0.6932 - accuracy: 0.4973 - val_loss: 0.6932 - val_accuracy: 0.5007\n",
      "Epoch 3/100\n",
      "157/157 [==============================] - 0s 2ms/step - loss: 0.6932 - accuracy: 0.4973 - val_loss: 0.6932 - val_accuracy: 0.5007\n",
      "Epoch 4/100\n",
      "157/157 [==============================] - 0s 2ms/step - loss: 0.6932 - accuracy: 0.4973 - val_loss: 0.6932 - val_accuracy: 0.5007\n",
      "Epoch 5/100\n",
      "157/157 [==============================] - 0s 2ms/step - loss: 0.6932 - accuracy: 0.4973 - val_loss: 0.6932 - val_accuracy: 0.5007\n",
      "Epoch 6/100\n",
      "157/157 [==============================] - 0s 2ms/step - loss: 0.6932 - accuracy: 0.4973 - val_loss: 0.6932 - val_accuracy: 0.5007\n",
      "Epoch 7/100\n",
      "157/157 [==============================] - 0s 2ms/step - loss: 0.6932 - accuracy: 0.4973 - val_loss: 0.6932 - val_accuracy: 0.5007\n",
      "Epoch 8/100\n",
      "157/157 [==============================] - 0s 2ms/step - loss: 0.6932 - accuracy: 0.4973 - val_loss: 0.6932 - val_accuracy: 0.5007\n",
      "Epoch 9/100\n",
      "157/157 [==============================] - 0s 2ms/step - loss: 0.6932 - accuracy: 0.4973 - val_loss: 0.6932 - val_accuracy: 0.5007\n",
      "Epoch 10/100\n",
      "157/157 [==============================] - 0s 2ms/step - loss: 0.6932 - accuracy: 0.4973 - val_loss: 0.6932 - val_accuracy: 0.5007\n",
      "Epoch 11/100\n",
      "157/157 [==============================] - 0s 2ms/step - loss: 0.6932 - accuracy: 0.4973 - val_loss: 0.6932 - val_accuracy: 0.5007\n",
      "Epoch 12/100\n",
      "157/157 [==============================] - 0s 2ms/step - loss: 0.6932 - accuracy: 0.4973 - val_loss: 0.6932 - val_accuracy: 0.5007\n",
      "Epoch 13/100\n",
      "157/157 [==============================] - 0s 2ms/step - loss: 0.6932 - accuracy: 0.4973 - val_loss: 0.6932 - val_accuracy: 0.5007\n",
      "Epoch 14/100\n",
      "157/157 [==============================] - 0s 2ms/step - loss: 0.6932 - accuracy: 0.4973 - val_loss: 0.6932 - val_accuracy: 0.5007\n",
      "Epoch 15/100\n",
      "157/157 [==============================] - 0s 2ms/step - loss: 0.6932 - accuracy: 0.4973 - val_loss: 0.6932 - val_accuracy: 0.5007\n",
      "Epoch 16/100\n",
      "157/157 [==============================] - 0s 2ms/step - loss: 0.6932 - accuracy: 0.4973 - val_loss: 0.6932 - val_accuracy: 0.5007\n",
      "Epoch 17/100\n",
      "157/157 [==============================] - 0s 2ms/step - loss: 0.6932 - accuracy: 0.4973 - val_loss: 0.6932 - val_accuracy: 0.5007\n",
      "Epoch 18/100\n",
      "157/157 [==============================] - 0s 2ms/step - loss: 0.6932 - accuracy: 0.4973 - val_loss: 0.6932 - val_accuracy: 0.5007\n",
      "Epoch 19/100\n",
      "157/157 [==============================] - 0s 2ms/step - loss: 0.6932 - accuracy: 0.4973 - val_loss: 0.6932 - val_accuracy: 0.5007\n",
      "Epoch 20/100\n",
      "157/157 [==============================] - 0s 2ms/step - loss: 0.6932 - accuracy: 0.4973 - val_loss: 0.6932 - val_accuracy: 0.5007\n",
      "Epoch 21/100\n",
      "157/157 [==============================] - 0s 2ms/step - loss: 0.6932 - accuracy: 0.4973 - val_loss: 0.6932 - val_accuracy: 0.5007\n",
      "Epoch 22/100\n",
      "157/157 [==============================] - 0s 2ms/step - loss: 0.6932 - accuracy: 0.4973 - val_loss: 0.6932 - val_accuracy: 0.5007\n",
      "Epoch 23/100\n",
      "157/157 [==============================] - 0s 2ms/step - loss: 0.6932 - accuracy: 0.4973 - val_loss: 0.6932 - val_accuracy: 0.5007\n",
      "Epoch 24/100\n",
      "157/157 [==============================] - 0s 2ms/step - loss: 0.6932 - accuracy: 0.4973 - val_loss: 0.6932 - val_accuracy: 0.5007\n",
      "Epoch 25/100\n",
      "157/157 [==============================] - 0s 2ms/step - loss: 0.6932 - accuracy: 0.4973 - val_loss: 0.6932 - val_accuracy: 0.5007\n",
      "Epoch 26/100\n",
      "157/157 [==============================] - 0s 2ms/step - loss: 0.6932 - accuracy: 0.4973 - val_loss: 0.6932 - val_accuracy: 0.5007\n",
      "Epoch 27/100\n",
      "157/157 [==============================] - 0s 2ms/step - loss: 0.6932 - accuracy: 0.4973 - val_loss: 0.6932 - val_accuracy: 0.5007\n",
      "Epoch 28/100\n",
      "157/157 [==============================] - 0s 2ms/step - loss: 0.6932 - accuracy: 0.4973 - val_loss: 0.6932 - val_accuracy: 0.5007\n",
      "Epoch 29/100\n",
      "157/157 [==============================] - 0s 2ms/step - loss: 0.6932 - accuracy: 0.4973 - val_loss: 0.6932 - val_accuracy: 0.5007\n",
      "Epoch 30/100\n",
      "157/157 [==============================] - 0s 2ms/step - loss: 0.6932 - accuracy: 0.4973 - val_loss: 0.6932 - val_accuracy: 0.5007\n",
      "Epoch 31/100\n",
      "157/157 [==============================] - 0s 2ms/step - loss: 0.6932 - accuracy: 0.4973 - val_loss: 0.6932 - val_accuracy: 0.5007\n",
      "Epoch 32/100\n",
      "157/157 [==============================] - 0s 2ms/step - loss: 0.6932 - accuracy: 0.4973 - val_loss: 0.6932 - val_accuracy: 0.5007\n",
      "Epoch 33/100\n",
      "157/157 [==============================] - 0s 2ms/step - loss: 0.6932 - accuracy: 0.4973 - val_loss: 0.6932 - val_accuracy: 0.5007\n",
      "Epoch 34/100\n",
      "157/157 [==============================] - 0s 2ms/step - loss: 0.6932 - accuracy: 0.4973 - val_loss: 0.6932 - val_accuracy: 0.5007\n",
      "Epoch 35/100\n",
      "157/157 [==============================] - 0s 2ms/step - loss: 0.6932 - accuracy: 0.4973 - val_loss: 0.6932 - val_accuracy: 0.5007\n",
      "Epoch 36/100\n",
      "157/157 [==============================] - 0s 2ms/step - loss: 0.6932 - accuracy: 0.4973 - val_loss: 0.6932 - val_accuracy: 0.5007\n",
      "Epoch 37/100\n",
      "157/157 [==============================] - 0s 2ms/step - loss: 0.6932 - accuracy: 0.4973 - val_loss: 0.6932 - val_accuracy: 0.5007\n",
      "Epoch 38/100\n",
      "157/157 [==============================] - 0s 2ms/step - loss: 0.6932 - accuracy: 0.4973 - val_loss: 0.6932 - val_accuracy: 0.5007\n",
      "Epoch 39/100\n",
      "157/157 [==============================] - 0s 2ms/step - loss: 0.6932 - accuracy: 0.4973 - val_loss: 0.6932 - val_accuracy: 0.5007\n",
      "Epoch 40/100\n",
      "157/157 [==============================] - 0s 2ms/step - loss: 0.6932 - accuracy: 0.4973 - val_loss: 0.6932 - val_accuracy: 0.5007\n",
      "Epoch 41/100\n",
      "157/157 [==============================] - 0s 2ms/step - loss: 0.6932 - accuracy: 0.4973 - val_loss: 0.6932 - val_accuracy: 0.5007\n",
      "Epoch 42/100\n",
      "157/157 [==============================] - 0s 2ms/step - loss: 0.6932 - accuracy: 0.4973 - val_loss: 0.6932 - val_accuracy: 0.5007\n",
      "Epoch 43/100\n",
      "157/157 [==============================] - 0s 2ms/step - loss: 0.6932 - accuracy: 0.4973 - val_loss: 0.6932 - val_accuracy: 0.5007\n",
      "Epoch 44/100\n",
      "157/157 [==============================] - 0s 2ms/step - loss: 0.6932 - accuracy: 0.4973 - val_loss: 0.6932 - val_accuracy: 0.5007\n",
      "Epoch 45/100\n",
      "157/157 [==============================] - 0s 2ms/step - loss: 0.6932 - accuracy: 0.4973 - val_loss: 0.6932 - val_accuracy: 0.5007\n",
      "Epoch 46/100\n",
      "157/157 [==============================] - 0s 2ms/step - loss: 0.6932 - accuracy: 0.4973 - val_loss: 0.6932 - val_accuracy: 0.5007\n",
      "Epoch 47/100\n",
      "157/157 [==============================] - 0s 2ms/step - loss: 0.6932 - accuracy: 0.4973 - val_loss: 0.6932 - val_accuracy: 0.5007\n",
      "Epoch 48/100\n",
      "157/157 [==============================] - 0s 2ms/step - loss: 0.6932 - accuracy: 0.4973 - val_loss: 0.6932 - val_accuracy: 0.5007\n",
      "Epoch 49/100\n",
      "157/157 [==============================] - 0s 2ms/step - loss: 0.6932 - accuracy: 0.4973 - val_loss: 0.6932 - val_accuracy: 0.5007\n",
      "Epoch 50/100\n",
      "157/157 [==============================] - 0s 2ms/step - loss: 0.6932 - accuracy: 0.4973 - val_loss: 0.6932 - val_accuracy: 0.5007\n",
      "Epoch 51/100\n",
      "157/157 [==============================] - 0s 2ms/step - loss: 0.6932 - accuracy: 0.4973 - val_loss: 0.6932 - val_accuracy: 0.5007\n",
      "Epoch 52/100\n",
      "157/157 [==============================] - 0s 2ms/step - loss: 0.6932 - accuracy: 0.4973 - val_loss: 0.6932 - val_accuracy: 0.5007\n",
      "Epoch 53/100\n",
      "157/157 [==============================] - 0s 2ms/step - loss: 0.6932 - accuracy: 0.4973 - val_loss: 0.6932 - val_accuracy: 0.5007\n",
      "Epoch 54/100\n",
      "157/157 [==============================] - 0s 2ms/step - loss: 0.6932 - accuracy: 0.4973 - val_loss: 0.6932 - val_accuracy: 0.5007\n",
      "Epoch 55/100\n",
      "157/157 [==============================] - 0s 2ms/step - loss: 0.6932 - accuracy: 0.4973 - val_loss: 0.6932 - val_accuracy: 0.5007\n",
      "Epoch 56/100\n",
      "157/157 [==============================] - 0s 2ms/step - loss: 0.6932 - accuracy: 0.4973 - val_loss: 0.6932 - val_accuracy: 0.5007\n",
      "Epoch 57/100\n",
      "157/157 [==============================] - 0s 2ms/step - loss: 0.6932 - accuracy: 0.4973 - val_loss: 0.6932 - val_accuracy: 0.5007\n",
      "Epoch 58/100\n",
      "157/157 [==============================] - 0s 2ms/step - loss: 0.6932 - accuracy: 0.4973 - val_loss: 0.6932 - val_accuracy: 0.5007\n",
      "Epoch 59/100\n",
      "157/157 [==============================] - 0s 2ms/step - loss: 0.6932 - accuracy: 0.4973 - val_loss: 0.6932 - val_accuracy: 0.5007\n",
      "Epoch 60/100\n",
      "157/157 [==============================] - 0s 2ms/step - loss: 0.6932 - accuracy: 0.4973 - val_loss: 0.6932 - val_accuracy: 0.5007\n",
      "Epoch 61/100\n",
      "157/157 [==============================] - 0s 2ms/step - loss: 0.6932 - accuracy: 0.4973 - val_loss: 0.6932 - val_accuracy: 0.5007\n",
      "Epoch 62/100\n",
      "157/157 [==============================] - 0s 2ms/step - loss: 0.6932 - accuracy: 0.4973 - val_loss: 0.6932 - val_accuracy: 0.5007\n",
      "Epoch 63/100\n",
      "157/157 [==============================] - 0s 2ms/step - loss: 0.6932 - accuracy: 0.4973 - val_loss: 0.6932 - val_accuracy: 0.5007\n",
      "Epoch 64/100\n",
      "157/157 [==============================] - 0s 2ms/step - loss: 0.6932 - accuracy: 0.4973 - val_loss: 0.6932 - val_accuracy: 0.5007\n",
      "Epoch 65/100\n",
      "157/157 [==============================] - 0s 2ms/step - loss: 0.6932 - accuracy: 0.4973 - val_loss: 0.6932 - val_accuracy: 0.5007\n",
      "Epoch 66/100\n",
      "157/157 [==============================] - 0s 2ms/step - loss: 0.6932 - accuracy: 0.4973 - val_loss: 0.6932 - val_accuracy: 0.5007\n",
      "Epoch 67/100\n",
      "157/157 [==============================] - 0s 2ms/step - loss: 0.6932 - accuracy: 0.4973 - val_loss: 0.6932 - val_accuracy: 0.5007\n",
      "Epoch 68/100\n",
      "157/157 [==============================] - 0s 2ms/step - loss: 0.6932 - accuracy: 0.4973 - val_loss: 0.6932 - val_accuracy: 0.5007\n",
      "Epoch 69/100\n",
      "157/157 [==============================] - 0s 2ms/step - loss: 0.6932 - accuracy: 0.4973 - val_loss: 0.6932 - val_accuracy: 0.5007\n",
      "Epoch 70/100\n",
      "157/157 [==============================] - 0s 2ms/step - loss: 0.6932 - accuracy: 0.4973 - val_loss: 0.6932 - val_accuracy: 0.5007\n",
      "Epoch 71/100\n",
      "157/157 [==============================] - 0s 2ms/step - loss: 0.6932 - accuracy: 0.4973 - val_loss: 0.6932 - val_accuracy: 0.5007\n",
      "Epoch 72/100\n",
      "157/157 [==============================] - 0s 2ms/step - loss: 0.6932 - accuracy: 0.4973 - val_loss: 0.6932 - val_accuracy: 0.5007\n",
      "Epoch 73/100\n",
      "157/157 [==============================] - 0s 2ms/step - loss: 0.6932 - accuracy: 0.4973 - val_loss: 0.6932 - val_accuracy: 0.5007\n",
      "Epoch 74/100\n",
      "157/157 [==============================] - 0s 2ms/step - loss: 0.6932 - accuracy: 0.4973 - val_loss: 0.6932 - val_accuracy: 0.5007\n",
      "Epoch 75/100\n",
      "157/157 [==============================] - 0s 2ms/step - loss: 0.6932 - accuracy: 0.4973 - val_loss: 0.6932 - val_accuracy: 0.5007\n",
      "Epoch 76/100\n",
      "157/157 [==============================] - 0s 2ms/step - loss: 0.6932 - accuracy: 0.4973 - val_loss: 0.6932 - val_accuracy: 0.5007\n",
      "Epoch 77/100\n",
      "157/157 [==============================] - 0s 2ms/step - loss: 0.6932 - accuracy: 0.4973 - val_loss: 0.6932 - val_accuracy: 0.5007\n",
      "Epoch 78/100\n",
      "157/157 [==============================] - 0s 2ms/step - loss: 0.6932 - accuracy: 0.4973 - val_loss: 0.6932 - val_accuracy: 0.5007\n",
      "Epoch 79/100\n",
      "157/157 [==============================] - 0s 2ms/step - loss: 0.6932 - accuracy: 0.4973 - val_loss: 0.6932 - val_accuracy: 0.5007\n",
      "Epoch 80/100\n",
      "157/157 [==============================] - 0s 2ms/step - loss: 0.6932 - accuracy: 0.4973 - val_loss: 0.6932 - val_accuracy: 0.5007\n",
      "Epoch 81/100\n",
      "157/157 [==============================] - 0s 2ms/step - loss: 0.6932 - accuracy: 0.4973 - val_loss: 0.6932 - val_accuracy: 0.5007\n",
      "Epoch 82/100\n",
      "157/157 [==============================] - 0s 2ms/step - loss: 0.6932 - accuracy: 0.4973 - val_loss: 0.6932 - val_accuracy: 0.5007\n",
      "Epoch 83/100\n",
      "157/157 [==============================] - 0s 2ms/step - loss: 0.6932 - accuracy: 0.4973 - val_loss: 0.6932 - val_accuracy: 0.5007\n",
      "Epoch 84/100\n",
      "157/157 [==============================] - 0s 2ms/step - loss: 0.6932 - accuracy: 0.4973 - val_loss: 0.6932 - val_accuracy: 0.5007\n",
      "Epoch 85/100\n",
      "157/157 [==============================] - 0s 2ms/step - loss: 0.6932 - accuracy: 0.4973 - val_loss: 0.6932 - val_accuracy: 0.5007\n",
      "Epoch 86/100\n",
      "157/157 [==============================] - 0s 2ms/step - loss: 0.6932 - accuracy: 0.4973 - val_loss: 0.6932 - val_accuracy: 0.5007\n",
      "Epoch 87/100\n",
      "157/157 [==============================] - 0s 2ms/step - loss: 0.6932 - accuracy: 0.4973 - val_loss: 0.6932 - val_accuracy: 0.5007\n",
      "Epoch 88/100\n",
      "157/157 [==============================] - 0s 2ms/step - loss: 0.6932 - accuracy: 0.4973 - val_loss: 0.6932 - val_accuracy: 0.5007\n",
      "Epoch 89/100\n",
      "157/157 [==============================] - 0s 2ms/step - loss: 0.6932 - accuracy: 0.4973 - val_loss: 0.6932 - val_accuracy: 0.5007\n",
      "Epoch 90/100\n",
      "157/157 [==============================] - 0s 2ms/step - loss: 0.6932 - accuracy: 0.4973 - val_loss: 0.6932 - val_accuracy: 0.5007\n",
      "Epoch 91/100\n",
      "157/157 [==============================] - 0s 2ms/step - loss: 0.6932 - accuracy: 0.4973 - val_loss: 0.6932 - val_accuracy: 0.5007\n",
      "Epoch 92/100\n",
      "157/157 [==============================] - 0s 2ms/step - loss: 0.6932 - accuracy: 0.4973 - val_loss: 0.6932 - val_accuracy: 0.5007\n",
      "Epoch 93/100\n",
      "157/157 [==============================] - 0s 2ms/step - loss: 0.6932 - accuracy: 0.4973 - val_loss: 0.6932 - val_accuracy: 0.5007\n",
      "Epoch 94/100\n",
      "157/157 [==============================] - 0s 2ms/step - loss: 0.6932 - accuracy: 0.4973 - val_loss: 0.6932 - val_accuracy: 0.5007\n",
      "Epoch 95/100\n",
      "157/157 [==============================] - 0s 2ms/step - loss: 0.6932 - accuracy: 0.4973 - val_loss: 0.6932 - val_accuracy: 0.5007\n",
      "Epoch 96/100\n",
      "157/157 [==============================] - 0s 2ms/step - loss: 0.6932 - accuracy: 0.4973 - val_loss: 0.6932 - val_accuracy: 0.5007\n",
      "Epoch 97/100\n",
      "157/157 [==============================] - 0s 2ms/step - loss: 0.6932 - accuracy: 0.4973 - val_loss: 0.6932 - val_accuracy: 0.5007\n",
      "Epoch 98/100\n",
      "157/157 [==============================] - 0s 2ms/step - loss: 0.6932 - accuracy: 0.4973 - val_loss: 0.6932 - val_accuracy: 0.5007\n",
      "Epoch 99/100\n",
      "157/157 [==============================] - 0s 2ms/step - loss: 0.6932 - accuracy: 0.4973 - val_loss: 0.6932 - val_accuracy: 0.5007\n",
      "Epoch 100/100\n",
      "157/157 [==============================] - 0s 2ms/step - loss: 0.6932 - accuracy: 0.4973 - val_loss: 0.6932 - val_accuracy: 0.5007\n"
     ]
    },
    {
     "data": {
      "text/plain": [
       "<keras.callbacks.History at 0x269054bfb80>"
      ]
     },
     "execution_count": 55,
     "metadata": {},
     "output_type": "execute_result"
    }
   ],
   "source": [
    "model.fit(X_train_pca\n",
    "          , y_train\n",
    "          ,validation_data=(X_val_pca,y_val)\n",
    "        ,epochs=100\n",
    "          )"
   ]
  },
  {
   "cell_type": "code",
   "execution_count": 56,
   "metadata": {},
   "outputs": [
    {
     "name": "stdout",
     "output_type": "stream",
     "text": [
      "68/68 [==============================] - 0s 941us/step\n"
     ]
    },
    {
     "data": {
      "text/plain": [
       "array([[1.],\n",
       "       [1.],\n",
       "       [1.],\n",
       "       ...,\n",
       "       [1.],\n",
       "       [1.],\n",
       "       [1.]], dtype=float32)"
      ]
     },
     "execution_count": 56,
     "metadata": {},
     "output_type": "execute_result"
    }
   ],
   "source": [
    "\n",
    "model_pred = model.predict(X_val_pca)\n",
    "model_pred"
   ]
  },
  {
   "cell_type": "code",
   "execution_count": 57,
   "metadata": {},
   "outputs": [
    {
     "name": "stdout",
     "output_type": "stream",
     "text": [
      "              precision    recall  f1-score   support\n",
      "\n",
      "           0     0.0000    0.0000    0.0000      1071\n",
      "           1     0.5007    1.0000    0.6673      1074\n",
      "\n",
      "    accuracy                         0.5007      2145\n",
      "   macro avg     0.2503    0.5000    0.3336      2145\n",
      "weighted avg     0.2507    0.5007    0.3341      2145\n",
      "\n"
     ]
    },
    {
     "name": "stderr",
     "output_type": "stream",
     "text": [
      "c:\\Users\\Vinícius\\anaconda3\\lib\\site-packages\\sklearn\\metrics\\_classification.py:1469: UndefinedMetricWarning: Precision and F-score are ill-defined and being set to 0.0 in labels with no predicted samples. Use `zero_division` parameter to control this behavior.\n",
      "  _warn_prf(average, modifier, msg_start, len(result))\n",
      "c:\\Users\\Vinícius\\anaconda3\\lib\\site-packages\\sklearn\\metrics\\_classification.py:1469: UndefinedMetricWarning: Precision and F-score are ill-defined and being set to 0.0 in labels with no predicted samples. Use `zero_division` parameter to control this behavior.\n",
      "  _warn_prf(average, modifier, msg_start, len(result))\n",
      "c:\\Users\\Vinícius\\anaconda3\\lib\\site-packages\\sklearn\\metrics\\_classification.py:1469: UndefinedMetricWarning: Precision and F-score are ill-defined and being set to 0.0 in labels with no predicted samples. Use `zero_division` parameter to control this behavior.\n",
      "  _warn_prf(average, modifier, msg_start, len(result))\n"
     ]
    },
    {
     "data": {
      "image/png": "[encoded data removed]",
      "text/plain": [
       "<Figure size 1280x600 with 2 Axes>"
      ]
     },
     "metadata": {},
     "output_type": "display_data"
    }
   ],
   "source": [
    "\n",
    "f1,acc = display_results(pd.DataFrame(y_val)[0],pd.DataFrame(model_pred)[0])"
   ]
  },
  {
   "cell_type": "code",
   "execution_count": 58,
   "metadata": {},
   "outputs": [
    {
     "name": "stderr",
     "output_type": "stream",
     "text": [
      "c:\\Users\\Vinícius\\anaconda3\\lib\\site-packages\\umap\\umap_.py:1943: UserWarning: n_jobs value -1 overridden to 1 by setting random_state. Use no seed for parallelism.\n",
      "  warn(f\"n_jobs value {self.n_jobs} overridden to 1 by setting random_state. Use no seed for parallelism.\")\n"
     ]
    }
   ],
   "source": [
    "umap = UMAP(n_components=6, random_state=42,n_neighbors=30,min_dist=0.05)\n",
    "umap.fit(X_train,y_train)\n",
    "\n",
    "\n",
    "X_train_umap = umap.transform(X_train)\n",
    "X_val_umap = umap.transform(X_val)\n"
   ]
  },
  {
   "cell_type": "code",
   "execution_count": 59,
   "metadata": {},
   "outputs": [
    {
     "name": "stderr",
     "output_type": "stream",
     "text": [
      "c:\\Users\\Vinícius\\anaconda3\\lib\\site-packages\\sklearn\\model_selection\\_search.py:307: UserWarning: The total space of parameters 9 is smaller than n_iter=10. Running 9 iterations. For exhaustive searches, use GridSearchCV.\n",
      "  warnings.warn(\n"
     ]
    },
    {
     "data": {
      "text/html": [
       "<style>#sk-container-id-2 {color: black;}#sk-container-id-2 pre{padding: 0;}#sk-container-id-2 div.sk-toggleable {background-color: white;}#sk-container-id-2 label.sk-toggleable__label {cursor: pointer;display: block;width: 100%;margin-bottom: 0;padding: 0.3em;box-sizing: border-box;text-align: center;}#sk-container-id-2 label.sk-toggleable__label-arrow:before {content: \"▸\";float: left;margin-right: 0.25em;color: #696969;}#sk-container-id-2 label.sk-toggleable__label-arrow:hover:before {color: black;}#sk-container-id-2 div.sk-estimator:hover label.sk-toggleable__label-arrow:before {color: black;}#sk-container-id-2 div.sk-toggleable__content {max-height: 0;max-width: 0;overflow: hidden;text-align: left;background-color: #f0f8ff;}#sk-container-id-2 div.sk-toggleable__content pre {margin: 0.2em;color: black;border-radius: 0.25em;background-color: #f0f8ff;}#sk-container-id-2 input.sk-toggleable__control:checked~div.sk-toggleable__content {max-height: 200px;max-width: 100%;overflow: auto;}#sk-container-id-2 input.sk-toggleable__control:checked~label.sk-toggleable__label-arrow:before {content: \"▾\";}#sk-container-id-2 div.sk-estimator input.sk-toggleable__control:checked~label.sk-toggleable__label {background-color: #d4ebff;}#sk-container-id-2 div.sk-label input.sk-toggleable__control:checked~label.sk-toggleable__label {background-color: #d4ebff;}#sk-container-id-2 input.sk-hidden--visually {border: 0;clip: rect(1px 1px 1px 1px);clip: rect(1px, 1px, 1px, 1px);height: 1px;margin: -1px;overflow: hidden;padding: 0;position: absolute;width: 1px;}#sk-container-id-2 div.sk-estimator {font-family: monospace;background-color: #f0f8ff;border: 1px dotted black;border-radius: 0.25em;box-sizing: border-box;margin-bottom: 0.5em;}#sk-container-id-2 div.sk-estimator:hover {background-color: #d4ebff;}#sk-container-id-2 div.sk-parallel-item::after {content: \"\";width: 100%;border-bottom: 1px solid gray;flex-grow: 1;}#sk-container-id-2 div.sk-label:hover label.sk-toggleable__label {background-color: #d4ebff;}#sk-container-id-2 div.sk-serial::before {content: \"\";position: absolute;border-left: 1px solid gray;box-sizing: border-box;top: 0;bottom: 0;left: 50%;z-index: 0;}#sk-container-id-2 div.sk-serial {display: flex;flex-direction: column;align-items: center;background-color: white;padding-right: 0.2em;padding-left: 0.2em;position: relative;}#sk-container-id-2 div.sk-item {position: relative;z-index: 1;}#sk-container-id-2 div.sk-parallel {display: flex;align-items: stretch;justify-content: center;background-color: white;position: relative;}#sk-container-id-2 div.sk-item::before, #sk-container-id-2 div.sk-parallel-item::before {content: \"\";position: absolute;border-left: 1px solid gray;box-sizing: border-box;top: 0;bottom: 0;left: 50%;z-index: -1;}#sk-container-id-2 div.sk-parallel-item {display: flex;flex-direction: column;z-index: 1;position: relative;background-color: white;}#sk-container-id-2 div.sk-parallel-item:first-child::after {align-self: flex-end;width: 50%;}#sk-container-id-2 div.sk-parallel-item:last-child::after {align-self: flex-start;width: 50%;}#sk-container-id-2 div.sk-parallel-item:only-child::after {width: 0;}#sk-container-id-2 div.sk-dashed-wrapped {border: 1px dashed gray;margin: 0 0.4em 0.5em 0.4em;box-sizing: border-box;padding-bottom: 0.4em;background-color: white;}#sk-container-id-2 div.sk-label label {font-family: monospace;font-weight: bold;display: inline-block;line-height: 1.2em;}#sk-container-id-2 div.sk-label-container {text-align: center;}#sk-container-id-2 div.sk-container {/* jupyter's `normalize.less` sets `[hidden] { display: none; }` but bootstrap.min.css set `[hidden] { display: none !important; }` so we also need the `!important` here to be able to override the default hidden behavior on the sphinx rendered scikit-learn.org. See: https://github.com/scikit-learn/scikit-learn/issues/21755 */display: inline-block !important;position: relative;}#sk-container-id-2 div.sk-text-repr-fallback {display: none;}</style><div id=\"sk-container-id-2\" class=\"sk-top-container\"><div class=\"sk-text-repr-fallback\"><pre>RandomizedSearchCV(estimator=MLPClassifier(hidden_layer_sizes=(6, 4),\n",
       "                                           learning_rate_init=0.3, max_iter=500,\n",
       "                                           momentum=0.2),\n",
       "                   param_distributions={&#x27;activation&#x27;: [&#x27;relu&#x27;, &#x27;logistic&#x27;,\n",
       "                                                       &#x27;tanh&#x27;],\n",
       "                                        &#x27;solver&#x27;: [&#x27;sgd&#x27;, &#x27;adam&#x27;, &#x27;lbfgs&#x27;]},\n",
       "                   refit=&#x27;Accuracy&#x27;,\n",
       "                   scoring={&#x27;Accuracy&#x27;: make_scorer(accuracy_score),\n",
       "                            &#x27;F1&#x27;: &#x27;f1_macro&#x27;})</pre><b>In a Jupyter environment, please rerun this cell to show the HTML representation or trust the notebook. <br />On GitHub, the HTML representation is unable to render, please try loading this page with nbviewer.org.</b></div><div class=\"sk-container\" hidden><div class=\"sk-item sk-dashed-wrapped\"><div class=\"sk-label-container\"><div class=\"sk-label sk-toggleable\"><input class=\"sk-toggleable__control sk-hidden--visually\" id=\"sk-estimator-id-4\" type=\"checkbox\" ><label for=\"sk-estimator-id-4\" class=\"sk-toggleable__label sk-toggleable__label-arrow\">RandomizedSearchCV</label><div class=\"sk-toggleable__content\"><pre>RandomizedSearchCV(estimator=MLPClassifier(hidden_layer_sizes=(6, 4),\n",
       "                                           learning_rate_init=0.3, max_iter=500,\n",
       "                                           momentum=0.2),\n",
       "                   param_distributions={&#x27;activation&#x27;: [&#x27;relu&#x27;, &#x27;logistic&#x27;,\n",
       "                                                       &#x27;tanh&#x27;],\n",
       "                                        &#x27;solver&#x27;: [&#x27;sgd&#x27;, &#x27;adam&#x27;, &#x27;lbfgs&#x27;]},\n",
       "                   refit=&#x27;Accuracy&#x27;,\n",
       "                   scoring={&#x27;Accuracy&#x27;: make_scorer(accuracy_score),\n",
       "                            &#x27;F1&#x27;: &#x27;f1_macro&#x27;})</pre></div></div></div><div class=\"sk-parallel\"><div class=\"sk-parallel-item\"><div class=\"sk-item\"><div class=\"sk-label-container\"><div class=\"sk-label sk-toggleable\"><input class=\"sk-toggleable__control sk-hidden--visually\" id=\"sk-estimator-id-5\" type=\"checkbox\" ><label for=\"sk-estimator-id-5\" class=\"sk-toggleable__label sk-toggleable__label-arrow\">estimator: MLPClassifier</label><div class=\"sk-toggleable__content\"><pre>MLPClassifier(hidden_layer_sizes=(6, 4), learning_rate_init=0.3, max_iter=500,\n",
       "              momentum=0.2)</pre></div></div></div><div class=\"sk-serial\"><div class=\"sk-item\"><div class=\"sk-estimator sk-toggleable\"><input class=\"sk-toggleable__control sk-hidden--visually\" id=\"sk-estimator-id-6\" type=\"checkbox\" ><label for=\"sk-estimator-id-6\" class=\"sk-toggleable__label sk-toggleable__label-arrow\">MLPClassifier</label><div class=\"sk-toggleable__content\"><pre>MLPClassifier(hidden_layer_sizes=(6, 4), learning_rate_init=0.3, max_iter=500,\n",
       "              momentum=0.2)</pre></div></div></div></div></div></div></div></div></div></div>"
      ],
      "text/plain": [
       "RandomizedSearchCV(estimator=MLPClassifier(hidden_layer_sizes=(6, 4),\n",
       "                                           learning_rate_init=0.3, max_iter=500,\n",
       "                                           momentum=0.2),\n",
       "                   param_distributions={'activation': ['relu', 'logistic',\n",
       "                                                       'tanh'],\n",
       "                                        'solver': ['sgd', 'adam', 'lbfgs']},\n",
       "                   refit='Accuracy',\n",
       "                   scoring={'Accuracy': make_scorer(accuracy_score),\n",
       "                            'F1': 'f1_macro'})"
      ]
     },
     "execution_count": 59,
     "metadata": {},
     "output_type": "execute_result"
    }
   ],
   "source": [
    "# skf = StratifiedKFold(n_splits=n_folds, shuffle=False, random_state=42)\n",
    "# Iterar sobre os folds\n",
    "# for train_index, test_index in skf.split(X_train_full, y_train_full):\n",
    "\n",
    "# Definir o número de folds para a validação cruzada\n",
    "\n",
    "\n",
    "model = MLPClassifier(learning_rate_init= 0.3,max_iter= 500,momentum= 0.2,hidden_layer_sizes= (6, 4))\n",
    "\n",
    "random_grid = {\n",
    "               'activation': ['relu','logistic','tanh'],\n",
    "               'solver': ['sgd','adam','lbfgs'],\n",
    "               \n",
    "               \n",
    "               }\n",
    "\n",
    "\n",
    "random_search = RandomizedSearchCV(estimator= model,param_distributions=random_grid,refit='Accuracy',scoring={'F1': 'f1_macro', 'Accuracy': make_scorer(accuracy_score)})\n",
    "# Criar o modelo da rede neural\n",
    "\n",
    "random_search.fit(X_train_umap, y_train)\n",
    "\n"
   ]
  },
  {
   "cell_type": "code",
   "execution_count": 60,
   "metadata": {},
   "outputs": [
    {
     "data": {
      "text/plain": [
       "{'activation': 'logistic',\n",
       " 'alpha': 0.0001,\n",
       " 'batch_size': 'auto',\n",
       " 'beta_1': 0.9,\n",
       " 'beta_2': 0.999,\n",
       " 'early_stopping': False,\n",
       " 'epsilon': 1e-08,\n",
       " 'hidden_layer_sizes': (6, 4),\n",
       " 'learning_rate': 'constant',\n",
       " 'learning_rate_init': 0.3,\n",
       " 'max_fun': 15000,\n",
       " 'max_iter': 500,\n",
       " 'momentum': 0.2,\n",
       " 'n_iter_no_change': 10,\n",
       " 'nesterovs_momentum': True,\n",
       " 'power_t': 0.5,\n",
       " 'random_state': None,\n",
       " 'shuffle': True,\n",
       " 'solver': 'sgd',\n",
       " 'tol': 0.0001,\n",
       " 'validation_fraction': 0.1,\n",
       " 'verbose': False,\n",
       " 'warm_start': False}"
      ]
     },
     "execution_count": 60,
     "metadata": {},
     "output_type": "execute_result"
    }
   ],
   "source": [
    "results = random_search.cv_results_\n",
    "\n",
    "best_svm = random_search.best_estimator_ \n",
    "best_scorer_index = np.nonzero(results['rank_test_Accuracy'] == 1)[0][0]\n",
    "best_svm.get_params()\n",
    "\n"
   ]
  },
  {
   "cell_type": "code",
   "execution_count": 61,
   "metadata": {},
   "outputs": [
    {
     "name": "stdout",
     "output_type": "stream",
     "text": [
      "              precision    recall  f1-score   support\n",
      "\n",
      "           0     0.5000    0.4444    0.4706      1071\n",
      "           1     0.5013    0.5568    0.5276      1074\n",
      "\n",
      "    accuracy                         0.5007      2145\n",
      "   macro avg     0.5006    0.5006    0.4991      2145\n",
      "weighted avg     0.5006    0.5007    0.4991      2145\n",
      "\n"
     ]
    },
    {
     "data": {
      "image/png": "[encoded data removed]",
      "text/plain": [
       "<Figure size 1280x600 with 2 Axes>"
      ]
     },
     "metadata": {},
     "output_type": "display_data"
    }
   ],
   "source": [
    "best_svm.fit(X_train_umap, y_train)\n",
    "svm_pred_umap = best_svm.predict(X_val_umap)\n",
    "\n",
    "f1,acc = display_results(pd.DataFrame(y_val)[0],pd.DataFrame(svm_pred_umap)[0])"
   ]
  },
  {
   "cell_type": "code",
   "execution_count": 62,
   "metadata": {},
   "outputs": [
    {
     "name": "stdout",
     "output_type": "stream",
     "text": [
      "Epoch 1/100\n",
      "157/157 [==============================] - 1s 3ms/step - loss: 0.6937 - accuracy: 0.4973 - val_loss: 0.6932 - val_accuracy: 0.5007\n",
      "Epoch 2/100\n",
      "157/157 [==============================] - 0s 2ms/step - loss: 0.6932 - accuracy: 0.4973 - val_loss: 0.6932 - val_accuracy: 0.5007\n",
      "Epoch 3/100\n",
      "157/157 [==============================] - 0s 2ms/step - loss: 0.6932 - accuracy: 0.4973 - val_loss: 0.6932 - val_accuracy: 0.5007\n",
      "Epoch 4/100\n",
      "157/157 [==============================] - 0s 2ms/step - loss: 0.6932 - accuracy: 0.4973 - val_loss: 0.6932 - val_accuracy: 0.5007\n",
      "Epoch 5/100\n",
      "157/157 [==============================] - 0s 2ms/step - loss: 0.6932 - accuracy: 0.4973 - val_loss: 0.6932 - val_accuracy: 0.5007\n",
      "Epoch 6/100\n",
      "157/157 [==============================] - 0s 2ms/step - loss: 0.6932 - accuracy: 0.4973 - val_loss: 0.6932 - val_accuracy: 0.5007\n",
      "Epoch 7/100\n",
      "157/157 [==============================] - 0s 2ms/step - loss: 0.6932 - accuracy: 0.4973 - val_loss: 0.6932 - val_accuracy: 0.5007\n",
      "Epoch 8/100\n",
      "157/157 [==============================] - 0s 2ms/step - loss: 0.6932 - accuracy: 0.4973 - val_loss: 0.6932 - val_accuracy: 0.5007\n",
      "Epoch 9/100\n",
      "157/157 [==============================] - 0s 2ms/step - loss: 0.6932 - accuracy: 0.4973 - val_loss: 0.6932 - val_accuracy: 0.5007\n",
      "Epoch 10/100\n",
      "157/157 [==============================] - 0s 2ms/step - loss: 0.6932 - accuracy: 0.4973 - val_loss: 0.6932 - val_accuracy: 0.5007\n",
      "Epoch 11/100\n",
      "157/157 [==============================] - 0s 2ms/step - loss: 0.6932 - accuracy: 0.4973 - val_loss: 0.6932 - val_accuracy: 0.5007\n",
      "Epoch 12/100\n",
      "157/157 [==============================] - 0s 2ms/step - loss: 0.6932 - accuracy: 0.4973 - val_loss: 0.6932 - val_accuracy: 0.5007\n",
      "Epoch 13/100\n",
      "157/157 [==============================] - 0s 2ms/step - loss: 0.6932 - accuracy: 0.4973 - val_loss: 0.6932 - val_accuracy: 0.5007\n",
      "Epoch 14/100\n",
      "157/157 [==============================] - 0s 2ms/step - loss: 0.6932 - accuracy: 0.4973 - val_loss: 0.6932 - val_accuracy: 0.5007\n",
      "Epoch 15/100\n",
      "157/157 [==============================] - 0s 2ms/step - loss: 0.6932 - accuracy: 0.4973 - val_loss: 0.6932 - val_accuracy: 0.5007\n",
      "Epoch 16/100\n",
      "157/157 [==============================] - 0s 2ms/step - loss: 0.6932 - accuracy: 0.4973 - val_loss: 0.6932 - val_accuracy: 0.5007\n",
      "Epoch 17/100\n",
      "157/157 [==============================] - 0s 2ms/step - loss: 0.6932 - accuracy: 0.4973 - val_loss: 0.6932 - val_accuracy: 0.5007\n",
      "Epoch 18/100\n",
      "157/157 [==============================] - 0s 2ms/step - loss: 0.6932 - accuracy: 0.4973 - val_loss: 0.6932 - val_accuracy: 0.5007\n",
      "Epoch 19/100\n",
      "157/157 [==============================] - 0s 2ms/step - loss: 0.6932 - accuracy: 0.4973 - val_loss: 0.6932 - val_accuracy: 0.5007\n",
      "Epoch 20/100\n",
      "157/157 [==============================] - 0s 2ms/step - loss: 0.6932 - accuracy: 0.4973 - val_loss: 0.6932 - val_accuracy: 0.5007\n",
      "Epoch 21/100\n",
      "157/157 [==============================] - 0s 2ms/step - loss: 0.6932 - accuracy: 0.4973 - val_loss: 0.6932 - val_accuracy: 0.5007\n",
      "Epoch 22/100\n",
      "157/157 [==============================] - 0s 2ms/step - loss: 0.6932 - accuracy: 0.4973 - val_loss: 0.6932 - val_accuracy: 0.5007\n",
      "Epoch 23/100\n",
      "157/157 [==============================] - 0s 2ms/step - loss: 0.6932 - accuracy: 0.4973 - val_loss: 0.6932 - val_accuracy: 0.5007\n",
      "Epoch 24/100\n",
      "157/157 [==============================] - 0s 2ms/step - loss: 0.6932 - accuracy: 0.4973 - val_loss: 0.6932 - val_accuracy: 0.5007\n",
      "Epoch 25/100\n",
      "157/157 [==============================] - 0s 2ms/step - loss: 0.6932 - accuracy: 0.4973 - val_loss: 0.6932 - val_accuracy: 0.5007\n",
      "Epoch 26/100\n",
      "157/157 [==============================] - 0s 2ms/step - loss: 0.6932 - accuracy: 0.4973 - val_loss: 0.6932 - val_accuracy: 0.5007\n",
      "Epoch 27/100\n",
      "157/157 [==============================] - 0s 2ms/step - loss: 0.6932 - accuracy: 0.4973 - val_loss: 0.6932 - val_accuracy: 0.5007\n",
      "Epoch 28/100\n",
      "157/157 [==============================] - 0s 2ms/step - loss: 0.6932 - accuracy: 0.4973 - val_loss: 0.6932 - val_accuracy: 0.5007\n",
      "Epoch 29/100\n",
      "157/157 [==============================] - 0s 2ms/step - loss: 0.6932 - accuracy: 0.4973 - val_loss: 0.6932 - val_accuracy: 0.5007\n",
      "Epoch 30/100\n",
      "157/157 [==============================] - 0s 2ms/step - loss: 0.6932 - accuracy: 0.4973 - val_loss: 0.6932 - val_accuracy: 0.5007\n",
      "Epoch 31/100\n",
      "157/157 [==============================] - 0s 2ms/step - loss: 0.6932 - accuracy: 0.4973 - val_loss: 0.6932 - val_accuracy: 0.5007\n",
      "Epoch 32/100\n",
      "157/157 [==============================] - 0s 2ms/step - loss: 0.6932 - accuracy: 0.4973 - val_loss: 0.6932 - val_accuracy: 0.5007\n",
      "Epoch 33/100\n",
      "157/157 [==============================] - 0s 2ms/step - loss: 0.6932 - accuracy: 0.4973 - val_loss: 0.6932 - val_accuracy: 0.5007\n",
      "Epoch 34/100\n",
      "157/157 [==============================] - 0s 2ms/step - loss: 0.6932 - accuracy: 0.4973 - val_loss: 0.6932 - val_accuracy: 0.5007\n",
      "Epoch 35/100\n",
      "157/157 [==============================] - 0s 2ms/step - loss: 0.6932 - accuracy: 0.4973 - val_loss: 0.6932 - val_accuracy: 0.5007\n",
      "Epoch 36/100\n",
      "157/157 [==============================] - 0s 2ms/step - loss: 0.6932 - accuracy: 0.4973 - val_loss: 0.6932 - val_accuracy: 0.5007\n",
      "Epoch 37/100\n",
      "157/157 [==============================] - 0s 2ms/step - loss: 0.6932 - accuracy: 0.4973 - val_loss: 0.6932 - val_accuracy: 0.5007\n",
      "Epoch 38/100\n",
      "157/157 [==============================] - 0s 2ms/step - loss: 0.6932 - accuracy: 0.4973 - val_loss: 0.6932 - val_accuracy: 0.5007\n",
      "Epoch 39/100\n",
      "157/157 [==============================] - 0s 2ms/step - loss: 0.6932 - accuracy: 0.4973 - val_loss: 0.6932 - val_accuracy: 0.5007\n",
      "Epoch 40/100\n",
      "157/157 [==============================] - 0s 2ms/step - loss: 0.6932 - accuracy: 0.4973 - val_loss: 0.6932 - val_accuracy: 0.5007\n",
      "Epoch 41/100\n",
      "157/157 [==============================] - 0s 2ms/step - loss: 0.6932 - accuracy: 0.4973 - val_loss: 0.6932 - val_accuracy: 0.5007\n",
      "Epoch 42/100\n",
      "157/157 [==============================] - 0s 2ms/step - loss: 0.6932 - accuracy: 0.4973 - val_loss: 0.6932 - val_accuracy: 0.5007\n",
      "Epoch 43/100\n",
      "157/157 [==============================] - 0s 2ms/step - loss: 0.6932 - accuracy: 0.4973 - val_loss: 0.6932 - val_accuracy: 0.5007\n",
      "Epoch 44/100\n",
      "157/157 [==============================] - 0s 2ms/step - loss: 0.6932 - accuracy: 0.4973 - val_loss: 0.6932 - val_accuracy: 0.5007\n",
      "Epoch 45/100\n",
      "157/157 [==============================] - 0s 2ms/step - loss: 0.6932 - accuracy: 0.4973 - val_loss: 0.6932 - val_accuracy: 0.5007\n",
      "Epoch 46/100\n",
      "157/157 [==============================] - 0s 2ms/step - loss: 0.6932 - accuracy: 0.4973 - val_loss: 0.6932 - val_accuracy: 0.5007\n",
      "Epoch 47/100\n",
      "157/157 [==============================] - 0s 2ms/step - loss: 0.6932 - accuracy: 0.4973 - val_loss: 0.6932 - val_accuracy: 0.5007\n",
      "Epoch 48/100\n",
      "157/157 [==============================] - 0s 2ms/step - loss: 0.6932 - accuracy: 0.4973 - val_loss: 0.6932 - val_accuracy: 0.5007\n",
      "Epoch 49/100\n",
      "157/157 [==============================] - 0s 2ms/step - loss: 0.6932 - accuracy: 0.4973 - val_loss: 0.6932 - val_accuracy: 0.5007\n",
      "Epoch 50/100\n",
      "157/157 [==============================] - 0s 2ms/step - loss: 0.6932 - accuracy: 0.4973 - val_loss: 0.6932 - val_accuracy: 0.5007\n",
      "Epoch 51/100\n",
      "157/157 [==============================] - 0s 2ms/step - loss: 0.6932 - accuracy: 0.4973 - val_loss: 0.6932 - val_accuracy: 0.5007\n",
      "Epoch 52/100\n",
      "157/157 [==============================] - 0s 2ms/step - loss: 0.6932 - accuracy: 0.4973 - val_loss: 0.6932 - val_accuracy: 0.5007\n",
      "Epoch 53/100\n",
      "157/157 [==============================] - 0s 2ms/step - loss: 0.6932 - accuracy: 0.4973 - val_loss: 0.6932 - val_accuracy: 0.5007\n",
      "Epoch 54/100\n",
      "157/157 [==============================] - 0s 2ms/step - loss: 0.6932 - accuracy: 0.4973 - val_loss: 0.6932 - val_accuracy: 0.5007\n",
      "Epoch 55/100\n",
      "157/157 [==============================] - 0s 2ms/step - loss: 0.6932 - accuracy: 0.4973 - val_loss: 0.6932 - val_accuracy: 0.5007\n",
      "Epoch 56/100\n",
      "157/157 [==============================] - 0s 2ms/step - loss: 0.6932 - accuracy: 0.4973 - val_loss: 0.6932 - val_accuracy: 0.5007\n",
      "Epoch 57/100\n",
      "157/157 [==============================] - 0s 2ms/step - loss: 0.6932 - accuracy: 0.4973 - val_loss: 0.6932 - val_accuracy: 0.5007\n",
      "Epoch 58/100\n",
      "157/157 [==============================] - 0s 2ms/step - loss: 0.6932 - accuracy: 0.4973 - val_loss: 0.6932 - val_accuracy: 0.5007\n",
      "Epoch 59/100\n",
      "157/157 [==============================] - 0s 2ms/step - loss: 0.6932 - accuracy: 0.4973 - val_loss: 0.6932 - val_accuracy: 0.5007\n",
      "Epoch 60/100\n",
      "157/157 [==============================] - 0s 2ms/step - loss: 0.6932 - accuracy: 0.4973 - val_loss: 0.6932 - val_accuracy: 0.5007\n",
      "Epoch 61/100\n",
      "157/157 [==============================] - 0s 2ms/step - loss: 0.6932 - accuracy: 0.4973 - val_loss: 0.6932 - val_accuracy: 0.5007\n",
      "Epoch 62/100\n",
      "157/157 [==============================] - 0s 2ms/step - loss: 0.6932 - accuracy: 0.4973 - val_loss: 0.6932 - val_accuracy: 0.5007\n",
      "Epoch 63/100\n",
      "157/157 [==============================] - 0s 2ms/step - loss: 0.6932 - accuracy: 0.4973 - val_loss: 0.6932 - val_accuracy: 0.5007\n",
      "Epoch 64/100\n",
      "157/157 [==============================] - 0s 2ms/step - loss: 0.6932 - accuracy: 0.4973 - val_loss: 0.6932 - val_accuracy: 0.5007\n",
      "Epoch 65/100\n",
      "157/157 [==============================] - 0s 2ms/step - loss: 0.6932 - accuracy: 0.4973 - val_loss: 0.6932 - val_accuracy: 0.5007\n",
      "Epoch 66/100\n",
      "157/157 [==============================] - 0s 2ms/step - loss: 0.6932 - accuracy: 0.4973 - val_loss: 0.6932 - val_accuracy: 0.5007\n",
      "Epoch 67/100\n",
      "157/157 [==============================] - 0s 2ms/step - loss: 0.6932 - accuracy: 0.4973 - val_loss: 0.6932 - val_accuracy: 0.5007\n",
      "Epoch 68/100\n",
      "157/157 [==============================] - 0s 2ms/step - loss: 0.6932 - accuracy: 0.4973 - val_loss: 0.6932 - val_accuracy: 0.5007\n",
      "Epoch 69/100\n",
      "157/157 [==============================] - 0s 2ms/step - loss: 0.6932 - accuracy: 0.4973 - val_loss: 0.6932 - val_accuracy: 0.5007\n",
      "Epoch 70/100\n",
      "157/157 [==============================] - 0s 2ms/step - loss: 0.6932 - accuracy: 0.4973 - val_loss: 0.6932 - val_accuracy: 0.5007\n",
      "Epoch 71/100\n",
      "157/157 [==============================] - 0s 2ms/step - loss: 0.6932 - accuracy: 0.4973 - val_loss: 0.6932 - val_accuracy: 0.5007\n",
      "Epoch 72/100\n",
      "157/157 [==============================] - 0s 2ms/step - loss: 0.6932 - accuracy: 0.4973 - val_loss: 0.6932 - val_accuracy: 0.5007\n",
      "Epoch 73/100\n",
      "157/157 [==============================] - 0s 2ms/step - loss: 0.6932 - accuracy: 0.4973 - val_loss: 0.6932 - val_accuracy: 0.5007\n",
      "Epoch 74/100\n",
      "157/157 [==============================] - 0s 2ms/step - loss: 0.6932 - accuracy: 0.4973 - val_loss: 0.6932 - val_accuracy: 0.5007\n",
      "Epoch 75/100\n",
      "157/157 [==============================] - 0s 2ms/step - loss: 0.6932 - accuracy: 0.4973 - val_loss: 0.6932 - val_accuracy: 0.5007\n",
      "Epoch 76/100\n",
      "157/157 [==============================] - 0s 2ms/step - loss: 0.6932 - accuracy: 0.4973 - val_loss: 0.6932 - val_accuracy: 0.5007\n",
      "Epoch 77/100\n",
      "157/157 [==============================] - 0s 2ms/step - loss: 0.6932 - accuracy: 0.4973 - val_loss: 0.6932 - val_accuracy: 0.5007\n",
      "Epoch 78/100\n",
      "157/157 [==============================] - 0s 2ms/step - loss: 0.6932 - accuracy: 0.4973 - val_loss: 0.6932 - val_accuracy: 0.5007\n",
      "Epoch 79/100\n",
      "157/157 [==============================] - 0s 2ms/step - loss: 0.6932 - accuracy: 0.4973 - val_loss: 0.6932 - val_accuracy: 0.5007\n",
      "Epoch 80/100\n",
      "157/157 [==============================] - 0s 2ms/step - loss: 0.6932 - accuracy: 0.4973 - val_loss: 0.6932 - val_accuracy: 0.5007\n",
      "Epoch 81/100\n",
      "157/157 [==============================] - 0s 2ms/step - loss: 0.6932 - accuracy: 0.4973 - val_loss: 0.6932 - val_accuracy: 0.5007\n",
      "Epoch 82/100\n",
      "157/157 [==============================] - 0s 2ms/step - loss: 0.6932 - accuracy: 0.4973 - val_loss: 0.6932 - val_accuracy: 0.5007\n",
      "Epoch 83/100\n",
      "157/157 [==============================] - 0s 2ms/step - loss: 0.6932 - accuracy: 0.4973 - val_loss: 0.6932 - val_accuracy: 0.5007\n",
      "Epoch 84/100\n",
      "157/157 [==============================] - 0s 2ms/step - loss: 0.6932 - accuracy: 0.4973 - val_loss: 0.6932 - val_accuracy: 0.5007\n",
      "Epoch 85/100\n",
      "157/157 [==============================] - 0s 2ms/step - loss: 0.6932 - accuracy: 0.4973 - val_loss: 0.6932 - val_accuracy: 0.5007\n",
      "Epoch 86/100\n",
      "157/157 [==============================] - 0s 2ms/step - loss: 0.6932 - accuracy: 0.4973 - val_loss: 0.6932 - val_accuracy: 0.5007\n",
      "Epoch 87/100\n",
      "157/157 [==============================] - 0s 2ms/step - loss: 0.6932 - accuracy: 0.4973 - val_loss: 0.6932 - val_accuracy: 0.5007\n",
      "Epoch 88/100\n",
      "157/157 [==============================] - 0s 2ms/step - loss: 0.6932 - accuracy: 0.4973 - val_loss: 0.6932 - val_accuracy: 0.5007\n",
      "Epoch 89/100\n",
      "157/157 [==============================] - 0s 2ms/step - loss: 0.6932 - accuracy: 0.4973 - val_loss: 0.6932 - val_accuracy: 0.5007\n",
      "Epoch 90/100\n",
      "157/157 [==============================] - 0s 2ms/step - loss: 0.6932 - accuracy: 0.4973 - val_loss: 0.6932 - val_accuracy: 0.5007\n",
      "Epoch 91/100\n",
      "157/157 [==============================] - 0s 2ms/step - loss: 0.6932 - accuracy: 0.4973 - val_loss: 0.6932 - val_accuracy: 0.5007\n",
      "Epoch 92/100\n",
      "157/157 [==============================] - 0s 2ms/step - loss: 0.6932 - accuracy: 0.4973 - val_loss: 0.6932 - val_accuracy: 0.5007\n",
      "Epoch 93/100\n",
      "157/157 [==============================] - 0s 2ms/step - loss: 0.6932 - accuracy: 0.4973 - val_loss: 0.6932 - val_accuracy: 0.5007\n",
      "Epoch 94/100\n",
      "157/157 [==============================] - 0s 2ms/step - loss: 0.6932 - accuracy: 0.4973 - val_loss: 0.6932 - val_accuracy: 0.5007\n",
      "Epoch 95/100\n",
      "157/157 [==============================] - 0s 2ms/step - loss: 0.6932 - accuracy: 0.4973 - val_loss: 0.6932 - val_accuracy: 0.5007\n",
      "Epoch 96/100\n",
      "157/157 [==============================] - 0s 2ms/step - loss: 0.6932 - accuracy: 0.4973 - val_loss: 0.6932 - val_accuracy: 0.5007\n",
      "Epoch 97/100\n",
      "157/157 [==============================] - 0s 2ms/step - loss: 0.6932 - accuracy: 0.4973 - val_loss: 0.6932 - val_accuracy: 0.5007\n",
      "Epoch 98/100\n",
      "157/157 [==============================] - 0s 2ms/step - loss: 0.6932 - accuracy: 0.4973 - val_loss: 0.6932 - val_accuracy: 0.5007\n",
      "Epoch 99/100\n",
      "157/157 [==============================] - 0s 2ms/step - loss: 0.6932 - accuracy: 0.4973 - val_loss: 0.6932 - val_accuracy: 0.5007\n",
      "Epoch 100/100\n",
      "157/157 [==============================] - 0s 2ms/step - loss: 0.6932 - accuracy: 0.4973 - val_loss: 0.6932 - val_accuracy: 0.5007\n"
     ]
    },
    {
     "data": {
      "text/plain": [
       "<keras.callbacks.History at 0x269889c5d80>"
      ]
     },
     "execution_count": 62,
     "metadata": {},
     "output_type": "execute_result"
    }
   ],
   "source": [
    "model = Sequential()\n",
    "model.add(Dense(6, input_dim=6, activation='relu'))\n",
    "model.add(Dense(15, activation='relu'))\n",
    "model.add(Dense(30, activation='relu'))\n",
    "# model.add(Dense(5, activation='relu'))\n",
    "model.add(Dense(3, activation='relu'))\n",
    "# model.add(Dense(2, activation='softmax'))\n",
    "model.add(Dense(1, activation='softmax'))\n",
    "optimizer = SGD(\n",
    "    learning_rate=0.01\n",
    "                # , momentum=0.2\n",
    "                )\n",
    "model.compile(loss='binary_crossentropy', optimizer=optimizer, metrics=['accuracy'])\n",
    "model.fit(X_train_umap, y_train\n",
    "          ,validation_data=(X_val_umap,y_val)\n",
    "        ,epochs=100\n",
    "          )\n"
   ]
  },
  {
   "cell_type": "code",
   "execution_count": 63,
   "metadata": {},
   "outputs": [
    {
     "name": "stdout",
     "output_type": "stream",
     "text": [
      "68/68 [==============================] - 0s 821us/step\n",
      "              precision    recall  f1-score   support\n",
      "\n",
      "           0     0.0000    0.0000    0.0000      1071\n",
      "           1     0.5007    1.0000    0.6673      1074\n",
      "\n",
      "    accuracy                         0.5007      2145\n",
      "   macro avg     0.2503    0.5000    0.3336      2145\n",
      "weighted avg     0.2507    0.5007    0.3341      2145\n",
      "\n"
     ]
    },
    {
     "name": "stderr",
     "output_type": "stream",
     "text": [
      "c:\\Users\\Vinícius\\anaconda3\\lib\\site-packages\\sklearn\\metrics\\_classification.py:1469: UndefinedMetricWarning: Precision and F-score are ill-defined and being set to 0.0 in labels with no predicted samples. Use `zero_division` parameter to control this behavior.\n",
      "  _warn_prf(average, modifier, msg_start, len(result))\n",
      "c:\\Users\\Vinícius\\anaconda3\\lib\\site-packages\\sklearn\\metrics\\_classification.py:1469: UndefinedMetricWarning: Precision and F-score are ill-defined and being set to 0.0 in labels with no predicted samples. Use `zero_division` parameter to control this behavior.\n",
      "  _warn_prf(average, modifier, msg_start, len(result))\n",
      "c:\\Users\\Vinícius\\anaconda3\\lib\\site-packages\\sklearn\\metrics\\_classification.py:1469: UndefinedMetricWarning: Precision and F-score are ill-defined and being set to 0.0 in labels with no predicted samples. Use `zero_division` parameter to control this behavior.\n",
      "  _warn_prf(average, modifier, msg_start, len(result))\n"
     ]
    },
    {
     "data": {
      "image/png": "[encoded data removed]",
      "text/plain": [
       "<Figure size 1280x600 with 2 Axes>"
      ]
     },
     "metadata": {},
     "output_type": "display_data"
    }
   ],
   "source": [
    "model_pred_umap = model.predict(X_val_umap)\n",
    "model_pred_umap\n",
    "f1,acc = display_results(pd.DataFrame(y_val)[0],pd.DataFrame(model_pred_umap)[0])"
   ]
  },
  {
   "cell_type": "code",
   "execution_count": 65,
   "metadata": {},
   "outputs": [],
   "source": [
    "\n",
    "from sklearn.naive_bayes import MultinomialNB "
   ]
  },
  {
   "cell_type": "code",
   "execution_count": 66,
   "metadata": {},
   "outputs": [
    {
     "data": {
      "text/html": [
       "<style>#sk-container-id-3 {color: black;}#sk-container-id-3 pre{padding: 0;}#sk-container-id-3 div.sk-toggleable {background-color: white;}#sk-container-id-3 label.sk-toggleable__label {cursor: pointer;display: block;width: 100%;margin-bottom: 0;padding: 0.3em;box-sizing: border-box;text-align: center;}#sk-container-id-3 label.sk-toggleable__label-arrow:before {content: \"▸\";float: left;margin-right: 0.25em;color: #696969;}#sk-container-id-3 label.sk-toggleable__label-arrow:hover:before {color: black;}#sk-container-id-3 div.sk-estimator:hover label.sk-toggleable__label-arrow:before {color: black;}#sk-container-id-3 div.sk-toggleable__content {max-height: 0;max-width: 0;overflow: hidden;text-align: left;background-color: #f0f8ff;}#sk-container-id-3 div.sk-toggleable__content pre {margin: 0.2em;color: black;border-radius: 0.25em;background-color: #f0f8ff;}#sk-container-id-3 input.sk-toggleable__control:checked~div.sk-toggleable__content {max-height: 200px;max-width: 100%;overflow: auto;}#sk-container-id-3 input.sk-toggleable__control:checked~label.sk-toggleable__label-arrow:before {content: \"▾\";}#sk-container-id-3 div.sk-estimator input.sk-toggleable__control:checked~label.sk-toggleable__label {background-color: #d4ebff;}#sk-container-id-3 div.sk-label input.sk-toggleable__control:checked~label.sk-toggleable__label {background-color: #d4ebff;}#sk-container-id-3 input.sk-hidden--visually {border: 0;clip: rect(1px 1px 1px 1px);clip: rect(1px, 1px, 1px, 1px);height: 1px;margin: -1px;overflow: hidden;padding: 0;position: absolute;width: 1px;}#sk-container-id-3 div.sk-estimator {font-family: monospace;background-color: #f0f8ff;border: 1px dotted black;border-radius: 0.25em;box-sizing: border-box;margin-bottom: 0.5em;}#sk-container-id-3 div.sk-estimator:hover {background-color: #d4ebff;}#sk-container-id-3 div.sk-parallel-item::after {content: \"\";width: 100%;border-bottom: 1px solid gray;flex-grow: 1;}#sk-container-id-3 div.sk-label:hover label.sk-toggleable__label {background-color: #d4ebff;}#sk-container-id-3 div.sk-serial::before {content: \"\";position: absolute;border-left: 1px solid gray;box-sizing: border-box;top: 0;bottom: 0;left: 50%;z-index: 0;}#sk-container-id-3 div.sk-serial {display: flex;flex-direction: column;align-items: center;background-color: white;padding-right: 0.2em;padding-left: 0.2em;position: relative;}#sk-container-id-3 div.sk-item {position: relative;z-index: 1;}#sk-container-id-3 div.sk-parallel {display: flex;align-items: stretch;justify-content: center;background-color: white;position: relative;}#sk-container-id-3 div.sk-item::before, #sk-container-id-3 div.sk-parallel-item::before {content: \"\";position: absolute;border-left: 1px solid gray;box-sizing: border-box;top: 0;bottom: 0;left: 50%;z-index: -1;}#sk-container-id-3 div.sk-parallel-item {display: flex;flex-direction: column;z-index: 1;position: relative;background-color: white;}#sk-container-id-3 div.sk-parallel-item:first-child::after {align-self: flex-end;width: 50%;}#sk-container-id-3 div.sk-parallel-item:last-child::after {align-self: flex-start;width: 50%;}#sk-container-id-3 div.sk-parallel-item:only-child::after {width: 0;}#sk-container-id-3 div.sk-dashed-wrapped {border: 1px dashed gray;margin: 0 0.4em 0.5em 0.4em;box-sizing: border-box;padding-bottom: 0.4em;background-color: white;}#sk-container-id-3 div.sk-label label {font-family: monospace;font-weight: bold;display: inline-block;line-height: 1.2em;}#sk-container-id-3 div.sk-label-container {text-align: center;}#sk-container-id-3 div.sk-container {/* jupyter's `normalize.less` sets `[hidden] { display: none; }` but bootstrap.min.css set `[hidden] { display: none !important; }` so we also need the `!important` here to be able to override the default hidden behavior on the sphinx rendered scikit-learn.org. See: https://github.com/scikit-learn/scikit-learn/issues/21755 */display: inline-block !important;position: relative;}#sk-container-id-3 div.sk-text-repr-fallback {display: none;}</style><div id=\"sk-container-id-3\" class=\"sk-top-container\"><div class=\"sk-text-repr-fallback\"><pre>MultinomialNB()</pre><b>In a Jupyter environment, please rerun this cell to show the HTML representation or trust the notebook. <br />On GitHub, the HTML representation is unable to render, please try loading this page with nbviewer.org.</b></div><div class=\"sk-container\" hidden><div class=\"sk-item\"><div class=\"sk-estimator sk-toggleable\"><input class=\"sk-toggleable__control sk-hidden--visually\" id=\"sk-estimator-id-7\" type=\"checkbox\" checked><label for=\"sk-estimator-id-7\" class=\"sk-toggleable__label sk-toggleable__label-arrow\">MultinomialNB</label><div class=\"sk-toggleable__content\"><pre>MultinomialNB()</pre></div></div></div></div></div>"
      ],
      "text/plain": [
       "MultinomialNB()"
      ]
     },
     "execution_count": 66,
     "metadata": {},
     "output_type": "execute_result"
    }
   ],
   "source": [
    "mnbc = MultinomialNB()\n",
    "mnbc\n",
    "     "
   ]
  },
  {
   "cell_type": "code",
   "execution_count": 67,
   "metadata": {},
   "outputs": [],
   "source": [
    "\n",
    "from sklearn.model_selection import cross_validate"
   ]
  },
  {
   "cell_type": "code",
   "execution_count": 76,
   "metadata": {},
   "outputs": [],
   "source": [
    "score_metrics = {'F1': 'f1_macro', 'Accuracy': make_scorer(accuracy_score)}\n",
    "scores = cross_validate(mnbc, abs(pd.DataFrame(X_train_umap)), y_train, cv=10,scoring=score_metrics, return_train_score=True)"
   ]
  },
  {
   "cell_type": "code",
   "execution_count": 77,
   "metadata": {},
   "outputs": [
    {
     "name": "stdout",
     "output_type": "stream",
     "text": [
      "dict_keys(['fit_time', 'score_time', 'test_F1', 'train_F1', 'test_Accuracy', 'train_Accuracy'])\n",
      "[1. 1. 1. 1. 1. 1. 1. 1. 1. 1.]\n"
     ]
    }
   ],
   "source": [
    "print(scores.keys())\n",
    "print(scores['test_F1'])  "
   ]
  },
  {
   "cell_type": "code",
   "execution_count": 85,
   "metadata": {},
   "outputs": [
    {
     "name": "stdout",
     "output_type": "stream",
     "text": [
      "              precision    recall  f1-score   support\n",
      "\n",
      "           0       0.51      0.42      0.46      1071\n",
      "           1       0.51      0.60      0.55      1074\n",
      "\n",
      "    accuracy                           0.51      2145\n",
      "   macro avg       0.51      0.51      0.50      2145\n",
      "weighted avg       0.51      0.51      0.50      2145\n",
      "\n"
     ]
    },
    {
     "data": {
      "image/png": "[encoded data removed]",
      "text/plain": [
       "<Figure size 1280x600 with 2 Axes>"
      ]
     },
     "metadata": {},
     "output_type": "display_data"
    }
   ],
   "source": [
    "mnbc.fit(abs(pd.DataFrame(X_train_umap)), y_train)\n",
    "mnbc_pred = mnbc.predict(abs(pd.DataFrame(X_val_umap)))\n",
    "\n",
    "acc = accuracy_score(y_val, mnbc_pred)\n",
    "f1 = f1_score(y_val, mnbc_pred, average='macro')\n",
    "print(classification_report(y_val,mnbc_pred))\n",
    "\n",
    "aux_df = metricsT1['target'].drop_duplicates()\n",
    "conf_matrix = confusion_matrix(y_val, mnbc_pred)\n",
    "plt.figure(figsize=(12.8,6))\n",
    "sns.heatmap(conf_matrix, \n",
    "            annot=True,\n",
    "            xticklabels=aux_df.values, \n",
    "            yticklabels=aux_df.values,\n",
    "            cmap=\"Blues\")\n",
    "plt.ylabel('Actual')\n",
    "plt.xlabel('Predicted')\n",
    "plt.title('Confusion matrix')\n",
    "plt.show()"
   ]
  },
  {
   "cell_type": "code",
   "execution_count": null,
   "metadata": {},
   "outputs": [],
   "source": []
  }
 ],
 "metadata": {
  "kernelspec": {
   "display_name": "base",
   "language": "python",
   "name": "python3"
  },
  "language_info": {
   "codemirror_mode": {
    "name": "ipython",
    "version": 3
   },
   "file_extension": ".py",
   "mimetype": "text/x-python",
   "name": "python",
   "nbconvert_exporter": "python",
   "pygments_lexer": "ipython3",
   "version": "3.10.9"
  }
 },
 "nbformat": 4,
 "nbformat_minor": 2
}
