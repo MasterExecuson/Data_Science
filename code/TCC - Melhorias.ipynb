{
 "cells": [
  {
   "cell_type": "code",
   "execution_count": 1,
   "metadata": {},
   "outputs": [],
   "source": [
    "import pandas as pd\n",
    "import numpy as np\n",
    "import mne\n",
    "import matplotlib.pyplot as plt\n",
    "\n",
    "from sklearn.metrics import accuracy_score, precision_score, recall_score, f1_score, confusion_matrix,make_scorer,classification_report\n",
    "from keras.models import Sequential\n",
    "from keras.layers import Dense\n",
    "from sklearn.model_selection import StratifiedKFold\n",
    "from sklearn.metrics import classification_report\n",
    "import numpy as np\n",
    "from keras.optimizers import SGD\n",
    "from sklearn.model_selection import train_test_split\n",
    "from sklearn.preprocessing import OneHotEncoder\n",
    "\n",
    "from sklearn.neural_network import MLPClassifier\n",
    "from sklearn.model_selection import train_test_split\n",
    "from sklearn.preprocessing import StandardScaler\n",
    "from sklearn.model_selection import ShuffleSplit, cross_validate,GridSearchCV,RandomizedSearchCV,train_test_split\n",
    "\n",
    "import seaborn as sns\n",
    "sns.set_style(\"whitegrid\")"
   ]
  },
  {
   "cell_type": "code",
   "execution_count": 2,
   "metadata": {},
   "outputs": [],
   "source": [
    "np.set_printoptions(precision=6, suppress=True)"
   ]
  },
  {
   "cell_type": "code",
   "execution_count": 3,
   "metadata": {},
   "outputs": [],
   "source": [
    "\n",
    "class FFT:\n",
    "    def __init__(self,timeSeries,fs=160):\n",
    "        self.getFFT(timeSeries)\n",
    "\n",
    "    def getFFT(self, timeSeries,fs=160):\n",
    "        self.N = len(timeSeries)\n",
    "        self.T = 1/fs\n",
    "        self.t = np.arange(0,self.N/fs,self.T)\n",
    "        f = np.fft.fftfreq(self.N,self.T)\n",
    "        # self.data,self.f = np.abs(np.fft.fft(timeSeries))[f>0],f[f>0]\n",
    "        self.data,self.f = np.real(np.fft.fft(timeSeries))[f>0],f[f>0]\n",
    "\n",
    "    def plotFFT(self):\n",
    "        plt.figure()\n",
    "        plt.plot(self.f,(self.data)*(1/self.N))\n",
    "        plt.show()\n",
    "        return\n",
    "\n",
    "    # filtragem da rede (intervalo indicado é de 0.5 até 42.0 hz)\n",
    "    def bandPassFilter(self,min,max):\n",
    "        self.data = self.data[(self.f>min) & (self.f<max)]\n",
    "        self.f = self.f[(self.f>min) & (self.f<max)]\n",
    "\n",
    "    \n",
    "def display_results(labels_test,rfc_pred):\n",
    "    acc = accuracy_score(labels_test, rfc_pred)\n",
    "    f1 = f1_score(labels_test, rfc_pred, average='macro')\n",
    "    print(classification_report(labels_test,rfc_pred))\n",
    "\n",
    "    aux_df = labels_test.drop_duplicates().sort_values()\n",
    "    conf_matrix = confusion_matrix(labels_test, rfc_pred)\n",
    "    plt.figure(figsize=(12.8,6))\n",
    "    sns.heatmap(conf_matrix, \n",
    "                annot=True,\n",
    "                xticklabels=aux_df.values, \n",
    "                yticklabels=aux_df.values,\n",
    "                cmap=\"Blues\")\n",
    "    plt.ylabel('Actual')\n",
    "    plt.xlabel('Predicted')\n",
    "    plt.title('Confusion matrix')\n",
    "    plt.show()\n",
    "    return f1,acc"
   ]
  },
  {
   "cell_type": "code",
   "execution_count": 72,
   "metadata": {},
   "outputs": [],
   "source": [
    "\n",
    "metrics = []\n",
    "\n",
    "\n",
    "subjects_range = range(1, 110)\n",
    "files = [4,8,12]\n",
    "for subject in subjects_range:\n",
    "    if subject in [88, 92, 100]:\n",
    "        continue\n",
    "    for file in files:\n",
    "        fileName = f'../downloaded_files/S{subject:03d}R{file:02d}.edf'\n",
    "        \n",
    "        reader = mne.io.read_raw_edf(fileName,preload=True, verbose=0)\n",
    "        annotations = reader.annotations\n",
    "        codes = annotations.description\n",
    "        codeArray = []     \n",
    "        counter = 0\n",
    "        df = pd.DataFrame(reader.get_data().T, columns=[channel.replace(\".\",\"\") for channel in reader.ch_names])\n",
    "        df = df[~(df == 0).all(axis=1)]\n",
    "        # df = df[160:min(len(df),19680)] # Filter first and last values\n",
    "        timeArray = np.array([round(x,5) for x in np.arange(0,len(df)/160,.00625)])\n",
    "        # timeArray = np.array([round(x,5) for x in np.arange(0,124.5,.00625)])\n",
    "\n",
    "        for timeVal in timeArray:\n",
    "            if timeVal in annotations.onset:\n",
    "                counter += 1\n",
    "            codeArray.append(codes[counter-1])\n",
    "\n",
    "        df[\"target\"] = np.array(codeArray[:len(df)]).T\n",
    "        \n",
    "\n",
    "        df.to_csv(f\"../treated_files/S{subject:03d}R{file:02d}.csv\")\n"
   ]
  },
  {
   "cell_type": "code",
   "execution_count": 4,
   "metadata": {},
   "outputs": [],
   "source": [
    "\n",
    "metrics = []\n",
    "\n",
    "\n",
    "subjects_range = range(1, 110)\n",
    "files = [4,8,12]\n",
    "for subject in subjects_range:\n",
    "    if subject in [88, 92, 100]:\n",
    "        continue\n",
    "    for file in files:\n",
    "        df = pd.read_csv(f\"../treated_files/S{subject:03d}R{file:02d}.csv\")\n",
    "\n",
    "        # Iterate over unique target values\n",
    "        window_size = 160\n",
    "        shift_size = 80\n",
    "        # for target_value in df['target'].unique():\n",
    "            # Create a DataFrame for each target value\n",
    "            # target_df = df[df['target'] == target_value]\n",
    "            # target_df.reset_index(drop=True, inplace=True)\n",
    "            # Create a list to store the windowed dataframes\n",
    "        target_df = df\n",
    "        # Iterate through the dataframe with the specified window and shift size\n",
    "        for i in range(0, len(target_df) - window_size + 1, shift_size):\n",
    "            \n",
    "                # Extract the window of dat'a\n",
    "                window_data = target_df[['Fp1','target']].iloc[i:i + window_size]\n",
    "                if len(window_data) == 160:\n",
    "                    fft = FFT(window_data['Fp1'])\n",
    "                    fft.bandPassFilter(0.5,42)\n",
    "                    data = {\n",
    "                        'mean': [np.mean(fft.data)],\n",
    "                        'max': [np.max(fft.data)],\n",
    "                        'min': [np.min(fft.data)],\n",
    "                        'fmax': [fft.f[np.argmax(fft.data)]],\n",
    "                        'energy': [sum(np.abs(fft.data)*np.abs(fft.data))/len(fft.data)],\n",
    "                        'target': window_data['target'][i]\n",
    "                    }\n",
    "                    metrics.append(pd.DataFrame(data))\n",
    "\n",
    "\n",
    "\n",
    "        # df = df[df['target']!= \"T0\"]\n",
    "\n",
    "        #         # Iterate over unique target values\n",
    "        # window_size = 160\n",
    "        # shift_size = 80\n",
    "        # for target_value in df['target'].unique():\n",
    "        #     target_df = df[df['target'] == target_value]\n",
    "        #     target_df.reset_index(drop=True, inplace=True)\n",
    "        # # target_df = df\n",
    "        # # Iterate through the dataframe with the specified window and shift size\n",
    "        #     for i in range(0, len(target_df) - window_size + 1, shift_size):\n",
    "                \n",
    "        #             # Extract the window of dat'a\n",
    "        #             window_data = target_df[['Fp1','target']].iloc[i:i + window_size]\n",
    "        #             if len(window_data) == 160:\n",
    "        #                 fft = FFT(window_data['Fp1'])\n",
    "        #                 fft.bandPassFilter(0.5,42)\n",
    "        #                 data = {\n",
    "        #                     'mean': [np.mean(fft.data)],\n",
    "        #                     'max': [np.max(fft.data)],\n",
    "        #                     'min': [np.min(fft.data)],\n",
    "        #                     'fmax': [fft.f[np.argmax(fft.data)]],\n",
    "        #                     'energy': [sum(np.abs(fft.data)*np.abs(fft.data))/len(fft.data)],\n",
    "        #                     'target': window_data['target'][i]\n",
    "        #                 }\n",
    "        #                 metrics.append(pd.DataFrame(data))\n",
    "                    \n",
    "metrics = pd.concat(metrics, ignore_index=True)"
   ]
  },
  {
   "cell_type": "code",
   "execution_count": 5,
   "metadata": {},
   "outputs": [
    {
     "data": {
      "text/plain": [
       "mean       0.00008\n",
       "max       0.002571\n",
       "min      -0.001033\n",
       "fmax           2.0\n",
       "energy         0.0\n",
       "target          T0\n",
       "Name: 0, dtype: object"
      ]
     },
     "execution_count": 5,
     "metadata": {},
     "output_type": "execute_result"
    }
   ],
   "source": [
    "metrics.loc[0]"
   ]
  },
  {
   "cell_type": "code",
   "execution_count": 6,
   "metadata": {},
   "outputs": [
    {
     "data": {
      "image/png": "[encoded data removed]",
      "text/plain": [
       "<Figure size 640x480 with 1 Axes>"
      ]
     },
     "metadata": {},
     "output_type": "display_data"
    }
   ],
   "source": [
    "fft.plotFFT()"
   ]
  },
  {
   "cell_type": "code",
   "execution_count": 7,
   "metadata": {},
   "outputs": [
    {
     "data": {
      "image/png": "[encoded data removed]",
      "text/plain": [
       "<Figure size 640x480 with 1 Axes>"
      ]
     },
     "metadata": {},
     "output_type": "display_data"
    }
   ],
   "source": [
    "\n",
    "plt.figure()\n",
    "plt.plot(fft.f,(np.abs(fft.data))*(1/fft.N))\n",
    "plt.show()"
   ]
  },
  {
   "cell_type": "code",
   "execution_count": 8,
   "metadata": {},
   "outputs": [],
   "source": [
    "metricsT2 = metrics.copy()\n",
    "metricsT1 = metrics.copy()\n"
   ]
  },
  {
   "cell_type": "code",
   "execution_count": 9,
   "metadata": {},
   "outputs": [
    {
     "data": {
      "text/html": [
       "<div>\n",
       "<style scoped>\n",
       "    .dataframe tbody tr th:only-of-type {\n",
       "        vertical-align: middle;\n",
       "    }\n",
       "\n",
       "    .dataframe tbody tr th {\n",
       "        vertical-align: top;\n",
       "    }\n",
       "\n",
       "    .dataframe thead th {\n",
       "        text-align: right;\n",
       "    }\n",
       "</style>\n",
       "<table border=\"1\" class=\"dataframe\">\n",
       "  <thead>\n",
       "    <tr style=\"text-align: right;\">\n",
       "      <th></th>\n",
       "      <th>mean</th>\n",
       "      <th>max</th>\n",
       "      <th>min</th>\n",
       "      <th>fmax</th>\n",
       "      <th>energy</th>\n",
       "      <th>target</th>\n",
       "    </tr>\n",
       "  </thead>\n",
       "  <tbody>\n",
       "    <tr>\n",
       "      <th>9</th>\n",
       "      <td>-0.000099</td>\n",
       "      <td>0.000962</td>\n",
       "      <td>-0.001457</td>\n",
       "      <td>2.0</td>\n",
       "      <td>1.612986e-07</td>\n",
       "      <td>T2</td>\n",
       "    </tr>\n",
       "    <tr>\n",
       "      <th>10</th>\n",
       "      <td>0.000011</td>\n",
       "      <td>0.001932</td>\n",
       "      <td>-0.003701</td>\n",
       "      <td>3.0</td>\n",
       "      <td>6.043280e-07</td>\n",
       "      <td>T2</td>\n",
       "    </tr>\n",
       "    <tr>\n",
       "      <th>11</th>\n",
       "      <td>0.000030</td>\n",
       "      <td>0.012219</td>\n",
       "      <td>-0.004448</td>\n",
       "      <td>1.0</td>\n",
       "      <td>4.845462e-06</td>\n",
       "      <td>T2</td>\n",
       "    </tr>\n",
       "    <tr>\n",
       "      <th>12</th>\n",
       "      <td>-0.000406</td>\n",
       "      <td>0.003026</td>\n",
       "      <td>-0.008972</td>\n",
       "      <td>3.0</td>\n",
       "      <td>2.781098e-06</td>\n",
       "      <td>T2</td>\n",
       "    </tr>\n",
       "    <tr>\n",
       "      <th>13</th>\n",
       "      <td>-0.000028</td>\n",
       "      <td>0.000674</td>\n",
       "      <td>-0.000703</td>\n",
       "      <td>5.0</td>\n",
       "      <td>7.168648e-08</td>\n",
       "      <td>T2</td>\n",
       "    </tr>\n",
       "    <tr>\n",
       "      <th>...</th>\n",
       "      <td>...</td>\n",
       "      <td>...</td>\n",
       "      <td>...</td>\n",
       "      <td>...</td>\n",
       "      <td>...</td>\n",
       "      <td>...</td>\n",
       "    </tr>\n",
       "    <tr>\n",
       "      <th>78067</th>\n",
       "      <td>-0.000021</td>\n",
       "      <td>0.000558</td>\n",
       "      <td>-0.000842</td>\n",
       "      <td>5.0</td>\n",
       "      <td>6.925372e-08</td>\n",
       "      <td>T1</td>\n",
       "    </tr>\n",
       "    <tr>\n",
       "      <th>78068</th>\n",
       "      <td>0.000055</td>\n",
       "      <td>0.000433</td>\n",
       "      <td>-0.000360</td>\n",
       "      <td>15.0</td>\n",
       "      <td>4.667232e-08</td>\n",
       "      <td>T1</td>\n",
       "    </tr>\n",
       "    <tr>\n",
       "      <th>78069</th>\n",
       "      <td>0.000006</td>\n",
       "      <td>0.001080</td>\n",
       "      <td>-0.000402</td>\n",
       "      <td>1.0</td>\n",
       "      <td>6.640893e-08</td>\n",
       "      <td>T1</td>\n",
       "    </tr>\n",
       "    <tr>\n",
       "      <th>78070</th>\n",
       "      <td>-0.000044</td>\n",
       "      <td>0.000380</td>\n",
       "      <td>-0.001601</td>\n",
       "      <td>2.0</td>\n",
       "      <td>1.102815e-07</td>\n",
       "      <td>T1</td>\n",
       "    </tr>\n",
       "    <tr>\n",
       "      <th>78071</th>\n",
       "      <td>-0.000017</td>\n",
       "      <td>0.005231</td>\n",
       "      <td>-0.001731</td>\n",
       "      <td>1.0</td>\n",
       "      <td>8.701624e-07</td>\n",
       "      <td>T1</td>\n",
       "    </tr>\n",
       "  </tbody>\n",
       "</table>\n",
       "<p>38746 rows × 6 columns</p>\n",
       "</div>"
      ],
      "text/plain": [
       "           mean       max       min  fmax        energy target\n",
       "9     -0.000099  0.000962 -0.001457   2.0  1.612986e-07     T2\n",
       "10     0.000011  0.001932 -0.003701   3.0  6.043280e-07     T2\n",
       "11     0.000030  0.012219 -0.004448   1.0  4.845462e-06     T2\n",
       "12    -0.000406  0.003026 -0.008972   3.0  2.781098e-06     T2\n",
       "13    -0.000028  0.000674 -0.000703   5.0  7.168648e-08     T2\n",
       "...         ...       ...       ...   ...           ...    ...\n",
       "78067 -0.000021  0.000558 -0.000842   5.0  6.925372e-08     T1\n",
       "78068  0.000055  0.000433 -0.000360  15.0  4.667232e-08     T1\n",
       "78069  0.000006  0.001080 -0.000402   1.0  6.640893e-08     T1\n",
       "78070 -0.000044  0.000380 -0.001601   2.0  1.102815e-07     T1\n",
       "78071 -0.000017  0.005231 -0.001731   1.0  8.701624e-07     T1\n",
       "\n",
       "[38746 rows x 6 columns]"
      ]
     },
     "execution_count": 9,
     "metadata": {},
     "output_type": "execute_result"
    }
   ],
   "source": [
    "metrics[metrics['target']!= \"T0\"]"
   ]
  },
  {
   "cell_type": "code",
   "execution_count": 10,
   "metadata": {},
   "outputs": [],
   "source": [
    "metricsT1 = metrics[metrics['target']!= \"T0\"].copy()\n"
   ]
  },
  {
   "cell_type": "code",
   "execution_count": 11,
   "metadata": {},
   "outputs": [],
   "source": [
    "metricsT2.loc[metricsT2['target'] != 'T2', 'target'] = 0\n",
    "metricsT2.loc[metricsT2['target'] == 'T2', 'target'] = 1\n",
    "\n",
    "metricsT1.loc[metricsT1['target'] != 'T1', 'target'] = 0\n",
    "metricsT1.loc[metricsT1['target'] == 'T1', 'target'] = 1\n"
   ]
  },
  {
   "cell_type": "code",
   "execution_count": 12,
   "metadata": {},
   "outputs": [],
   "source": [
    "calcMetric = metricsT2.copy()"
   ]
  },
  {
   "cell_type": "code",
   "execution_count": 13,
   "metadata": {},
   "outputs": [
    {
     "data": {
      "text/plain": [
       "78072"
      ]
     },
     "execution_count": 13,
     "metadata": {},
     "output_type": "execute_result"
    }
   ],
   "source": [
    "len(metricsT2)"
   ]
  },
  {
   "cell_type": "code",
   "execution_count": 14,
   "metadata": {},
   "outputs": [
    {
     "data": {
      "text/plain": [
       "38746"
      ]
     },
     "execution_count": 14,
     "metadata": {},
     "output_type": "execute_result"
    }
   ],
   "source": [
    "len(metricsT1)"
   ]
  },
  {
   "cell_type": "code",
   "execution_count": 139,
   "metadata": {},
   "outputs": [
    {
     "data": {
      "text/plain": [
       "0    58861\n",
       "1    19211\n",
       "Name: target, dtype: int64"
      ]
     },
     "execution_count": 139,
     "metadata": {},
     "output_type": "execute_result"
    }
   ],
   "source": [
    "calcMetric[\"target\"].value_counts()"
   ]
  },
  {
   "cell_type": "code",
   "execution_count": 140,
   "metadata": {},
   "outputs": [
    {
     "data": {
      "text/plain": [
       "0    41265\n",
       "1    13385\n",
       "Name: target, dtype: int64"
      ]
     },
     "execution_count": 140,
     "metadata": {},
     "output_type": "execute_result"
    }
   ],
   "source": [
    "y_train_full.value_counts()"
   ]
  },
  {
   "cell_type": "code",
   "execution_count": 146,
   "metadata": {},
   "outputs": [
    {
     "data": {
      "text/plain": [
       "0    1  \n",
       "1.0  0.0    41265\n",
       "0.0  1.0    13385\n",
       "dtype: int64"
      ]
     },
     "execution_count": 146,
     "metadata": {},
     "output_type": "execute_result"
    }
   ],
   "source": [
    "pd.DataFrame(encoder.fit_transform(y_train_full.values.reshape(-1, 1))).value_counts()"
   ]
  },
  {
   "cell_type": "code",
   "execution_count": 117,
   "metadata": {},
   "outputs": [],
   "source": [
    "\n",
    "# Supondo que você tenha os dados X e y para treinamento\n",
    "\n",
    "X_train_full, X_val, y_train_full, y_val = train_test_split(calcMetric[[\"mean\"\t,\"max\"\t,\"min\"\t,\"fmax\"\t,\"energy\"]], calcMetric[\"target\"], test_size=0.3, random_state=37)\n",
    "X_train_full = X_train_full.reset_index(drop=True)\n",
    "y_train_full = y_train_full.reset_index(drop=True)\n",
    "y_train_full = y_train_full.astype(int)\n"
   ]
  },
  {
   "cell_type": "code",
   "execution_count": 118,
   "metadata": {},
   "outputs": [
    {
     "data": {
      "text/plain": [
       "23422"
      ]
     },
     "execution_count": 118,
     "metadata": {},
     "output_type": "execute_result"
    }
   ],
   "source": [
    "len(X_val)"
   ]
  },
  {
   "cell_type": "code",
   "execution_count": 119,
   "metadata": {},
   "outputs": [],
   "source": [
    "\n",
    "# Definir o número de folds para a validação cruzada\n",
    "\n",
    "\n",
    "model = MLPClassifier(learning_rate_init= 0.3,max_iter= 500,momentum= 0.2,hidden_layer_sizes= (5, 3))\n",
    "\n",
    "random_grid = {\n",
    "               'activation': ['logistic'],\n",
    "               'solver': ['sgd'],\n",
    "               \n",
    "               \n",
    "               }\n",
    "\n",
    "\n",
    "random_search = RandomizedSearchCV(estimator= model,param_distributions=random_grid,refit='F1',scoring={'F1': 'f1_macro', 'Accuracy': make_scorer(accuracy_score)})\n",
    "# Criar o modelo da rede neural\n"
   ]
  },
  {
   "cell_type": "code",
   "execution_count": 120,
   "metadata": {},
   "outputs": [
    {
     "name": "stderr",
     "output_type": "stream",
     "text": [
      "c:\\Users\\Vinícius\\anaconda3\\lib\\site-packages\\sklearn\\model_selection\\_search.py:307: UserWarning: The total space of parameters 1 is smaller than n_iter=10. Running 1 iterations. For exhaustive searches, use GridSearchCV.\n",
      "  warnings.warn(\n"
     ]
    },
    {
     "data": {
      "text/html": [
       "<style>#sk-container-id-6 {color: black;}#sk-container-id-6 pre{padding: 0;}#sk-container-id-6 div.sk-toggleable {background-color: white;}#sk-container-id-6 label.sk-toggleable__label {cursor: pointer;display: block;width: 100%;margin-bottom: 0;padding: 0.3em;box-sizing: border-box;text-align: center;}#sk-container-id-6 label.sk-toggleable__label-arrow:before {content: \"▸\";float: left;margin-right: 0.25em;color: #696969;}#sk-container-id-6 label.sk-toggleable__label-arrow:hover:before {color: black;}#sk-container-id-6 div.sk-estimator:hover label.sk-toggleable__label-arrow:before {color: black;}#sk-container-id-6 div.sk-toggleable__content {max-height: 0;max-width: 0;overflow: hidden;text-align: left;background-color: #f0f8ff;}#sk-container-id-6 div.sk-toggleable__content pre {margin: 0.2em;color: black;border-radius: 0.25em;background-color: #f0f8ff;}#sk-container-id-6 input.sk-toggleable__control:checked~div.sk-toggleable__content {max-height: 200px;max-width: 100%;overflow: auto;}#sk-container-id-6 input.sk-toggleable__control:checked~label.sk-toggleable__label-arrow:before {content: \"▾\";}#sk-container-id-6 div.sk-estimator input.sk-toggleable__control:checked~label.sk-toggleable__label {background-color: #d4ebff;}#sk-container-id-6 div.sk-label input.sk-toggleable__control:checked~label.sk-toggleable__label {background-color: #d4ebff;}#sk-container-id-6 input.sk-hidden--visually {border: 0;clip: rect(1px 1px 1px 1px);clip: rect(1px, 1px, 1px, 1px);height: 1px;margin: -1px;overflow: hidden;padding: 0;position: absolute;width: 1px;}#sk-container-id-6 div.sk-estimator {font-family: monospace;background-color: #f0f8ff;border: 1px dotted black;border-radius: 0.25em;box-sizing: border-box;margin-bottom: 0.5em;}#sk-container-id-6 div.sk-estimator:hover {background-color: #d4ebff;}#sk-container-id-6 div.sk-parallel-item::after {content: \"\";width: 100%;border-bottom: 1px solid gray;flex-grow: 1;}#sk-container-id-6 div.sk-label:hover label.sk-toggleable__label {background-color: #d4ebff;}#sk-container-id-6 div.sk-serial::before {content: \"\";position: absolute;border-left: 1px solid gray;box-sizing: border-box;top: 0;bottom: 0;left: 50%;z-index: 0;}#sk-container-id-6 div.sk-serial {display: flex;flex-direction: column;align-items: center;background-color: white;padding-right: 0.2em;padding-left: 0.2em;position: relative;}#sk-container-id-6 div.sk-item {position: relative;z-index: 1;}#sk-container-id-6 div.sk-parallel {display: flex;align-items: stretch;justify-content: center;background-color: white;position: relative;}#sk-container-id-6 div.sk-item::before, #sk-container-id-6 div.sk-parallel-item::before {content: \"\";position: absolute;border-left: 1px solid gray;box-sizing: border-box;top: 0;bottom: 0;left: 50%;z-index: -1;}#sk-container-id-6 div.sk-parallel-item {display: flex;flex-direction: column;z-index: 1;position: relative;background-color: white;}#sk-container-id-6 div.sk-parallel-item:first-child::after {align-self: flex-end;width: 50%;}#sk-container-id-6 div.sk-parallel-item:last-child::after {align-self: flex-start;width: 50%;}#sk-container-id-6 div.sk-parallel-item:only-child::after {width: 0;}#sk-container-id-6 div.sk-dashed-wrapped {border: 1px dashed gray;margin: 0 0.4em 0.5em 0.4em;box-sizing: border-box;padding-bottom: 0.4em;background-color: white;}#sk-container-id-6 div.sk-label label {font-family: monospace;font-weight: bold;display: inline-block;line-height: 1.2em;}#sk-container-id-6 div.sk-label-container {text-align: center;}#sk-container-id-6 div.sk-container {/* jupyter's `normalize.less` sets `[hidden] { display: none; }` but bootstrap.min.css set `[hidden] { display: none !important; }` so we also need the `!important` here to be able to override the default hidden behavior on the sphinx rendered scikit-learn.org. See: https://github.com/scikit-learn/scikit-learn/issues/21755 */display: inline-block !important;position: relative;}#sk-container-id-6 div.sk-text-repr-fallback {display: none;}</style><div id=\"sk-container-id-6\" class=\"sk-top-container\"><div class=\"sk-text-repr-fallback\"><pre>RandomizedSearchCV(estimator=MLPClassifier(hidden_layer_sizes=(5, 3),\n",
       "                                           learning_rate_init=0.3, max_iter=500,\n",
       "                                           momentum=0.2),\n",
       "                   param_distributions={&#x27;activation&#x27;: [&#x27;logistic&#x27;],\n",
       "                                        &#x27;solver&#x27;: [&#x27;sgd&#x27;]},\n",
       "                   refit=&#x27;F1&#x27;,\n",
       "                   scoring={&#x27;Accuracy&#x27;: make_scorer(accuracy_score),\n",
       "                            &#x27;F1&#x27;: &#x27;f1_macro&#x27;})</pre><b>In a Jupyter environment, please rerun this cell to show the HTML representation or trust the notebook. <br />On GitHub, the HTML representation is unable to render, please try loading this page with nbviewer.org.</b></div><div class=\"sk-container\" hidden><div class=\"sk-item sk-dashed-wrapped\"><div class=\"sk-label-container\"><div class=\"sk-label sk-toggleable\"><input class=\"sk-toggleable__control sk-hidden--visually\" id=\"sk-estimator-id-16\" type=\"checkbox\" ><label for=\"sk-estimator-id-16\" class=\"sk-toggleable__label sk-toggleable__label-arrow\">RandomizedSearchCV</label><div class=\"sk-toggleable__content\"><pre>RandomizedSearchCV(estimator=MLPClassifier(hidden_layer_sizes=(5, 3),\n",
       "                                           learning_rate_init=0.3, max_iter=500,\n",
       "                                           momentum=0.2),\n",
       "                   param_distributions={&#x27;activation&#x27;: [&#x27;logistic&#x27;],\n",
       "                                        &#x27;solver&#x27;: [&#x27;sgd&#x27;]},\n",
       "                   refit=&#x27;F1&#x27;,\n",
       "                   scoring={&#x27;Accuracy&#x27;: make_scorer(accuracy_score),\n",
       "                            &#x27;F1&#x27;: &#x27;f1_macro&#x27;})</pre></div></div></div><div class=\"sk-parallel\"><div class=\"sk-parallel-item\"><div class=\"sk-item\"><div class=\"sk-label-container\"><div class=\"sk-label sk-toggleable\"><input class=\"sk-toggleable__control sk-hidden--visually\" id=\"sk-estimator-id-17\" type=\"checkbox\" ><label for=\"sk-estimator-id-17\" class=\"sk-toggleable__label sk-toggleable__label-arrow\">estimator: MLPClassifier</label><div class=\"sk-toggleable__content\"><pre>MLPClassifier(hidden_layer_sizes=(5, 3), learning_rate_init=0.3, max_iter=500,\n",
       "              momentum=0.2)</pre></div></div></div><div class=\"sk-serial\"><div class=\"sk-item\"><div class=\"sk-estimator sk-toggleable\"><input class=\"sk-toggleable__control sk-hidden--visually\" id=\"sk-estimator-id-18\" type=\"checkbox\" ><label for=\"sk-estimator-id-18\" class=\"sk-toggleable__label sk-toggleable__label-arrow\">MLPClassifier</label><div class=\"sk-toggleable__content\"><pre>MLPClassifier(hidden_layer_sizes=(5, 3), learning_rate_init=0.3, max_iter=500,\n",
       "              momentum=0.2)</pre></div></div></div></div></div></div></div></div></div></div>"
      ],
      "text/plain": [
       "RandomizedSearchCV(estimator=MLPClassifier(hidden_layer_sizes=(5, 3),\n",
       "                                           learning_rate_init=0.3, max_iter=500,\n",
       "                                           momentum=0.2),\n",
       "                   param_distributions={'activation': ['logistic'],\n",
       "                                        'solver': ['sgd']},\n",
       "                   refit='F1',\n",
       "                   scoring={'Accuracy': make_scorer(accuracy_score),\n",
       "                            'F1': 'f1_macro'})"
      ]
     },
     "execution_count": 120,
     "metadata": {},
     "output_type": "execute_result"
    }
   ],
   "source": [
    "# skf = StratifiedKFold(n_splits=n_folds, shuffle=False, random_state=42)\n",
    "# Iterar sobre os folds\n",
    "# for train_index, test_index in skf.split(X_train_full, y_train_full):\n",
    "X_train =  X_train_full\n",
    "y_train = y_train_full\n",
    "\n",
    "\n",
    "encoder = OneHotEncoder(sparse_output=False)\n",
    "\n",
    "# Fit and transform the target values\n",
    "y_train = encoder.fit_transform(y_train.values.reshape(-1, 1))\n",
    "# Treinar o modelo\n",
    "random_search.fit(X_train, y_train)\n",
    "\n"
   ]
  },
  {
   "cell_type": "code",
   "execution_count": 121,
   "metadata": {},
   "outputs": [
    {
     "data": {
      "text/plain": [
       "array([[1, 0],\n",
       "       [1, 0],\n",
       "       [1, 0],\n",
       "       ...,\n",
       "       [1, 0],\n",
       "       [1, 0],\n",
       "       [1, 0]])"
      ]
     },
     "execution_count": 121,
     "metadata": {},
     "output_type": "execute_result"
    }
   ],
   "source": [
    "random_search.predict(X_val)"
   ]
  },
  {
   "cell_type": "code",
   "execution_count": 122,
   "metadata": {},
   "outputs": [],
   "source": [
    "model = Sequential()\n",
    "model.add(Dense(5, input_dim=5, activation='relu'))\n",
    "model.add(Dense(3, activation='relu'))\n",
    "model.add(Dense(2, activation='softmax'))\n",
    "optimizer = SGD(learning_rate=0.3, momentum=0.2)\n",
    "model.compile(loss='binary_crossentropy', optimizer=optimizer, metrics=['accuracy'])\n",
    "\n"
   ]
  },
  {
   "cell_type": "code",
   "execution_count": 123,
   "metadata": {},
   "outputs": [
    {
     "name": "stdout",
     "output_type": "stream",
     "text": [
      "1708/1708 [==============================] - 2s 1ms/step - loss: 0.5586 - accuracy: 0.7551\n"
     ]
    },
    {
     "data": {
      "text/plain": [
       "<keras.callbacks.History at 0x210945ad3c0>"
      ]
     },
     "execution_count": 123,
     "metadata": {},
     "output_type": "execute_result"
    }
   ],
   "source": [
    "# model.fit(X_train, y_train,validation_data=(X_val,encoder.fit_transform(y_val.values.reshape(-1, 1))))\n",
    "model.fit(X_train, y_train)\n"
   ]
  },
  {
   "cell_type": "code",
   "execution_count": 131,
   "metadata": {},
   "outputs": [
    {
     "name": "stdout",
     "output_type": "stream",
     "text": [
      "1708/1708 [==============================] - 2s 912us/step\n"
     ]
    },
    {
     "data": {
      "text/plain": [
       "array([[0.901604, 0.098396],\n",
       "       [0.901604, 0.098396],\n",
       "       [0.901604, 0.098396],\n",
       "       ...,\n",
       "       [0.901604, 0.098396],\n",
       "       [0.901604, 0.098396],\n",
       "       [0.901604, 0.098396]], dtype=float32)"
      ]
     },
     "execution_count": 131,
     "metadata": {},
     "output_type": "execute_result"
    }
   ],
   "source": [
    "model.predict(X_train)"
   ]
  },
  {
   "cell_type": "code",
   "execution_count": 136,
   "metadata": {},
   "outputs": [
    {
     "data": {
      "text/plain": [
       "0    1  \n",
       "1.0  0.0    41265\n",
       "0.0  1.0    13385\n",
       "dtype: int64"
      ]
     },
     "execution_count": 136,
     "metadata": {},
     "output_type": "execute_result"
    }
   ],
   "source": [
    "pd.DataFrame(y_train).value_counts()"
   ]
  },
  {
   "cell_type": "code",
   "execution_count": 124,
   "metadata": {},
   "outputs": [
    {
     "data": {
      "text/plain": [
       "0    17596\n",
       "1     5826\n",
       "Name: target, dtype: int64"
      ]
     },
     "execution_count": 124,
     "metadata": {},
     "output_type": "execute_result"
    }
   ],
   "source": [
    "y_val.value_counts()"
   ]
  },
  {
   "cell_type": "code",
   "execution_count": 125,
   "metadata": {},
   "outputs": [
    {
     "data": {
      "text/plain": [
       "0.7520707027580907"
      ]
     },
     "execution_count": 125,
     "metadata": {},
     "output_type": "execute_result"
    }
   ],
   "source": [
    "17615/(17615+5807)"
   ]
  },
  {
   "cell_type": "code",
   "execution_count": 148,
   "metadata": {},
   "outputs": [
    {
     "data": {
      "text/plain": [
       "0    17596\n",
       "1     5826\n",
       "Name: target, dtype: int64"
      ]
     },
     "execution_count": 148,
     "metadata": {},
     "output_type": "execute_result"
    }
   ],
   "source": [
    "y_val.value_counts()"
   ]
  },
  {
   "cell_type": "code",
   "execution_count": 150,
   "metadata": {},
   "outputs": [
    {
     "data": {
      "text/plain": [
       "array([[1., 0.],\n",
       "       [0., 1.],\n",
       "       [1., 0.],\n",
       "       ...,\n",
       "       [0., 1.],\n",
       "       [1., 0.],\n",
       "       [1., 0.]])"
      ]
     },
     "execution_count": 150,
     "metadata": {},
     "output_type": "execute_result"
    }
   ],
   "source": [
    "encoder.fit_transform(y_val.values.reshape(-1, 1))"
   ]
  },
  {
   "cell_type": "code",
   "execution_count": 149,
   "metadata": {},
   "outputs": [
    {
     "data": {
      "text/plain": [
       "0    1  \n",
       "1.0  0.0    17596\n",
       "0.0  1.0     5826\n",
       "dtype: int64"
      ]
     },
     "execution_count": 149,
     "metadata": {},
     "output_type": "execute_result"
    }
   ],
   "source": [
    "pd.DataFrame(encoder.fit_transform(y_val.values.reshape(-1, 1))).value_counts()"
   ]
  },
  {
   "cell_type": "code",
   "execution_count": 127,
   "metadata": {},
   "outputs": [
    {
     "name": "stdout",
     "output_type": "stream",
     "text": [
      "732/732 [==============================] - 1s 848us/step\n"
     ]
    },
    {
     "data": {
      "text/plain": [
       "array([[0.901604, 0.098396],\n",
       "       [0.901604, 0.098396],\n",
       "       [0.901604, 0.098396],\n",
       "       ...,\n",
       "       [0.901604, 0.098396],\n",
       "       [0.901604, 0.098396],\n",
       "       [0.901604, 0.098396]], dtype=float32)"
      ]
     },
     "execution_count": 127,
     "metadata": {},
     "output_type": "execute_result"
    }
   ],
   "source": [
    "\n",
    "a = model.predict(X_val)\n",
    "a"
   ]
  },
  {
   "cell_type": "code",
   "execution_count": 151,
   "metadata": {},
   "outputs": [
    {
     "name": "stderr",
     "output_type": "stream",
     "text": [
      "c:\\Users\\Vinícius\\anaconda3\\lib\\site-packages\\sklearn\\metrics\\_classification.py:1469: UndefinedMetricWarning: Precision and F-score are ill-defined and being set to 0.0 in labels with no predicted samples. Use `zero_division` parameter to control this behavior.\n",
      "  _warn_prf(average, modifier, msg_start, len(result))\n",
      "c:\\Users\\Vinícius\\anaconda3\\lib\\site-packages\\sklearn\\metrics\\_classification.py:1469: UndefinedMetricWarning: Precision and F-score are ill-defined and being set to 0.0 in labels with no predicted samples. Use `zero_division` parameter to control this behavior.\n",
      "  _warn_prf(average, modifier, msg_start, len(result))\n",
      "c:\\Users\\Vinícius\\anaconda3\\lib\\site-packages\\sklearn\\metrics\\_classification.py:1469: UndefinedMetricWarning: Precision and F-score are ill-defined and being set to 0.0 in labels with no predicted samples. Use `zero_division` parameter to control this behavior.\n",
      "  _warn_prf(average, modifier, msg_start, len(result))\n"
     ]
    },
    {
     "name": "stdout",
     "output_type": "stream",
     "text": [
      "              precision    recall  f1-score   support\n",
      "\n",
      "         0.0       0.75      1.00      0.86     17596\n",
      "         1.0       0.00      0.00      0.00      5826\n",
      "\n",
      "    accuracy                           0.75     23422\n",
      "   macro avg       0.38      0.50      0.43     23422\n",
      "weighted avg       0.56      0.75      0.64     23422\n",
      "\n"
     ]
    },
    {
     "data": {
      "image/png": "[encoded data removed]",
      "text/plain": [
       "<Figure size 1280x600 with 2 Axes>"
      ]
     },
     "metadata": {},
     "output_type": "display_data"
    }
   ],
   "source": [
    "f1,acc = display_results(pd.Series([row[1] for row in encoder.fit_transform(y_val.values.reshape(-1, 1))]),pd.Series(np.round([row[1] for row in a])))"
   ]
  },
  {
   "cell_type": "code",
   "execution_count": 129,
   "metadata": {},
   "outputs": [
    {
     "data": {
      "text/plain": [
       "0"
      ]
     },
     "execution_count": 129,
     "metadata": {},
     "output_type": "execute_result"
    }
   ],
   "source": [
    "results = random_search.cv_results_\n",
    "\n",
    "best_svm = random_search.best_estimator_ \n",
    "best_scorer_index = np.nonzero(results['rank_test_Accuracy'] == 1)[0][0]\n",
    "best_scorer_index\n"
   ]
  },
  {
   "cell_type": "code",
   "execution_count": 152,
   "metadata": {},
   "outputs": [
    {
     "name": "stderr",
     "output_type": "stream",
     "text": [
      "c:\\Users\\Vinícius\\anaconda3\\lib\\site-packages\\sklearn\\metrics\\_classification.py:1469: UndefinedMetricWarning: Precision and F-score are ill-defined and being set to 0.0 in labels with no predicted samples. Use `zero_division` parameter to control this behavior.\n",
      "  _warn_prf(average, modifier, msg_start, len(result))\n",
      "c:\\Users\\Vinícius\\anaconda3\\lib\\site-packages\\sklearn\\metrics\\_classification.py:1469: UndefinedMetricWarning: Precision and F-score are ill-defined and being set to 0.0 in labels with no predicted samples. Use `zero_division` parameter to control this behavior.\n",
      "  _warn_prf(average, modifier, msg_start, len(result))\n",
      "c:\\Users\\Vinícius\\anaconda3\\lib\\site-packages\\sklearn\\metrics\\_classification.py:1469: UndefinedMetricWarning: Precision and F-score are ill-defined and being set to 0.0 in labels with no predicted samples. Use `zero_division` parameter to control this behavior.\n",
      "  _warn_prf(average, modifier, msg_start, len(result))\n"
     ]
    },
    {
     "name": "stdout",
     "output_type": "stream",
     "text": [
      "              precision    recall  f1-score   support\n",
      "\n",
      "         0.0       0.75      1.00      0.86     17596\n",
      "         1.0       0.00      0.00      0.00      5826\n",
      "\n",
      "    accuracy                           0.75     23422\n",
      "   macro avg       0.38      0.50      0.43     23422\n",
      "weighted avg       0.56      0.75      0.64     23422\n",
      "\n"
     ]
    },
    {
     "data": {
      "image/png": "[encoded data removed]",
      "text/plain": [
       "<Figure size 1280x600 with 2 Axes>"
      ]
     },
     "metadata": {},
     "output_type": "display_data"
    }
   ],
   "source": [
    "best_svm.fit(X_train, y_train)\n",
    "svm_pred = best_svm.predict(X_val)\n",
    "\n",
    "f1,acc = display_results(pd.Series([row[1] for row in encoder.fit_transform(y_val.values.reshape(-1, 1))]),pd.Series([row[1] for row in svm_pred]))"
   ]
  },
  {
   "cell_type": "code",
   "execution_count": 102,
   "metadata": {},
   "outputs": [],
   "source": [
    "# y_val_ecoded = encoder.fit_transform(y_val.values.reshape(-1, 1))\n"
   ]
  },
  {
   "cell_type": "code",
   "execution_count": null,
   "metadata": {},
   "outputs": [],
   "source": []
  },
  {
   "cell_type": "code",
   "execution_count": null,
   "metadata": {},
   "outputs": [],
   "source": []
  },
  {
   "cell_type": "code",
   "execution_count": null,
   "metadata": {},
   "outputs": [],
   "source": []
  },
  {
   "cell_type": "code",
   "execution_count": null,
   "metadata": {},
   "outputs": [],
   "source": []
  },
  {
   "cell_type": "code",
   "execution_count": null,
   "metadata": {},
   "outputs": [],
   "source": []
  }
 ],
 "metadata": {
  "kernelspec": {
   "display_name": "base",
   "language": "python",
   "name": "python3"
  },
  "language_info": {
   "codemirror_mode": {
    "name": "ipython",
    "version": 3
   },
   "file_extension": ".py",
   "mimetype": "text/x-python",
   "name": "python",
   "nbconvert_exporter": "python",
   "pygments_lexer": "ipython3",
   "version": "3.10.9"
  }
 },
 "nbformat": 4,
 "nbformat_minor": 2
}
