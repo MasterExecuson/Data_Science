{
 "cells": [
  {
   "cell_type": "code",
   "execution_count": 1,
   "metadata": {},
   "outputs": [],
   "source": [
    "import os\n",
    "import requests\n",
    "from bs4 import BeautifulSoup\n",
    "from urllib.parse import urljoin, urlparse\n",
    "\n",
    "def download_file(url, folder_path):\n",
    "    response = requests.get(url, stream=True)\n",
    "    file_name = os.path.join(folder_path, os.path.basename(urlparse(url).path))\n",
    "    \n",
    "    with open(file_name, 'wb') as file:\n",
    "        for chunk in response.iter_content(chunk_size=128):\n",
    "            file.write(chunk)\n",
    "\n",
    "def scrape_and_download(base_url, folder_path, subjects):\n",
    "    for subject in subjects:\n",
    "        subject_url = f\"{base_url}S{subject:03d}/\"\n",
    "        response = requests.get(subject_url)\n",
    "        soup = BeautifulSoup(response.text, 'html.parser')\n",
    "\n",
    "        # Find all links with .edf extension\n",
    "        links = soup.find_all('a', href=lambda href: (href and href.endswith('.edf.event')))\n",
    "\n",
    "        for link in links:\n",
    "            file_url = urljoin(subject_url, link['href'])\n",
    "            download_file(file_url, folder_path)\n",
    "\n",
    "if __name__ == \"__main__\":\n",
    "    base_url = \"https://archive.physionet.org/pn4/eegmmidb/\"\n",
    "    folder_path = \"downloaded_files_event\"\n",
    "    subjects_range = range(1, 110)\n",
    "\n",
    "    if not os.path.exists(folder_path):\n",
    "        os.makedirs(folder_path)\n",
    "\n",
    "    scrape_and_download(base_url, folder_path, subjects_range)\n"
   ]
  },
  {
   "cell_type": "code",
   "execution_count": null,
   "metadata": {},
   "outputs": [],
   "source": []
  }
 ],
 "metadata": {
  "kernelspec": {
   "display_name": "base",
   "language": "python",
   "name": "python3"
  },
  "language_info": {
   "codemirror_mode": {
    "name": "ipython",
    "version": 3
   },
   "file_extension": ".py",
   "mimetype": "text/x-python",
   "name": "python",
   "nbconvert_exporter": "python",
   "pygments_lexer": "ipython3",
   "version": "3.10.9"
  }
 },
 "nbformat": 4,
 "nbformat_minor": 2
}
